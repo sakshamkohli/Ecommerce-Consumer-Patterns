{
 "cells": [
  {
   "cell_type": "code",
   "execution_count": 2,
   "id": "c7725b64",
   "metadata": {
    "_cell_guid": "b1076dfc-b9ad-4769-8c92-a6c4dae69d19",
    "_uuid": "8f2839f25d086af736a60e9eeb907d3b93b6e0e5",
    "execution": {
     "iopub.execute_input": "2023-01-13T19:51:33.849741Z",
     "iopub.status.busy": "2023-01-13T19:51:33.849204Z",
     "iopub.status.idle": "2023-01-13T19:51:33.864378Z",
     "shell.execute_reply": "2023-01-13T19:51:33.862915Z"
    },
    "papermill": {
     "duration": 0.070235,
     "end_time": "2023-01-13T19:51:33.867446",
     "exception": false,
     "start_time": "2023-01-13T19:51:33.797211",
     "status": "completed"
    },
    "tags": []
   },
   "outputs": [],
   "source": [
    "\n",
    "import numpy as np \n",
    "import pandas as pd \n"
   ]
  },
  {
   "cell_type": "code",
   "execution_count": 3,
   "id": "2553d3ef",
   "metadata": {
    "execution": {
     "iopub.execute_input": "2023-01-13T19:51:33.966604Z",
     "iopub.status.busy": "2023-01-13T19:51:33.965187Z",
     "iopub.status.idle": "2023-01-13T19:51:34.076255Z",
     "shell.execute_reply": "2023-01-13T19:51:34.075224Z"
    },
    "papermill": {
     "duration": 0.162484,
     "end_time": "2023-01-13T19:51:34.079356",
     "exception": false,
     "start_time": "2023-01-13T19:51:33.916872",
     "status": "completed"
    },
    "tags": []
   },
   "outputs": [],
   "source": [
    "td = pd.read_csv(\"train_data_v2.csv\")"
   ]
  },
  {
   "cell_type": "code",
   "execution_count": 4,
   "id": "4b312fef",
   "metadata": {
    "execution": {
     "iopub.execute_input": "2023-01-13T19:51:34.184254Z",
     "iopub.status.busy": "2023-01-13T19:51:34.183284Z",
     "iopub.status.idle": "2023-01-13T19:51:34.234407Z",
     "shell.execute_reply": "2023-01-13T19:51:34.233565Z"
    },
    "papermill": {
     "duration": 0.102503,
     "end_time": "2023-01-13T19:51:34.236943",
     "exception": false,
     "start_time": "2023-01-13T19:51:34.134440",
     "status": "completed"
    },
    "tags": []
   },
   "outputs": [
    {
     "data": {
      "text/html": [
       "<div>\n",
       "<style scoped>\n",
       "    .dataframe tbody tr th:only-of-type {\n",
       "        vertical-align: middle;\n",
       "    }\n",
       "\n",
       "    .dataframe tbody tr th {\n",
       "        vertical-align: top;\n",
       "    }\n",
       "\n",
       "    .dataframe thead th {\n",
       "        text-align: right;\n",
       "    }\n",
       "</style>\n",
       "<table border=\"1\" class=\"dataframe\">\n",
       "  <thead>\n",
       "    <tr style=\"text-align: right;\">\n",
       "      <th></th>\n",
       "      <th>HomePage</th>\n",
       "      <th>HomePage_Duration</th>\n",
       "      <th>LandingPage</th>\n",
       "      <th>LandingPage_Duration</th>\n",
       "      <th>ProductDescriptionPage</th>\n",
       "      <th>ProductDescriptionPage_Duration</th>\n",
       "      <th>GoogleMetric:Bounce Rates</th>\n",
       "      <th>GoogleMetric:Exit Rates</th>\n",
       "      <th>GoogleMetric:Page Values</th>\n",
       "      <th>SeasonalPurchase</th>\n",
       "      <th>...</th>\n",
       "      <th>SearchEngine</th>\n",
       "      <th>Zone</th>\n",
       "      <th>Type of Traffic</th>\n",
       "      <th>CustomerType</th>\n",
       "      <th>Gender</th>\n",
       "      <th>Cookies Setting</th>\n",
       "      <th>Education</th>\n",
       "      <th>Marital Status</th>\n",
       "      <th>WeekendPurchase</th>\n",
       "      <th>Made_Purchase</th>\n",
       "    </tr>\n",
       "  </thead>\n",
       "  <tbody>\n",
       "    <tr>\n",
       "      <th>0</th>\n",
       "      <td>0.0</td>\n",
       "      <td>0.0</td>\n",
       "      <td>0.0</td>\n",
       "      <td>0.0</td>\n",
       "      <td>1.0</td>\n",
       "      <td>0.000000</td>\n",
       "      <td>0.20</td>\n",
       "      <td>0.20</td>\n",
       "      <td>0.0</td>\n",
       "      <td>0.0</td>\n",
       "      <td>...</td>\n",
       "      <td>1.0</td>\n",
       "      <td>9.0</td>\n",
       "      <td>3.0</td>\n",
       "      <td>Returning_Visitor</td>\n",
       "      <td>Not Specified</td>\n",
       "      <td>Deny</td>\n",
       "      <td>Not Specified</td>\n",
       "      <td>Other</td>\n",
       "      <td>0.0</td>\n",
       "      <td>False</td>\n",
       "    </tr>\n",
       "    <tr>\n",
       "      <th>1</th>\n",
       "      <td>0.0</td>\n",
       "      <td>0.0</td>\n",
       "      <td>0.0</td>\n",
       "      <td>0.0</td>\n",
       "      <td>2.0</td>\n",
       "      <td>2.666667</td>\n",
       "      <td>0.05</td>\n",
       "      <td>0.14</td>\n",
       "      <td>0.0</td>\n",
       "      <td>0.0</td>\n",
       "      <td>...</td>\n",
       "      <td>2.0</td>\n",
       "      <td>2.0</td>\n",
       "      <td>4.0</td>\n",
       "      <td>Returning_Visitor</td>\n",
       "      <td>Female</td>\n",
       "      <td>Deny</td>\n",
       "      <td>Others</td>\n",
       "      <td>Married</td>\n",
       "      <td>0.0</td>\n",
       "      <td>False</td>\n",
       "    </tr>\n",
       "    <tr>\n",
       "      <th>2</th>\n",
       "      <td>0.0</td>\n",
       "      <td>0.0</td>\n",
       "      <td>0.0</td>\n",
       "      <td>0.0</td>\n",
       "      <td>10.0</td>\n",
       "      <td>627.500000</td>\n",
       "      <td>0.02</td>\n",
       "      <td>0.05</td>\n",
       "      <td>0.0</td>\n",
       "      <td>0.0</td>\n",
       "      <td>...</td>\n",
       "      <td>3.0</td>\n",
       "      <td>1.0</td>\n",
       "      <td>4.0</td>\n",
       "      <td>Returning_Visitor</td>\n",
       "      <td>Female</td>\n",
       "      <td>ALL</td>\n",
       "      <td>Others</td>\n",
       "      <td>Married</td>\n",
       "      <td>1.0</td>\n",
       "      <td>False</td>\n",
       "    </tr>\n",
       "    <tr>\n",
       "      <th>3</th>\n",
       "      <td>0.0</td>\n",
       "      <td>0.0</td>\n",
       "      <td>0.0</td>\n",
       "      <td>0.0</td>\n",
       "      <td>1.0</td>\n",
       "      <td>0.000000</td>\n",
       "      <td>0.20</td>\n",
       "      <td>0.20</td>\n",
       "      <td>0.0</td>\n",
       "      <td>0.4</td>\n",
       "      <td>...</td>\n",
       "      <td>4.0</td>\n",
       "      <td>3.0</td>\n",
       "      <td>3.0</td>\n",
       "      <td>Returning_Visitor</td>\n",
       "      <td>Male</td>\n",
       "      <td>ALL</td>\n",
       "      <td>Diploma</td>\n",
       "      <td>Single</td>\n",
       "      <td>0.0</td>\n",
       "      <td>False</td>\n",
       "    </tr>\n",
       "    <tr>\n",
       "      <th>4</th>\n",
       "      <td>1.0</td>\n",
       "      <td>0.0</td>\n",
       "      <td>0.0</td>\n",
       "      <td>0.0</td>\n",
       "      <td>0.0</td>\n",
       "      <td>0.000000</td>\n",
       "      <td>0.20</td>\n",
       "      <td>0.20</td>\n",
       "      <td>0.0</td>\n",
       "      <td>0.0</td>\n",
       "      <td>...</td>\n",
       "      <td>2.0</td>\n",
       "      <td>1.0</td>\n",
       "      <td>5.0</td>\n",
       "      <td>Returning_Visitor</td>\n",
       "      <td>Male</td>\n",
       "      <td>Deny</td>\n",
       "      <td>Diploma</td>\n",
       "      <td>Other</td>\n",
       "      <td>1.0</td>\n",
       "      <td>False</td>\n",
       "    </tr>\n",
       "  </tbody>\n",
       "</table>\n",
       "<p>5 rows × 22 columns</p>\n",
       "</div>"
      ],
      "text/plain": [
       "   HomePage  HomePage_Duration  LandingPage  LandingPage_Duration  \\\n",
       "0       0.0                0.0          0.0                   0.0   \n",
       "1       0.0                0.0          0.0                   0.0   \n",
       "2       0.0                0.0          0.0                   0.0   \n",
       "3       0.0                0.0          0.0                   0.0   \n",
       "4       1.0                0.0          0.0                   0.0   \n",
       "\n",
       "   ProductDescriptionPage  ProductDescriptionPage_Duration  \\\n",
       "0                     1.0                         0.000000   \n",
       "1                     2.0                         2.666667   \n",
       "2                    10.0                       627.500000   \n",
       "3                     1.0                         0.000000   \n",
       "4                     0.0                         0.000000   \n",
       "\n",
       "   GoogleMetric:Bounce Rates  GoogleMetric:Exit Rates  \\\n",
       "0                       0.20                     0.20   \n",
       "1                       0.05                     0.14   \n",
       "2                       0.02                     0.05   \n",
       "3                       0.20                     0.20   \n",
       "4                       0.20                     0.20   \n",
       "\n",
       "   GoogleMetric:Page Values  SeasonalPurchase  ... SearchEngine  Zone  \\\n",
       "0                       0.0               0.0  ...          1.0   9.0   \n",
       "1                       0.0               0.0  ...          2.0   2.0   \n",
       "2                       0.0               0.0  ...          3.0   1.0   \n",
       "3                       0.0               0.4  ...          4.0   3.0   \n",
       "4                       0.0               0.0  ...          2.0   1.0   \n",
       "\n",
       "   Type of Traffic       CustomerType         Gender Cookies Setting  \\\n",
       "0              3.0  Returning_Visitor  Not Specified            Deny   \n",
       "1              4.0  Returning_Visitor         Female            Deny   \n",
       "2              4.0  Returning_Visitor         Female             ALL   \n",
       "3              3.0  Returning_Visitor           Male             ALL   \n",
       "4              5.0  Returning_Visitor           Male            Deny   \n",
       "\n",
       "       Education Marital Status WeekendPurchase Made_Purchase  \n",
       "0  Not Specified          Other             0.0         False  \n",
       "1         Others        Married             0.0         False  \n",
       "2         Others        Married             1.0         False  \n",
       "3        Diploma         Single             0.0         False  \n",
       "4        Diploma          Other             1.0         False  \n",
       "\n",
       "[5 rows x 22 columns]"
      ]
     },
     "execution_count": 4,
     "metadata": {},
     "output_type": "execute_result"
    }
   ],
   "source": [
    "td.head()"
   ]
  },
  {
   "cell_type": "code",
   "execution_count": 5,
   "id": "d548dccb",
   "metadata": {
    "execution": {
     "iopub.execute_input": "2023-01-13T19:51:34.336671Z",
     "iopub.status.busy": "2023-01-13T19:51:34.336258Z",
     "iopub.status.idle": "2023-01-13T19:51:34.367812Z",
     "shell.execute_reply": "2023-01-13T19:51:34.366095Z"
    },
    "papermill": {
     "duration": 0.083893,
     "end_time": "2023-01-13T19:51:34.370600",
     "exception": false,
     "start_time": "2023-01-13T19:51:34.286707",
     "status": "completed"
    },
    "tags": []
   },
   "outputs": [
    {
     "name": "stdout",
     "output_type": "stream",
     "text": [
      "<class 'pandas.core.frame.DataFrame'>\n",
      "RangeIndex: 14731 entries, 0 to 14730\n",
      "Data columns (total 22 columns):\n",
      " #   Column                           Non-Null Count  Dtype  \n",
      "---  ------                           --------------  -----  \n",
      " 0   HomePage                         14578 non-null  float64\n",
      " 1   HomePage_Duration                14581 non-null  float64\n",
      " 2   LandingPage                      14578 non-null  float64\n",
      " 3   LandingPage_Duration             14596 non-null  float64\n",
      " 4   ProductDescriptionPage           14608 non-null  float64\n",
      " 5   ProductDescriptionPage_Duration  14564 non-null  float64\n",
      " 6   GoogleMetric:Bounce Rates        14580 non-null  float64\n",
      " 7   GoogleMetric:Exit Rates          14602 non-null  float64\n",
      " 8   GoogleMetric:Page Values         14599 non-null  float64\n",
      " 9   SeasonalPurchase                 14581 non-null  float64\n",
      " 10  Month_SeasonalPurchase           14587 non-null  object \n",
      " 11  OS                               14597 non-null  float64\n",
      " 12  SearchEngine                     14609 non-null  float64\n",
      " 13  Zone                             14614 non-null  float64\n",
      " 14  Type of Traffic                  14588 non-null  float64\n",
      " 15  CustomerType                     14587 non-null  object \n",
      " 16  Gender                           14586 non-null  object \n",
      " 17  Cookies Setting                  14587 non-null  object \n",
      " 18  Education                        14595 non-null  object \n",
      " 19  Marital Status                   14601 non-null  object \n",
      " 20  WeekendPurchase                  14610 non-null  float64\n",
      " 21  Made_Purchase                    14731 non-null  bool   \n",
      "dtypes: bool(1), float64(15), object(6)\n",
      "memory usage: 2.4+ MB\n"
     ]
    }
   ],
   "source": [
    "td.info()"
   ]
  },
  {
   "cell_type": "code",
   "execution_count": 6,
   "id": "b9fd0eea",
   "metadata": {
    "execution": {
     "iopub.execute_input": "2023-01-13T19:51:34.471340Z",
     "iopub.status.busy": "2023-01-13T19:51:34.470686Z",
     "iopub.status.idle": "2023-01-13T19:51:34.476542Z",
     "shell.execute_reply": "2023-01-13T19:51:34.475671Z"
    },
    "papermill": {
     "duration": 0.059864,
     "end_time": "2023-01-13T19:51:34.478622",
     "exception": false,
     "start_time": "2023-01-13T19:51:34.418758",
     "status": "completed"
    },
    "scrolled": true,
    "tags": []
   },
   "outputs": [
    {
     "data": {
      "text/plain": [
       "(14731, 22)"
      ]
     },
     "execution_count": 6,
     "metadata": {},
     "output_type": "execute_result"
    }
   ],
   "source": [
    "td.shape"
   ]
  },
  {
   "cell_type": "code",
   "execution_count": 7,
   "id": "fd57862f",
   "metadata": {
    "execution": {
     "iopub.execute_input": "2023-01-13T19:51:34.578777Z",
     "iopub.status.busy": "2023-01-13T19:51:34.577995Z",
     "iopub.status.idle": "2023-01-13T19:51:34.647907Z",
     "shell.execute_reply": "2023-01-13T19:51:34.646498Z"
    },
    "papermill": {
     "duration": 0.123371,
     "end_time": "2023-01-13T19:51:34.650400",
     "exception": false,
     "start_time": "2023-01-13T19:51:34.527029",
     "status": "completed"
    },
    "tags": []
   },
   "outputs": [
    {
     "data": {
      "text/html": [
       "<div>\n",
       "<style scoped>\n",
       "    .dataframe tbody tr th:only-of-type {\n",
       "        vertical-align: middle;\n",
       "    }\n",
       "\n",
       "    .dataframe tbody tr th {\n",
       "        vertical-align: top;\n",
       "    }\n",
       "\n",
       "    .dataframe thead th {\n",
       "        text-align: right;\n",
       "    }\n",
       "</style>\n",
       "<table border=\"1\" class=\"dataframe\">\n",
       "  <thead>\n",
       "    <tr style=\"text-align: right;\">\n",
       "      <th></th>\n",
       "      <th>HomePage</th>\n",
       "      <th>HomePage_Duration</th>\n",
       "      <th>LandingPage</th>\n",
       "      <th>LandingPage_Duration</th>\n",
       "      <th>ProductDescriptionPage</th>\n",
       "      <th>ProductDescriptionPage_Duration</th>\n",
       "      <th>GoogleMetric:Bounce Rates</th>\n",
       "      <th>GoogleMetric:Exit Rates</th>\n",
       "      <th>GoogleMetric:Page Values</th>\n",
       "      <th>SeasonalPurchase</th>\n",
       "      <th>OS</th>\n",
       "      <th>SearchEngine</th>\n",
       "      <th>Zone</th>\n",
       "      <th>Type of Traffic</th>\n",
       "      <th>WeekendPurchase</th>\n",
       "    </tr>\n",
       "  </thead>\n",
       "  <tbody>\n",
       "    <tr>\n",
       "      <th>count</th>\n",
       "      <td>14578.000000</td>\n",
       "      <td>14581.000000</td>\n",
       "      <td>14578.000000</td>\n",
       "      <td>14596.000000</td>\n",
       "      <td>14608.000000</td>\n",
       "      <td>14564.000000</td>\n",
       "      <td>14580.000000</td>\n",
       "      <td>14602.000000</td>\n",
       "      <td>14599.000000</td>\n",
       "      <td>14581.000000</td>\n",
       "      <td>14597.000000</td>\n",
       "      <td>14609.000000</td>\n",
       "      <td>14614.000000</td>\n",
       "      <td>14588.000000</td>\n",
       "      <td>14610.000000</td>\n",
       "    </tr>\n",
       "    <tr>\n",
       "      <th>mean</th>\n",
       "      <td>2.250240</td>\n",
       "      <td>79.300762</td>\n",
       "      <td>0.490739</td>\n",
       "      <td>33.455943</td>\n",
       "      <td>31.559488</td>\n",
       "      <td>1184.346084</td>\n",
       "      <td>0.023366</td>\n",
       "      <td>0.044664</td>\n",
       "      <td>4.812620</td>\n",
       "      <td>0.064083</td>\n",
       "      <td>2.122422</td>\n",
       "      <td>2.356629</td>\n",
       "      <td>3.155673</td>\n",
       "      <td>4.090143</td>\n",
       "      <td>0.234155</td>\n",
       "    </tr>\n",
       "    <tr>\n",
       "      <th>std</th>\n",
       "      <td>3.288042</td>\n",
       "      <td>179.374699</td>\n",
       "      <td>1.252376</td>\n",
       "      <td>140.146256</td>\n",
       "      <td>44.897089</td>\n",
       "      <td>2009.496307</td>\n",
       "      <td>0.050011</td>\n",
       "      <td>0.049912</td>\n",
       "      <td>16.887366</td>\n",
       "      <td>0.202583</td>\n",
       "      <td>0.914404</td>\n",
       "      <td>1.721823</td>\n",
       "      <td>2.405155</td>\n",
       "      <td>4.040147</td>\n",
       "      <td>0.423484</td>\n",
       "    </tr>\n",
       "    <tr>\n",
       "      <th>min</th>\n",
       "      <td>0.000000</td>\n",
       "      <td>0.000000</td>\n",
       "      <td>0.000000</td>\n",
       "      <td>0.000000</td>\n",
       "      <td>0.000000</td>\n",
       "      <td>0.000000</td>\n",
       "      <td>0.000000</td>\n",
       "      <td>0.000000</td>\n",
       "      <td>0.000000</td>\n",
       "      <td>0.000000</td>\n",
       "      <td>1.000000</td>\n",
       "      <td>1.000000</td>\n",
       "      <td>1.000000</td>\n",
       "      <td>1.000000</td>\n",
       "      <td>0.000000</td>\n",
       "    </tr>\n",
       "    <tr>\n",
       "      <th>25%</th>\n",
       "      <td>0.000000</td>\n",
       "      <td>0.000000</td>\n",
       "      <td>0.000000</td>\n",
       "      <td>0.000000</td>\n",
       "      <td>7.000000</td>\n",
       "      <td>173.187500</td>\n",
       "      <td>0.000000</td>\n",
       "      <td>0.014502</td>\n",
       "      <td>0.000000</td>\n",
       "      <td>0.000000</td>\n",
       "      <td>2.000000</td>\n",
       "      <td>2.000000</td>\n",
       "      <td>1.000000</td>\n",
       "      <td>2.000000</td>\n",
       "      <td>0.000000</td>\n",
       "    </tr>\n",
       "    <tr>\n",
       "      <th>50%</th>\n",
       "      <td>1.000000</td>\n",
       "      <td>5.000000</td>\n",
       "      <td>0.000000</td>\n",
       "      <td>0.000000</td>\n",
       "      <td>17.500000</td>\n",
       "      <td>584.333333</td>\n",
       "      <td>0.003478</td>\n",
       "      <td>0.026406</td>\n",
       "      <td>0.000000</td>\n",
       "      <td>0.000000</td>\n",
       "      <td>2.000000</td>\n",
       "      <td>2.000000</td>\n",
       "      <td>3.000000</td>\n",
       "      <td>2.000000</td>\n",
       "      <td>0.000000</td>\n",
       "    </tr>\n",
       "    <tr>\n",
       "      <th>75%</th>\n",
       "      <td>3.000000</td>\n",
       "      <td>91.000000</td>\n",
       "      <td>0.000000</td>\n",
       "      <td>0.000000</td>\n",
       "      <td>38.000000</td>\n",
       "      <td>1434.255128</td>\n",
       "      <td>0.018182</td>\n",
       "      <td>0.050000</td>\n",
       "      <td>0.000000</td>\n",
       "      <td>0.000000</td>\n",
       "      <td>3.000000</td>\n",
       "      <td>2.000000</td>\n",
       "      <td>4.000000</td>\n",
       "      <td>4.000000</td>\n",
       "      <td>0.000000</td>\n",
       "    </tr>\n",
       "    <tr>\n",
       "      <th>max</th>\n",
       "      <td>27.000000</td>\n",
       "      <td>3398.750000</td>\n",
       "      <td>24.000000</td>\n",
       "      <td>2549.375000</td>\n",
       "      <td>705.000000</td>\n",
       "      <td>63973.522230</td>\n",
       "      <td>0.200000</td>\n",
       "      <td>0.200000</td>\n",
       "      <td>361.763742</td>\n",
       "      <td>1.000000</td>\n",
       "      <td>8.000000</td>\n",
       "      <td>13.000000</td>\n",
       "      <td>9.000000</td>\n",
       "      <td>20.000000</td>\n",
       "      <td>1.000000</td>\n",
       "    </tr>\n",
       "  </tbody>\n",
       "</table>\n",
       "</div>"
      ],
      "text/plain": [
       "           HomePage  HomePage_Duration   LandingPage  LandingPage_Duration  \\\n",
       "count  14578.000000       14581.000000  14578.000000          14596.000000   \n",
       "mean       2.250240          79.300762      0.490739             33.455943   \n",
       "std        3.288042         179.374699      1.252376            140.146256   \n",
       "min        0.000000           0.000000      0.000000              0.000000   \n",
       "25%        0.000000           0.000000      0.000000              0.000000   \n",
       "50%        1.000000           5.000000      0.000000              0.000000   \n",
       "75%        3.000000          91.000000      0.000000              0.000000   \n",
       "max       27.000000        3398.750000     24.000000           2549.375000   \n",
       "\n",
       "       ProductDescriptionPage  ProductDescriptionPage_Duration  \\\n",
       "count            14608.000000                     14564.000000   \n",
       "mean                31.559488                      1184.346084   \n",
       "std                 44.897089                      2009.496307   \n",
       "min                  0.000000                         0.000000   \n",
       "25%                  7.000000                       173.187500   \n",
       "50%                 17.500000                       584.333333   \n",
       "75%                 38.000000                      1434.255128   \n",
       "max                705.000000                     63973.522230   \n",
       "\n",
       "       GoogleMetric:Bounce Rates  GoogleMetric:Exit Rates  \\\n",
       "count               14580.000000             14602.000000   \n",
       "mean                    0.023366                 0.044664   \n",
       "std                     0.050011                 0.049912   \n",
       "min                     0.000000                 0.000000   \n",
       "25%                     0.000000                 0.014502   \n",
       "50%                     0.003478                 0.026406   \n",
       "75%                     0.018182                 0.050000   \n",
       "max                     0.200000                 0.200000   \n",
       "\n",
       "       GoogleMetric:Page Values  SeasonalPurchase            OS  SearchEngine  \\\n",
       "count              14599.000000      14581.000000  14597.000000  14609.000000   \n",
       "mean                   4.812620          0.064083      2.122422      2.356629   \n",
       "std                   16.887366          0.202583      0.914404      1.721823   \n",
       "min                    0.000000          0.000000      1.000000      1.000000   \n",
       "25%                    0.000000          0.000000      2.000000      2.000000   \n",
       "50%                    0.000000          0.000000      2.000000      2.000000   \n",
       "75%                    0.000000          0.000000      3.000000      2.000000   \n",
       "max                  361.763742          1.000000      8.000000     13.000000   \n",
       "\n",
       "               Zone  Type of Traffic  WeekendPurchase  \n",
       "count  14614.000000     14588.000000     14610.000000  \n",
       "mean       3.155673         4.090143         0.234155  \n",
       "std        2.405155         4.040147         0.423484  \n",
       "min        1.000000         1.000000         0.000000  \n",
       "25%        1.000000         2.000000         0.000000  \n",
       "50%        3.000000         2.000000         0.000000  \n",
       "75%        4.000000         4.000000         0.000000  \n",
       "max        9.000000        20.000000         1.000000  "
      ]
     },
     "execution_count": 7,
     "metadata": {},
     "output_type": "execute_result"
    }
   ],
   "source": [
    "td.describe()"
   ]
  },
  {
   "cell_type": "code",
   "execution_count": 8,
   "id": "3528972e",
   "metadata": {
    "execution": {
     "iopub.execute_input": "2023-01-13T19:51:34.750608Z",
     "iopub.status.busy": "2023-01-13T19:51:34.750122Z",
     "iopub.status.idle": "2023-01-13T19:51:36.115418Z",
     "shell.execute_reply": "2023-01-13T19:51:36.113849Z"
    },
    "papermill": {
     "duration": 1.41879,
     "end_time": "2023-01-13T19:51:36.118397",
     "exception": false,
     "start_time": "2023-01-13T19:51:34.699607",
     "status": "completed"
    },
    "tags": []
   },
   "outputs": [],
   "source": [
    "from sklearn.impute import SimpleImputer"
   ]
  },
  {
   "cell_type": "code",
   "execution_count": 9,
   "id": "643b5f0e",
   "metadata": {
    "execution": {
     "iopub.execute_input": "2023-01-13T19:51:36.218685Z",
     "iopub.status.busy": "2023-01-13T19:51:36.218152Z",
     "iopub.status.idle": "2023-01-13T19:51:36.224043Z",
     "shell.execute_reply": "2023-01-13T19:51:36.223133Z"
    },
    "papermill": {
     "duration": 0.058775,
     "end_time": "2023-01-13T19:51:36.226063",
     "exception": false,
     "start_time": "2023-01-13T19:51:36.167288",
     "status": "completed"
    },
    "tags": []
   },
   "outputs": [],
   "source": [
    "imputer = SimpleImputer(strategy=\"median\",add_indicator=True)"
   ]
  },
  {
   "cell_type": "code",
   "execution_count": 10,
   "id": "c59fe7c9",
   "metadata": {
    "execution": {
     "iopub.execute_input": "2023-01-13T19:51:36.325927Z",
     "iopub.status.busy": "2023-01-13T19:51:36.324962Z",
     "iopub.status.idle": "2023-01-13T19:51:36.334403Z",
     "shell.execute_reply": "2023-01-13T19:51:36.333579Z"
    },
    "papermill": {
     "duration": 0.062612,
     "end_time": "2023-01-13T19:51:36.336816",
     "exception": false,
     "start_time": "2023-01-13T19:51:36.274204",
     "status": "completed"
    },
    "tags": []
   },
   "outputs": [],
   "source": [
    "td1= td.copy(deep=True)"
   ]
  },
  {
   "cell_type": "code",
   "execution_count": 11,
   "id": "e32318ed",
   "metadata": {
    "execution": {
     "iopub.execute_input": "2023-01-13T19:51:36.438626Z",
     "iopub.status.busy": "2023-01-13T19:51:36.437842Z",
     "iopub.status.idle": "2023-01-13T19:51:36.446859Z",
     "shell.execute_reply": "2023-01-13T19:51:36.445642Z"
    },
    "papermill": {
     "duration": 0.062066,
     "end_time": "2023-01-13T19:51:36.449147",
     "exception": false,
     "start_time": "2023-01-13T19:51:36.387081",
     "status": "completed"
    },
    "tags": []
   },
   "outputs": [],
   "source": [
    "td3 = td.copy(deep=True)"
   ]
  },
  {
   "cell_type": "code",
   "execution_count": 12,
   "id": "cf30082c",
   "metadata": {
    "execution": {
     "iopub.execute_input": "2023-01-13T19:51:36.551563Z",
     "iopub.status.busy": "2023-01-13T19:51:36.550796Z",
     "iopub.status.idle": "2023-01-13T19:51:36.600837Z",
     "shell.execute_reply": "2023-01-13T19:51:36.599618Z"
    },
    "papermill": {
     "duration": 0.103669,
     "end_time": "2023-01-13T19:51:36.603563",
     "exception": false,
     "start_time": "2023-01-13T19:51:36.499894",
     "status": "completed"
    },
    "tags": []
   },
   "outputs": [
    {
     "data": {
      "text/html": [
       "<div>\n",
       "<style scoped>\n",
       "    .dataframe tbody tr th:only-of-type {\n",
       "        vertical-align: middle;\n",
       "    }\n",
       "\n",
       "    .dataframe tbody tr th {\n",
       "        vertical-align: top;\n",
       "    }\n",
       "\n",
       "    .dataframe thead th {\n",
       "        text-align: right;\n",
       "    }\n",
       "</style>\n",
       "<table border=\"1\" class=\"dataframe\">\n",
       "  <thead>\n",
       "    <tr style=\"text-align: right;\">\n",
       "      <th></th>\n",
       "      <th>HomePage</th>\n",
       "      <th>HomePage_Duration</th>\n",
       "      <th>LandingPage</th>\n",
       "      <th>LandingPage_Duration</th>\n",
       "      <th>ProductDescriptionPage</th>\n",
       "      <th>ProductDescriptionPage_Duration</th>\n",
       "      <th>GoogleMetric:Bounce Rates</th>\n",
       "      <th>GoogleMetric:Exit Rates</th>\n",
       "      <th>GoogleMetric:Page Values</th>\n",
       "      <th>SeasonalPurchase</th>\n",
       "      <th>...</th>\n",
       "      <th>SearchEngine</th>\n",
       "      <th>Zone</th>\n",
       "      <th>Type of Traffic</th>\n",
       "      <th>CustomerType</th>\n",
       "      <th>Gender</th>\n",
       "      <th>Cookies Setting</th>\n",
       "      <th>Education</th>\n",
       "      <th>Marital Status</th>\n",
       "      <th>WeekendPurchase</th>\n",
       "      <th>Made_Purchase</th>\n",
       "    </tr>\n",
       "  </thead>\n",
       "  <tbody>\n",
       "    <tr>\n",
       "      <th>0</th>\n",
       "      <td>0.0</td>\n",
       "      <td>0.000000</td>\n",
       "      <td>0.0</td>\n",
       "      <td>0.0</td>\n",
       "      <td>1.0</td>\n",
       "      <td>0.000000</td>\n",
       "      <td>0.200000</td>\n",
       "      <td>0.200000</td>\n",
       "      <td>0.0</td>\n",
       "      <td>0.0</td>\n",
       "      <td>...</td>\n",
       "      <td>1.0</td>\n",
       "      <td>9.0</td>\n",
       "      <td>3.0</td>\n",
       "      <td>Returning_Visitor</td>\n",
       "      <td>Not Specified</td>\n",
       "      <td>Deny</td>\n",
       "      <td>Not Specified</td>\n",
       "      <td>Other</td>\n",
       "      <td>0.0</td>\n",
       "      <td>False</td>\n",
       "    </tr>\n",
       "    <tr>\n",
       "      <th>1</th>\n",
       "      <td>0.0</td>\n",
       "      <td>0.000000</td>\n",
       "      <td>0.0</td>\n",
       "      <td>0.0</td>\n",
       "      <td>2.0</td>\n",
       "      <td>2.666667</td>\n",
       "      <td>0.050000</td>\n",
       "      <td>0.140000</td>\n",
       "      <td>0.0</td>\n",
       "      <td>0.0</td>\n",
       "      <td>...</td>\n",
       "      <td>2.0</td>\n",
       "      <td>2.0</td>\n",
       "      <td>4.0</td>\n",
       "      <td>Returning_Visitor</td>\n",
       "      <td>Female</td>\n",
       "      <td>Deny</td>\n",
       "      <td>Others</td>\n",
       "      <td>Married</td>\n",
       "      <td>0.0</td>\n",
       "      <td>False</td>\n",
       "    </tr>\n",
       "    <tr>\n",
       "      <th>2</th>\n",
       "      <td>0.0</td>\n",
       "      <td>0.000000</td>\n",
       "      <td>0.0</td>\n",
       "      <td>0.0</td>\n",
       "      <td>10.0</td>\n",
       "      <td>627.500000</td>\n",
       "      <td>0.020000</td>\n",
       "      <td>0.050000</td>\n",
       "      <td>0.0</td>\n",
       "      <td>0.0</td>\n",
       "      <td>...</td>\n",
       "      <td>3.0</td>\n",
       "      <td>1.0</td>\n",
       "      <td>4.0</td>\n",
       "      <td>Returning_Visitor</td>\n",
       "      <td>Female</td>\n",
       "      <td>ALL</td>\n",
       "      <td>Others</td>\n",
       "      <td>Married</td>\n",
       "      <td>1.0</td>\n",
       "      <td>False</td>\n",
       "    </tr>\n",
       "    <tr>\n",
       "      <th>3</th>\n",
       "      <td>0.0</td>\n",
       "      <td>0.000000</td>\n",
       "      <td>0.0</td>\n",
       "      <td>0.0</td>\n",
       "      <td>1.0</td>\n",
       "      <td>0.000000</td>\n",
       "      <td>0.200000</td>\n",
       "      <td>0.200000</td>\n",
       "      <td>0.0</td>\n",
       "      <td>0.4</td>\n",
       "      <td>...</td>\n",
       "      <td>4.0</td>\n",
       "      <td>3.0</td>\n",
       "      <td>3.0</td>\n",
       "      <td>Returning_Visitor</td>\n",
       "      <td>Male</td>\n",
       "      <td>ALL</td>\n",
       "      <td>Diploma</td>\n",
       "      <td>Single</td>\n",
       "      <td>0.0</td>\n",
       "      <td>False</td>\n",
       "    </tr>\n",
       "    <tr>\n",
       "      <th>4</th>\n",
       "      <td>1.0</td>\n",
       "      <td>0.000000</td>\n",
       "      <td>0.0</td>\n",
       "      <td>0.0</td>\n",
       "      <td>0.0</td>\n",
       "      <td>0.000000</td>\n",
       "      <td>0.200000</td>\n",
       "      <td>0.200000</td>\n",
       "      <td>0.0</td>\n",
       "      <td>0.0</td>\n",
       "      <td>...</td>\n",
       "      <td>2.0</td>\n",
       "      <td>1.0</td>\n",
       "      <td>5.0</td>\n",
       "      <td>Returning_Visitor</td>\n",
       "      <td>Male</td>\n",
       "      <td>Deny</td>\n",
       "      <td>Diploma</td>\n",
       "      <td>Other</td>\n",
       "      <td>1.0</td>\n",
       "      <td>False</td>\n",
       "    </tr>\n",
       "    <tr>\n",
       "      <th>...</th>\n",
       "      <td>...</td>\n",
       "      <td>...</td>\n",
       "      <td>...</td>\n",
       "      <td>...</td>\n",
       "      <td>...</td>\n",
       "      <td>...</td>\n",
       "      <td>...</td>\n",
       "      <td>...</td>\n",
       "      <td>...</td>\n",
       "      <td>...</td>\n",
       "      <td>...</td>\n",
       "      <td>...</td>\n",
       "      <td>...</td>\n",
       "      <td>...</td>\n",
       "      <td>...</td>\n",
       "      <td>...</td>\n",
       "      <td>...</td>\n",
       "      <td>...</td>\n",
       "      <td>...</td>\n",
       "      <td>...</td>\n",
       "      <td>...</td>\n",
       "    </tr>\n",
       "    <tr>\n",
       "      <th>14726</th>\n",
       "      <td>1.0</td>\n",
       "      <td>4.000000</td>\n",
       "      <td>0.0</td>\n",
       "      <td>0.0</td>\n",
       "      <td>39.0</td>\n",
       "      <td>983.138889</td>\n",
       "      <td>0.015385</td>\n",
       "      <td>0.017599</td>\n",
       "      <td>0.0</td>\n",
       "      <td>0.0</td>\n",
       "      <td>...</td>\n",
       "      <td>2.0</td>\n",
       "      <td>6.0</td>\n",
       "      <td>3.0</td>\n",
       "      <td>Returning_Visitor</td>\n",
       "      <td>Female</td>\n",
       "      <td>Deny</td>\n",
       "      <td>NaN</td>\n",
       "      <td>Married</td>\n",
       "      <td>0.0</td>\n",
       "      <td>True</td>\n",
       "    </tr>\n",
       "    <tr>\n",
       "      <th>14727</th>\n",
       "      <td>8.0</td>\n",
       "      <td>117.023809</td>\n",
       "      <td>2.0</td>\n",
       "      <td>57.0</td>\n",
       "      <td>11.0</td>\n",
       "      <td>252.892857</td>\n",
       "      <td>0.000000</td>\n",
       "      <td>0.011078</td>\n",
       "      <td>0.0</td>\n",
       "      <td>0.0</td>\n",
       "      <td>...</td>\n",
       "      <td>2.0</td>\n",
       "      <td>2.0</td>\n",
       "      <td>4.0</td>\n",
       "      <td>Returning_Visitor</td>\n",
       "      <td>Not Specified</td>\n",
       "      <td>ALL</td>\n",
       "      <td>Diploma</td>\n",
       "      <td>Married</td>\n",
       "      <td>0.0</td>\n",
       "      <td>True</td>\n",
       "    </tr>\n",
       "    <tr>\n",
       "      <th>14728</th>\n",
       "      <td>2.0</td>\n",
       "      <td>75.600000</td>\n",
       "      <td>2.0</td>\n",
       "      <td>652.8</td>\n",
       "      <td>10.0</td>\n",
       "      <td>1143.666667</td>\n",
       "      <td>0.000000</td>\n",
       "      <td>0.023333</td>\n",
       "      <td>0.0</td>\n",
       "      <td>0.0</td>\n",
       "      <td>...</td>\n",
       "      <td>2.0</td>\n",
       "      <td>4.0</td>\n",
       "      <td>2.0</td>\n",
       "      <td>Returning_Visitor</td>\n",
       "      <td>Not Specified</td>\n",
       "      <td>Required</td>\n",
       "      <td>Others</td>\n",
       "      <td>Single</td>\n",
       "      <td>0.0</td>\n",
       "      <td>True</td>\n",
       "    </tr>\n",
       "    <tr>\n",
       "      <th>14729</th>\n",
       "      <td>0.0</td>\n",
       "      <td>0.000000</td>\n",
       "      <td>0.0</td>\n",
       "      <td>0.0</td>\n",
       "      <td>6.0</td>\n",
       "      <td>1057.000000</td>\n",
       "      <td>0.000000</td>\n",
       "      <td>0.033333</td>\n",
       "      <td>0.0</td>\n",
       "      <td>0.0</td>\n",
       "      <td>...</td>\n",
       "      <td>4.0</td>\n",
       "      <td>4.0</td>\n",
       "      <td>1.0</td>\n",
       "      <td>Returning_Visitor</td>\n",
       "      <td>Not Specified</td>\n",
       "      <td>Required</td>\n",
       "      <td>Not Specified</td>\n",
       "      <td>Married</td>\n",
       "      <td>0.0</td>\n",
       "      <td>True</td>\n",
       "    </tr>\n",
       "    <tr>\n",
       "      <th>14730</th>\n",
       "      <td>0.0</td>\n",
       "      <td>0.000000</td>\n",
       "      <td>0.0</td>\n",
       "      <td>0.0</td>\n",
       "      <td>21.0</td>\n",
       "      <td>1372.700000</td>\n",
       "      <td>0.019048</td>\n",
       "      <td>0.035714</td>\n",
       "      <td>0.0</td>\n",
       "      <td>0.0</td>\n",
       "      <td>...</td>\n",
       "      <td>1.0</td>\n",
       "      <td>3.0</td>\n",
       "      <td>1.0</td>\n",
       "      <td>Returning_Visitor</td>\n",
       "      <td>Female</td>\n",
       "      <td>ALL</td>\n",
       "      <td>Diploma</td>\n",
       "      <td>Other</td>\n",
       "      <td>0.0</td>\n",
       "      <td>True</td>\n",
       "    </tr>\n",
       "  </tbody>\n",
       "</table>\n",
       "<p>14731 rows × 22 columns</p>\n",
       "</div>"
      ],
      "text/plain": [
       "       HomePage  HomePage_Duration  LandingPage  LandingPage_Duration  \\\n",
       "0           0.0           0.000000          0.0                   0.0   \n",
       "1           0.0           0.000000          0.0                   0.0   \n",
       "2           0.0           0.000000          0.0                   0.0   \n",
       "3           0.0           0.000000          0.0                   0.0   \n",
       "4           1.0           0.000000          0.0                   0.0   \n",
       "...         ...                ...          ...                   ...   \n",
       "14726       1.0           4.000000          0.0                   0.0   \n",
       "14727       8.0         117.023809          2.0                  57.0   \n",
       "14728       2.0          75.600000          2.0                 652.8   \n",
       "14729       0.0           0.000000          0.0                   0.0   \n",
       "14730       0.0           0.000000          0.0                   0.0   \n",
       "\n",
       "       ProductDescriptionPage  ProductDescriptionPage_Duration  \\\n",
       "0                         1.0                         0.000000   \n",
       "1                         2.0                         2.666667   \n",
       "2                        10.0                       627.500000   \n",
       "3                         1.0                         0.000000   \n",
       "4                         0.0                         0.000000   \n",
       "...                       ...                              ...   \n",
       "14726                    39.0                       983.138889   \n",
       "14727                    11.0                       252.892857   \n",
       "14728                    10.0                      1143.666667   \n",
       "14729                     6.0                      1057.000000   \n",
       "14730                    21.0                      1372.700000   \n",
       "\n",
       "       GoogleMetric:Bounce Rates  GoogleMetric:Exit Rates  \\\n",
       "0                       0.200000                 0.200000   \n",
       "1                       0.050000                 0.140000   \n",
       "2                       0.020000                 0.050000   \n",
       "3                       0.200000                 0.200000   \n",
       "4                       0.200000                 0.200000   \n",
       "...                          ...                      ...   \n",
       "14726                   0.015385                 0.017599   \n",
       "14727                   0.000000                 0.011078   \n",
       "14728                   0.000000                 0.023333   \n",
       "14729                   0.000000                 0.033333   \n",
       "14730                   0.019048                 0.035714   \n",
       "\n",
       "       GoogleMetric:Page Values  SeasonalPurchase  ... SearchEngine  Zone  \\\n",
       "0                           0.0               0.0  ...          1.0   9.0   \n",
       "1                           0.0               0.0  ...          2.0   2.0   \n",
       "2                           0.0               0.0  ...          3.0   1.0   \n",
       "3                           0.0               0.4  ...          4.0   3.0   \n",
       "4                           0.0               0.0  ...          2.0   1.0   \n",
       "...                         ...               ...  ...          ...   ...   \n",
       "14726                       0.0               0.0  ...          2.0   6.0   \n",
       "14727                       0.0               0.0  ...          2.0   2.0   \n",
       "14728                       0.0               0.0  ...          2.0   4.0   \n",
       "14729                       0.0               0.0  ...          4.0   4.0   \n",
       "14730                       0.0               0.0  ...          1.0   3.0   \n",
       "\n",
       "       Type of Traffic       CustomerType         Gender Cookies Setting  \\\n",
       "0                  3.0  Returning_Visitor  Not Specified            Deny   \n",
       "1                  4.0  Returning_Visitor         Female            Deny   \n",
       "2                  4.0  Returning_Visitor         Female             ALL   \n",
       "3                  3.0  Returning_Visitor           Male             ALL   \n",
       "4                  5.0  Returning_Visitor           Male            Deny   \n",
       "...                ...                ...            ...             ...   \n",
       "14726              3.0  Returning_Visitor         Female            Deny   \n",
       "14727              4.0  Returning_Visitor  Not Specified             ALL   \n",
       "14728              2.0  Returning_Visitor  Not Specified        Required   \n",
       "14729              1.0  Returning_Visitor  Not Specified        Required   \n",
       "14730              1.0  Returning_Visitor         Female             ALL   \n",
       "\n",
       "           Education Marital Status WeekendPurchase Made_Purchase  \n",
       "0      Not Specified          Other             0.0         False  \n",
       "1             Others        Married             0.0         False  \n",
       "2             Others        Married             1.0         False  \n",
       "3            Diploma         Single             0.0         False  \n",
       "4            Diploma          Other             1.0         False  \n",
       "...              ...            ...             ...           ...  \n",
       "14726            NaN        Married             0.0          True  \n",
       "14727        Diploma        Married             0.0          True  \n",
       "14728         Others         Single             0.0          True  \n",
       "14729  Not Specified        Married             0.0          True  \n",
       "14730        Diploma          Other             0.0          True  \n",
       "\n",
       "[14731 rows x 22 columns]"
      ]
     },
     "execution_count": 12,
     "metadata": {},
     "output_type": "execute_result"
    }
   ],
   "source": [
    "td3"
   ]
  },
  {
   "cell_type": "code",
   "execution_count": 13,
   "id": "c99b5842",
   "metadata": {
    "execution": {
     "iopub.execute_input": "2023-01-13T19:51:36.704972Z",
     "iopub.status.busy": "2023-01-13T19:51:36.704167Z",
     "iopub.status.idle": "2023-01-13T19:51:36.724196Z",
     "shell.execute_reply": "2023-01-13T19:51:36.723001Z"
    },
    "papermill": {
     "duration": 0.074537,
     "end_time": "2023-01-13T19:51:36.727136",
     "exception": false,
     "start_time": "2023-01-13T19:51:36.652599",
     "status": "completed"
    },
    "tags": []
   },
   "outputs": [
    {
     "name": "stdout",
     "output_type": "stream",
     "text": [
      "<class 'pandas.core.frame.DataFrame'>\n",
      "RangeIndex: 14731 entries, 0 to 14730\n",
      "Data columns (total 22 columns):\n",
      " #   Column                           Non-Null Count  Dtype  \n",
      "---  ------                           --------------  -----  \n",
      " 0   HomePage                         14578 non-null  float64\n",
      " 1   HomePage_Duration                14581 non-null  float64\n",
      " 2   LandingPage                      14578 non-null  float64\n",
      " 3   LandingPage_Duration             14596 non-null  float64\n",
      " 4   ProductDescriptionPage           14608 non-null  float64\n",
      " 5   ProductDescriptionPage_Duration  14564 non-null  float64\n",
      " 6   GoogleMetric:Bounce Rates        14580 non-null  float64\n",
      " 7   GoogleMetric:Exit Rates          14602 non-null  float64\n",
      " 8   GoogleMetric:Page Values         14599 non-null  float64\n",
      " 9   SeasonalPurchase                 14581 non-null  float64\n",
      " 10  Month_SeasonalPurchase           14587 non-null  object \n",
      " 11  OS                               14597 non-null  float64\n",
      " 12  SearchEngine                     14609 non-null  float64\n",
      " 13  Zone                             14614 non-null  float64\n",
      " 14  Type of Traffic                  14588 non-null  float64\n",
      " 15  CustomerType                     14587 non-null  object \n",
      " 16  Gender                           14586 non-null  object \n",
      " 17  Cookies Setting                  14587 non-null  object \n",
      " 18  Education                        14595 non-null  object \n",
      " 19  Marital Status                   14601 non-null  object \n",
      " 20  WeekendPurchase                  14610 non-null  float64\n",
      " 21  Made_Purchase                    14731 non-null  bool   \n",
      "dtypes: bool(1), float64(15), object(6)\n",
      "memory usage: 2.4+ MB\n"
     ]
    }
   ],
   "source": [
    "td3.info()"
   ]
  },
  {
   "cell_type": "code",
   "execution_count": 14,
   "id": "7bef6816",
   "metadata": {
    "execution": {
     "iopub.execute_input": "2023-01-13T19:51:36.829472Z",
     "iopub.status.busy": "2023-01-13T19:51:36.828611Z",
     "iopub.status.idle": "2023-01-13T19:51:36.835911Z",
     "shell.execute_reply": "2023-01-13T19:51:36.834844Z"
    },
    "papermill": {
     "duration": 0.061002,
     "end_time": "2023-01-13T19:51:36.838048",
     "exception": false,
     "start_time": "2023-01-13T19:51:36.777046",
     "status": "completed"
    },
    "tags": []
   },
   "outputs": [
    {
     "data": {
      "text/plain": [
       "(14731, 22)"
      ]
     },
     "execution_count": 14,
     "metadata": {},
     "output_type": "execute_result"
    }
   ],
   "source": [
    "td3.shape"
   ]
  },
  {
   "cell_type": "code",
   "execution_count": 15,
   "id": "d9cfa442",
   "metadata": {
    "execution": {
     "iopub.execute_input": "2023-01-13T19:51:36.942017Z",
     "iopub.status.busy": "2023-01-13T19:51:36.941022Z",
     "iopub.status.idle": "2023-01-13T19:51:36.948856Z",
     "shell.execute_reply": "2023-01-13T19:51:36.947769Z"
    },
    "papermill": {
     "duration": 0.062096,
     "end_time": "2023-01-13T19:51:36.951010",
     "exception": false,
     "start_time": "2023-01-13T19:51:36.888914",
     "status": "completed"
    },
    "tags": []
   },
   "outputs": [
    {
     "data": {
      "text/plain": [
       "Index(['HomePage', 'HomePage_Duration', 'LandingPage', 'LandingPage_Duration',\n",
       "       'ProductDescriptionPage', 'ProductDescriptionPage_Duration',\n",
       "       'GoogleMetric:Bounce Rates', 'GoogleMetric:Exit Rates',\n",
       "       'GoogleMetric:Page Values', 'SeasonalPurchase',\n",
       "       'Month_SeasonalPurchase', 'OS', 'SearchEngine', 'Zone',\n",
       "       'Type of Traffic', 'CustomerType', 'Gender', 'Cookies Setting',\n",
       "       'Education', 'Marital Status', 'WeekendPurchase', 'Made_Purchase'],\n",
       "      dtype='object')"
      ]
     },
     "execution_count": 15,
     "metadata": {},
     "output_type": "execute_result"
    }
   ],
   "source": [
    "td3.columns"
   ]
  },
  {
   "cell_type": "code",
   "execution_count": 16,
   "id": "3b9283a9",
   "metadata": {
    "execution": {
     "iopub.execute_input": "2023-01-13T19:51:37.054497Z",
     "iopub.status.busy": "2023-01-13T19:51:37.053753Z",
     "iopub.status.idle": "2023-01-13T19:51:37.063343Z",
     "shell.execute_reply": "2023-01-13T19:51:37.062075Z"
    },
    "papermill": {
     "duration": 0.064667,
     "end_time": "2023-01-13T19:51:37.065938",
     "exception": false,
     "start_time": "2023-01-13T19:51:37.001271",
     "status": "completed"
    },
    "tags": []
   },
   "outputs": [
    {
     "data": {
      "text/plain": [
       "(array([ 8627,  8699,  8743,  8760,  8779,  8783,  8788,  8813,  8891,\n",
       "         8922,  8938,  8990,  9004,  9032,  9043,  9047,  9057,  9058,\n",
       "         9065,  9074,  9077,  9091,  9112,  9116,  9154,  9156,  9163,\n",
       "         9175,  9177,  9185,  9196,  9216,  9221,  9230,  9304,  9310,\n",
       "         9313,  9314,  9317,  9321,  9329,  9351,  9412,  9416,  9427,\n",
       "         9517,  9544,  9556,  9561,  9586,  9594,  9641,  9655,  9712,\n",
       "         9718,  9720,  9818,  9844,  9849,  9882,  9883,  9888,  9891,\n",
       "         9905,  9908,  9934, 10016, 10039, 10040, 10073, 10088, 10100,\n",
       "        10117, 10159, 10178, 10182, 10189, 10203, 10233, 10234, 10260,\n",
       "        10262, 10306, 10318, 10342, 10356, 10407, 10422, 10432, 10445,\n",
       "        10457, 10463, 10471, 10479, 10511, 10516, 10540, 10542, 10560,\n",
       "        10586, 10597, 10621, 10640, 10679, 10682, 10692, 10700, 10776,\n",
       "        10845, 10925, 11018, 11086, 11323, 11337, 11505, 11524, 11544,\n",
       "        11553, 11588, 11688, 11718, 11721, 11730, 11774, 11776, 11809,\n",
       "        11817, 11998, 12064, 12239, 12420, 12446, 12458, 12470, 12626,\n",
       "        12703, 12772, 12775, 13466, 13488, 13519, 13682, 13754, 13822,\n",
       "        13904, 13923, 14004, 14228, 14292, 14383, 14542, 14597, 14617],\n",
       "       dtype=int64),)"
      ]
     },
     "execution_count": 16,
     "metadata": {},
     "output_type": "execute_result"
    }
   ],
   "source": [
    "np.where(td3['HomePage'].isnull())"
   ]
  },
  {
   "cell_type": "code",
   "execution_count": 17,
   "id": "95d6e53c",
   "metadata": {
    "execution": {
     "iopub.execute_input": "2023-01-13T19:51:37.169131Z",
     "iopub.status.busy": "2023-01-13T19:51:37.168042Z",
     "iopub.status.idle": "2023-01-13T19:51:37.175897Z",
     "shell.execute_reply": "2023-01-13T19:51:37.174714Z"
    },
    "papermill": {
     "duration": 0.061527,
     "end_time": "2023-01-13T19:51:37.178145",
     "exception": false,
     "start_time": "2023-01-13T19:51:37.116618",
     "status": "completed"
    },
    "tags": []
   },
   "outputs": [
    {
     "data": {
      "text/plain": [
       "nan"
      ]
     },
     "execution_count": 17,
     "metadata": {},
     "output_type": "execute_result"
    }
   ],
   "source": [
    "td3['HomePage'][8627]"
   ]
  },
  {
   "cell_type": "code",
   "execution_count": 18,
   "id": "f9f428e5",
   "metadata": {
    "execution": {
     "iopub.execute_input": "2023-01-13T19:51:37.280066Z",
     "iopub.status.busy": "2023-01-13T19:51:37.279622Z",
     "iopub.status.idle": "2023-01-13T19:51:37.326275Z",
     "shell.execute_reply": "2023-01-13T19:51:37.324945Z"
    },
    "papermill": {
     "duration": 0.101124,
     "end_time": "2023-01-13T19:51:37.329438",
     "exception": false,
     "start_time": "2023-01-13T19:51:37.228314",
     "status": "completed"
    },
    "tags": []
   },
   "outputs": [],
   "source": [
    "td3.fillna(\" \",inplace=True)"
   ]
  },
  {
   "cell_type": "code",
   "execution_count": 19,
   "id": "a41b8ed6",
   "metadata": {
    "execution": {
     "iopub.execute_input": "2023-01-13T19:51:37.433316Z",
     "iopub.status.busy": "2023-01-13T19:51:37.431942Z",
     "iopub.status.idle": "2023-01-13T19:51:37.440698Z",
     "shell.execute_reply": "2023-01-13T19:51:37.439564Z"
    },
    "papermill": {
     "duration": 0.06361,
     "end_time": "2023-01-13T19:51:37.442974",
     "exception": false,
     "start_time": "2023-01-13T19:51:37.379364",
     "status": "completed"
    },
    "tags": []
   },
   "outputs": [
    {
     "data": {
      "text/plain": [
       "True"
      ]
     },
     "execution_count": 19,
     "metadata": {},
     "output_type": "execute_result"
    }
   ],
   "source": [
    "td3['HomePage'][8699] == \" \""
   ]
  },
  {
   "cell_type": "code",
   "execution_count": 20,
   "id": "0d4bd036",
   "metadata": {
    "execution": {
     "iopub.execute_input": "2023-01-13T19:51:37.546003Z",
     "iopub.status.busy": "2023-01-13T19:51:37.545559Z",
     "iopub.status.idle": "2023-01-13T19:51:58.147725Z",
     "shell.execute_reply": "2023-01-13T19:51:58.146402Z"
    },
    "papermill": {
     "duration": 20.657186,
     "end_time": "2023-01-13T19:51:58.150815",
     "exception": false,
     "start_time": "2023-01-13T19:51:37.493629",
     "status": "completed"
    },
    "tags": []
   },
   "outputs": [],
   "source": [
    "for i in range(14731):\n",
    "    count=0\n",
    "    for j in td3.columns:\n",
    "        if td3[j][i]==\" \":\n",
    "            count += 1\n",
    "    if count>=1:\n",
    "        td3.drop(i,inplace=True)"
   ]
  },
  {
   "cell_type": "code",
   "execution_count": 21,
   "id": "13900748",
   "metadata": {
    "execution": {
     "iopub.execute_input": "2023-01-13T19:51:58.251393Z",
     "iopub.status.busy": "2023-01-13T19:51:58.250905Z",
     "iopub.status.idle": "2023-01-13T19:51:58.258271Z",
     "shell.execute_reply": "2023-01-13T19:51:58.257104Z"
    },
    "papermill": {
     "duration": 0.060218,
     "end_time": "2023-01-13T19:51:58.260443",
     "exception": false,
     "start_time": "2023-01-13T19:51:58.200225",
     "status": "completed"
    },
    "tags": []
   },
   "outputs": [
    {
     "data": {
      "text/plain": [
       "(11808, 22)"
      ]
     },
     "execution_count": 21,
     "metadata": {},
     "output_type": "execute_result"
    }
   ],
   "source": [
    "td3.shape"
   ]
  },
  {
   "cell_type": "code",
   "execution_count": 22,
   "id": "ad2f9c37",
   "metadata": {
    "execution": {
     "iopub.execute_input": "2023-01-13T19:51:58.362317Z",
     "iopub.status.busy": "2023-01-13T19:51:58.361409Z",
     "iopub.status.idle": "2023-01-13T19:51:58.387362Z",
     "shell.execute_reply": "2023-01-13T19:51:58.386217Z"
    },
    "papermill": {
     "duration": 0.079957,
     "end_time": "2023-01-13T19:51:58.389993",
     "exception": false,
     "start_time": "2023-01-13T19:51:58.310036",
     "status": "completed"
    },
    "tags": []
   },
   "outputs": [
    {
     "name": "stdout",
     "output_type": "stream",
     "text": [
      "<class 'pandas.core.frame.DataFrame'>\n",
      "Int64Index: 11808 entries, 0 to 14730\n",
      "Data columns (total 22 columns):\n",
      " #   Column                           Non-Null Count  Dtype \n",
      "---  ------                           --------------  ----- \n",
      " 0   HomePage                         11808 non-null  object\n",
      " 1   HomePage_Duration                11808 non-null  object\n",
      " 2   LandingPage                      11808 non-null  object\n",
      " 3   LandingPage_Duration             11808 non-null  object\n",
      " 4   ProductDescriptionPage           11808 non-null  object\n",
      " 5   ProductDescriptionPage_Duration  11808 non-null  object\n",
      " 6   GoogleMetric:Bounce Rates        11808 non-null  object\n",
      " 7   GoogleMetric:Exit Rates          11808 non-null  object\n",
      " 8   GoogleMetric:Page Values         11808 non-null  object\n",
      " 9   SeasonalPurchase                 11808 non-null  object\n",
      " 10  Month_SeasonalPurchase           11808 non-null  object\n",
      " 11  OS                               11808 non-null  object\n",
      " 12  SearchEngine                     11808 non-null  object\n",
      " 13  Zone                             11808 non-null  object\n",
      " 14  Type of Traffic                  11808 non-null  object\n",
      " 15  CustomerType                     11808 non-null  object\n",
      " 16  Gender                           11808 non-null  object\n",
      " 17  Cookies Setting                  11808 non-null  object\n",
      " 18  Education                        11808 non-null  object\n",
      " 19  Marital Status                   11808 non-null  object\n",
      " 20  WeekendPurchase                  11808 non-null  object\n",
      " 21  Made_Purchase                    11808 non-null  bool  \n",
      "dtypes: bool(1), object(21)\n",
      "memory usage: 2.2+ MB\n"
     ]
    }
   ],
   "source": [
    "td3.info()"
   ]
  },
  {
   "cell_type": "code",
   "execution_count": 23,
   "id": "97a65d31",
   "metadata": {
    "execution": {
     "iopub.execute_input": "2023-01-13T19:51:58.571413Z",
     "iopub.status.busy": "2023-01-13T19:51:58.570466Z",
     "iopub.status.idle": "2023-01-13T19:51:58.596421Z",
     "shell.execute_reply": "2023-01-13T19:51:58.595063Z"
    },
    "papermill": {
     "duration": 0.159243,
     "end_time": "2023-01-13T19:51:58.599064",
     "exception": false,
     "start_time": "2023-01-13T19:51:58.439821",
     "status": "completed"
    },
    "tags": []
   },
   "outputs": [
    {
     "data": {
      "text/html": [
       "<div>\n",
       "<style scoped>\n",
       "    .dataframe tbody tr th:only-of-type {\n",
       "        vertical-align: middle;\n",
       "    }\n",
       "\n",
       "    .dataframe tbody tr th {\n",
       "        vertical-align: top;\n",
       "    }\n",
       "\n",
       "    .dataframe thead th {\n",
       "        text-align: right;\n",
       "    }\n",
       "</style>\n",
       "<table border=\"1\" class=\"dataframe\">\n",
       "  <thead>\n",
       "    <tr style=\"text-align: right;\">\n",
       "      <th></th>\n",
       "      <th>HomePage</th>\n",
       "      <th>HomePage_Duration</th>\n",
       "      <th>LandingPage</th>\n",
       "      <th>LandingPage_Duration</th>\n",
       "      <th>ProductDescriptionPage</th>\n",
       "      <th>ProductDescriptionPage_Duration</th>\n",
       "      <th>GoogleMetric:Bounce Rates</th>\n",
       "      <th>GoogleMetric:Exit Rates</th>\n",
       "      <th>GoogleMetric:Page Values</th>\n",
       "      <th>SeasonalPurchase</th>\n",
       "      <th>...</th>\n",
       "      <th>SearchEngine</th>\n",
       "      <th>Zone</th>\n",
       "      <th>Type of Traffic</th>\n",
       "      <th>CustomerType</th>\n",
       "      <th>Gender</th>\n",
       "      <th>Cookies Setting</th>\n",
       "      <th>Education</th>\n",
       "      <th>Marital Status</th>\n",
       "      <th>WeekendPurchase</th>\n",
       "      <th>Made_Purchase</th>\n",
       "    </tr>\n",
       "  </thead>\n",
       "  <tbody>\n",
       "    <tr>\n",
       "      <th>0</th>\n",
       "      <td>0.0</td>\n",
       "      <td>0.0</td>\n",
       "      <td>0.0</td>\n",
       "      <td>0.0</td>\n",
       "      <td>1.0</td>\n",
       "      <td>0.0</td>\n",
       "      <td>0.2</td>\n",
       "      <td>0.2</td>\n",
       "      <td>0.0</td>\n",
       "      <td>0.0</td>\n",
       "      <td>...</td>\n",
       "      <td>1.0</td>\n",
       "      <td>9.0</td>\n",
       "      <td>3.0</td>\n",
       "      <td>Returning_Visitor</td>\n",
       "      <td>Not Specified</td>\n",
       "      <td>Deny</td>\n",
       "      <td>Not Specified</td>\n",
       "      <td>Other</td>\n",
       "      <td>0.0</td>\n",
       "      <td>False</td>\n",
       "    </tr>\n",
       "    <tr>\n",
       "      <th>1</th>\n",
       "      <td>0.0</td>\n",
       "      <td>0.0</td>\n",
       "      <td>0.0</td>\n",
       "      <td>0.0</td>\n",
       "      <td>2.0</td>\n",
       "      <td>2.666667</td>\n",
       "      <td>0.05</td>\n",
       "      <td>0.14</td>\n",
       "      <td>0.0</td>\n",
       "      <td>0.0</td>\n",
       "      <td>...</td>\n",
       "      <td>2.0</td>\n",
       "      <td>2.0</td>\n",
       "      <td>4.0</td>\n",
       "      <td>Returning_Visitor</td>\n",
       "      <td>Female</td>\n",
       "      <td>Deny</td>\n",
       "      <td>Others</td>\n",
       "      <td>Married</td>\n",
       "      <td>0.0</td>\n",
       "      <td>False</td>\n",
       "    </tr>\n",
       "    <tr>\n",
       "      <th>2</th>\n",
       "      <td>0.0</td>\n",
       "      <td>0.0</td>\n",
       "      <td>0.0</td>\n",
       "      <td>0.0</td>\n",
       "      <td>10.0</td>\n",
       "      <td>627.5</td>\n",
       "      <td>0.02</td>\n",
       "      <td>0.05</td>\n",
       "      <td>0.0</td>\n",
       "      <td>0.0</td>\n",
       "      <td>...</td>\n",
       "      <td>3.0</td>\n",
       "      <td>1.0</td>\n",
       "      <td>4.0</td>\n",
       "      <td>Returning_Visitor</td>\n",
       "      <td>Female</td>\n",
       "      <td>ALL</td>\n",
       "      <td>Others</td>\n",
       "      <td>Married</td>\n",
       "      <td>1.0</td>\n",
       "      <td>False</td>\n",
       "    </tr>\n",
       "    <tr>\n",
       "      <th>3</th>\n",
       "      <td>0.0</td>\n",
       "      <td>0.0</td>\n",
       "      <td>0.0</td>\n",
       "      <td>0.0</td>\n",
       "      <td>1.0</td>\n",
       "      <td>0.0</td>\n",
       "      <td>0.2</td>\n",
       "      <td>0.2</td>\n",
       "      <td>0.0</td>\n",
       "      <td>0.4</td>\n",
       "      <td>...</td>\n",
       "      <td>4.0</td>\n",
       "      <td>3.0</td>\n",
       "      <td>3.0</td>\n",
       "      <td>Returning_Visitor</td>\n",
       "      <td>Male</td>\n",
       "      <td>ALL</td>\n",
       "      <td>Diploma</td>\n",
       "      <td>Single</td>\n",
       "      <td>0.0</td>\n",
       "      <td>False</td>\n",
       "    </tr>\n",
       "    <tr>\n",
       "      <th>4</th>\n",
       "      <td>1.0</td>\n",
       "      <td>0.0</td>\n",
       "      <td>0.0</td>\n",
       "      <td>0.0</td>\n",
       "      <td>0.0</td>\n",
       "      <td>0.0</td>\n",
       "      <td>0.2</td>\n",
       "      <td>0.2</td>\n",
       "      <td>0.0</td>\n",
       "      <td>0.0</td>\n",
       "      <td>...</td>\n",
       "      <td>2.0</td>\n",
       "      <td>1.0</td>\n",
       "      <td>5.0</td>\n",
       "      <td>Returning_Visitor</td>\n",
       "      <td>Male</td>\n",
       "      <td>Deny</td>\n",
       "      <td>Diploma</td>\n",
       "      <td>Other</td>\n",
       "      <td>1.0</td>\n",
       "      <td>False</td>\n",
       "    </tr>\n",
       "  </tbody>\n",
       "</table>\n",
       "<p>5 rows × 22 columns</p>\n",
       "</div>"
      ],
      "text/plain": [
       "  HomePage HomePage_Duration LandingPage LandingPage_Duration  \\\n",
       "0      0.0               0.0         0.0                  0.0   \n",
       "1      0.0               0.0         0.0                  0.0   \n",
       "2      0.0               0.0         0.0                  0.0   \n",
       "3      0.0               0.0         0.0                  0.0   \n",
       "4      1.0               0.0         0.0                  0.0   \n",
       "\n",
       "  ProductDescriptionPage ProductDescriptionPage_Duration  \\\n",
       "0                    1.0                             0.0   \n",
       "1                    2.0                        2.666667   \n",
       "2                   10.0                           627.5   \n",
       "3                    1.0                             0.0   \n",
       "4                    0.0                             0.0   \n",
       "\n",
       "  GoogleMetric:Bounce Rates GoogleMetric:Exit Rates GoogleMetric:Page Values  \\\n",
       "0                       0.2                     0.2                      0.0   \n",
       "1                      0.05                    0.14                      0.0   \n",
       "2                      0.02                    0.05                      0.0   \n",
       "3                       0.2                     0.2                      0.0   \n",
       "4                       0.2                     0.2                      0.0   \n",
       "\n",
       "  SeasonalPurchase  ... SearchEngine Zone Type of Traffic       CustomerType  \\\n",
       "0              0.0  ...          1.0  9.0             3.0  Returning_Visitor   \n",
       "1              0.0  ...          2.0  2.0             4.0  Returning_Visitor   \n",
       "2              0.0  ...          3.0  1.0             4.0  Returning_Visitor   \n",
       "3              0.4  ...          4.0  3.0             3.0  Returning_Visitor   \n",
       "4              0.0  ...          2.0  1.0             5.0  Returning_Visitor   \n",
       "\n",
       "          Gender Cookies Setting      Education Marital Status  \\\n",
       "0  Not Specified            Deny  Not Specified          Other   \n",
       "1         Female            Deny         Others        Married   \n",
       "2         Female             ALL         Others        Married   \n",
       "3           Male             ALL        Diploma         Single   \n",
       "4           Male            Deny        Diploma          Other   \n",
       "\n",
       "  WeekendPurchase Made_Purchase  \n",
       "0             0.0         False  \n",
       "1             0.0         False  \n",
       "2             1.0         False  \n",
       "3             0.0         False  \n",
       "4             1.0         False  \n",
       "\n",
       "[5 rows x 22 columns]"
      ]
     },
     "execution_count": 23,
     "metadata": {},
     "output_type": "execute_result"
    }
   ],
   "source": [
    "td3.head()"
   ]
  },
  {
   "cell_type": "code",
   "execution_count": null,
   "id": "a6326620",
   "metadata": {
    "papermill": {
     "duration": 0.049676,
     "end_time": "2023-01-13T19:51:58.698618",
     "exception": false,
     "start_time": "2023-01-13T19:51:58.648942",
     "status": "completed"
    },
    "tags": []
   },
   "outputs": [],
   "source": []
  },
  {
   "cell_type": "code",
   "execution_count": 24,
   "id": "440ca219",
   "metadata": {
    "execution": {
     "iopub.execute_input": "2023-01-13T19:51:58.803062Z",
     "iopub.status.busy": "2023-01-13T19:51:58.802581Z",
     "iopub.status.idle": "2023-01-13T19:51:58.807729Z",
     "shell.execute_reply": "2023-01-13T19:51:58.806628Z"
    },
    "papermill": {
     "duration": 0.060238,
     "end_time": "2023-01-13T19:51:58.810017",
     "exception": false,
     "start_time": "2023-01-13T19:51:58.749779",
     "status": "completed"
    },
    "tags": []
   },
   "outputs": [],
   "source": [
    "#td1"
   ]
  },
  {
   "cell_type": "code",
   "execution_count": 25,
   "id": "60aec7cc",
   "metadata": {
    "execution": {
     "iopub.execute_input": "2023-01-13T19:51:58.915166Z",
     "iopub.status.busy": "2023-01-13T19:51:58.914679Z",
     "iopub.status.idle": "2023-01-13T19:51:58.920134Z",
     "shell.execute_reply": "2023-01-13T19:51:58.918886Z"
    },
    "papermill": {
     "duration": 0.061293,
     "end_time": "2023-01-13T19:51:58.922614",
     "exception": false,
     "start_time": "2023-01-13T19:51:58.861321",
     "status": "completed"
    },
    "tags": []
   },
   "outputs": [],
   "source": [
    "#td1[\"HomePage\"] = imputer.fit_transform(td1[[\"HomePage\"]])"
   ]
  },
  {
   "cell_type": "code",
   "execution_count": 26,
   "id": "953c25a9",
   "metadata": {
    "execution": {
     "iopub.execute_input": "2023-01-13T19:51:59.028262Z",
     "iopub.status.busy": "2023-01-13T19:51:59.027817Z",
     "iopub.status.idle": "2023-01-13T19:51:59.032543Z",
     "shell.execute_reply": "2023-01-13T19:51:59.031470Z"
    },
    "papermill": {
     "duration": 0.060729,
     "end_time": "2023-01-13T19:51:59.034892",
     "exception": false,
     "start_time": "2023-01-13T19:51:58.974163",
     "status": "completed"
    },
    "tags": []
   },
   "outputs": [],
   "source": [
    "#list = ['HomePage_Duration','LandingPage','LandingPage_Duration','ProductDescriptionPage','ProductDescriptionPage_Duration','GoogleMetric:Bounce Rates','GoogleMetric:Exit Rates','GoogleMetric:Page Values','SeasonalPurchase','OS','SearchEngine','Zone','Type of Traffic','WeekendPurchase']\n",
    "#for i in list:\n",
    "#    td1[i] = imputer.fit_transform(td1[[i]])\n"
   ]
  },
  {
   "cell_type": "code",
   "execution_count": 27,
   "id": "ff97eb2e",
   "metadata": {
    "execution": {
     "iopub.execute_input": "2023-01-13T19:51:59.142931Z",
     "iopub.status.busy": "2023-01-13T19:51:59.142506Z",
     "iopub.status.idle": "2023-01-13T19:51:59.147143Z",
     "shell.execute_reply": "2023-01-13T19:51:59.146041Z"
    },
    "papermill": {
     "duration": 0.062979,
     "end_time": "2023-01-13T19:51:59.149943",
     "exception": false,
     "start_time": "2023-01-13T19:51:59.086964",
     "status": "completed"
    },
    "tags": []
   },
   "outputs": [],
   "source": [
    "#td1.info()"
   ]
  },
  {
   "cell_type": "code",
   "execution_count": 28,
   "id": "622dc240",
   "metadata": {
    "execution": {
     "iopub.execute_input": "2023-01-13T19:51:59.254179Z",
     "iopub.status.busy": "2023-01-13T19:51:59.253810Z",
     "iopub.status.idle": "2023-01-13T19:51:59.259553Z",
     "shell.execute_reply": "2023-01-13T19:51:59.258215Z"
    },
    "papermill": {
     "duration": 0.060739,
     "end_time": "2023-01-13T19:51:59.262245",
     "exception": false,
     "start_time": "2023-01-13T19:51:59.201506",
     "status": "completed"
    },
    "tags": []
   },
   "outputs": [],
   "source": [
    "list1 = ['HomePage','HomePage_Duration','LandingPage','LandingPage_Duration','ProductDescriptionPage','ProductDescriptionPage_Duration','GoogleMetric:Bounce Rates','GoogleMetric:Exit Rates','GoogleMetric:Page Values','SeasonalPurchase','OS','SearchEngine','Zone','Type of Traffic','WeekendPurchase']\n",
    "categorical = ['Month_SeasonalPurchase','CustomerType','Gender','Cookies Setting','Education','Marital Status']"
   ]
  },
  {
   "cell_type": "code",
   "execution_count": 29,
   "id": "2f56e45f",
   "metadata": {
    "execution": {
     "iopub.execute_input": "2023-01-13T19:51:59.367996Z",
     "iopub.status.busy": "2023-01-13T19:51:59.367277Z",
     "iopub.status.idle": "2023-01-13T19:51:59.372263Z",
     "shell.execute_reply": "2023-01-13T19:51:59.371433Z"
    },
    "papermill": {
     "duration": 0.060801,
     "end_time": "2023-01-13T19:51:59.374465",
     "exception": false,
     "start_time": "2023-01-13T19:51:59.313664",
     "status": "completed"
    },
    "tags": []
   },
   "outputs": [],
   "source": [
    "index = []\n",
    "for i in range(len(td1.columns)):\n",
    "    if td1.columns[i] in categorical:\n",
    "        index.append(i)\n"
   ]
  },
  {
   "cell_type": "code",
   "execution_count": 30,
   "id": "c0e1c503",
   "metadata": {
    "execution": {
     "iopub.execute_input": "2023-01-13T19:51:59.488329Z",
     "iopub.status.busy": "2023-01-13T19:51:59.486845Z",
     "iopub.status.idle": "2023-01-13T19:51:59.498770Z",
     "shell.execute_reply": "2023-01-13T19:51:59.497563Z"
    },
    "papermill": {
     "duration": 0.075283,
     "end_time": "2023-01-13T19:51:59.501994",
     "exception": false,
     "start_time": "2023-01-13T19:51:59.426711",
     "status": "completed"
    },
    "tags": []
   },
   "outputs": [
    {
     "data": {
      "text/plain": [
       "[10, 15, 16, 17, 18, 19]"
      ]
     },
     "execution_count": 30,
     "metadata": {},
     "output_type": "execute_result"
    }
   ],
   "source": [
    "index"
   ]
  },
  {
   "cell_type": "code",
   "execution_count": 31,
   "id": "e5ede09a",
   "metadata": {
    "execution": {
     "iopub.execute_input": "2023-01-13T19:51:59.611391Z",
     "iopub.status.busy": "2023-01-13T19:51:59.610359Z",
     "iopub.status.idle": "2023-01-13T19:51:59.616057Z",
     "shell.execute_reply": "2023-01-13T19:51:59.614949Z"
    },
    "papermill": {
     "duration": 0.062051,
     "end_time": "2023-01-13T19:51:59.618154",
     "exception": false,
     "start_time": "2023-01-13T19:51:59.556103",
     "status": "completed"
    },
    "tags": []
   },
   "outputs": [],
   "source": [
    "#td1.describe()"
   ]
  },
  {
   "cell_type": "code",
   "execution_count": 32,
   "id": "e28c2868",
   "metadata": {
    "execution": {
     "iopub.execute_input": "2023-01-13T19:51:59.729694Z",
     "iopub.status.busy": "2023-01-13T19:51:59.728681Z",
     "iopub.status.idle": "2023-01-13T19:51:59.735061Z",
     "shell.execute_reply": "2023-01-13T19:51:59.733180Z"
    },
    "papermill": {
     "duration": 0.063403,
     "end_time": "2023-01-13T19:51:59.738243",
     "exception": false,
     "start_time": "2023-01-13T19:51:59.674840",
     "status": "completed"
    },
    "tags": []
   },
   "outputs": [],
   "source": [
    "#for j in list:\n",
    " #   print('feature={0},{1}'.format(j,td1[j].value_counts()))"
   ]
  },
  {
   "cell_type": "code",
   "execution_count": 33,
   "id": "f67c9e17",
   "metadata": {
    "execution": {
     "iopub.execute_input": "2023-01-13T19:51:59.881449Z",
     "iopub.status.busy": "2023-01-13T19:51:59.880598Z",
     "iopub.status.idle": "2023-01-13T19:51:59.885735Z",
     "shell.execute_reply": "2023-01-13T19:51:59.884430Z"
    },
    "papermill": {
     "duration": 0.080979,
     "end_time": "2023-01-13T19:51:59.888594",
     "exception": false,
     "start_time": "2023-01-13T19:51:59.807615",
     "status": "completed"
    },
    "tags": []
   },
   "outputs": [],
   "source": [
    "#for j in categorical:\n",
    " #   print('feature={0},{1}'.format(j,td1[j].value_counts()))"
   ]
  },
  {
   "cell_type": "code",
   "execution_count": 34,
   "id": "df7dd0ca",
   "metadata": {
    "execution": {
     "iopub.execute_input": "2023-01-13T19:52:00.027065Z",
     "iopub.status.busy": "2023-01-13T19:52:00.026135Z",
     "iopub.status.idle": "2023-01-13T19:52:00.032359Z",
     "shell.execute_reply": "2023-01-13T19:52:00.031361Z"
    },
    "papermill": {
     "duration": 0.065429,
     "end_time": "2023-01-13T19:52:00.034740",
     "exception": false,
     "start_time": "2023-01-13T19:51:59.969311",
     "status": "completed"
    },
    "tags": []
   },
   "outputs": [],
   "source": [
    "l = ['HomePage','HomePage_Duration','LandingPage','LandingPage_Duration','ProductDescriptionPage','ProductDescriptionPage_Duration','GoogleMetric:Bounce Rates','GoogleMetric:Exit Rates','GoogleMetric:Page Values','SeasonalPurchase','OS','SearchEngine','Zone','Type of Traffic']\n"
   ]
  },
  {
   "cell_type": "code",
   "execution_count": 35,
   "id": "f70e6c18",
   "metadata": {
    "execution": {
     "iopub.execute_input": "2023-01-13T19:52:00.148860Z",
     "iopub.status.busy": "2023-01-13T19:52:00.147881Z",
     "iopub.status.idle": "2023-01-13T19:52:00.153720Z",
     "shell.execute_reply": "2023-01-13T19:52:00.152500Z"
    },
    "papermill": {
     "duration": 0.068057,
     "end_time": "2023-01-13T19:52:00.156214",
     "exception": false,
     "start_time": "2023-01-13T19:52:00.088157",
     "status": "completed"
    },
    "tags": []
   },
   "outputs": [],
   "source": [
    "from sklearn.preprocessing import StandardScaler"
   ]
  },
  {
   "cell_type": "code",
   "execution_count": 36,
   "id": "4fb5bbb9",
   "metadata": {
    "execution": {
     "iopub.execute_input": "2023-01-13T19:52:00.265844Z",
     "iopub.status.busy": "2023-01-13T19:52:00.265283Z",
     "iopub.status.idle": "2023-01-13T19:52:00.271212Z",
     "shell.execute_reply": "2023-01-13T19:52:00.269797Z"
    },
    "papermill": {
     "duration": 0.062807,
     "end_time": "2023-01-13T19:52:00.273599",
     "exception": false,
     "start_time": "2023-01-13T19:52:00.210792",
     "status": "completed"
    },
    "tags": []
   },
   "outputs": [],
   "source": [
    "scale = StandardScaler()"
   ]
  },
  {
   "cell_type": "code",
   "execution_count": 37,
   "id": "f22a1f25",
   "metadata": {
    "execution": {
     "iopub.execute_input": "2023-01-13T19:52:00.381808Z",
     "iopub.status.busy": "2023-01-13T19:52:00.380967Z",
     "iopub.status.idle": "2023-01-13T19:52:00.392226Z",
     "shell.execute_reply": "2023-01-13T19:52:00.391163Z"
    },
    "papermill": {
     "duration": 0.06814,
     "end_time": "2023-01-13T19:52:00.394365",
     "exception": false,
     "start_time": "2023-01-13T19:52:00.326225",
     "status": "completed"
    },
    "tags": []
   },
   "outputs": [
    {
     "data": {
      "text/plain": [
       "0        0.0\n",
       "1        0.0\n",
       "2        0.0\n",
       "3        0.0\n",
       "4        1.0\n",
       "        ... \n",
       "14725    0.0\n",
       "14727    8.0\n",
       "14728    2.0\n",
       "14729    0.0\n",
       "14730    0.0\n",
       "Name: HomePage, Length: 11808, dtype: float64"
      ]
     },
     "execution_count": 37,
     "metadata": {},
     "output_type": "execute_result"
    }
   ],
   "source": [
    "pd.to_numeric(td3['HomePage'])"
   ]
  },
  {
   "cell_type": "code",
   "execution_count": 38,
   "id": "a91c1046",
   "metadata": {
    "execution": {
     "iopub.execute_input": "2023-01-13T19:52:00.504292Z",
     "iopub.status.busy": "2023-01-13T19:52:00.503582Z",
     "iopub.status.idle": "2023-01-13T19:52:00.551457Z",
     "shell.execute_reply": "2023-01-13T19:52:00.549852Z"
    },
    "papermill": {
     "duration": 0.10524,
     "end_time": "2023-01-13T19:52:00.554337",
     "exception": false,
     "start_time": "2023-01-13T19:52:00.449097",
     "status": "completed"
    },
    "tags": []
   },
   "outputs": [],
   "source": [
    "for j in l:\n",
    "    td3[j]=pd.to_numeric(td3[j])"
   ]
  },
  {
   "cell_type": "code",
   "execution_count": 39,
   "id": "e7c896a5",
   "metadata": {
    "execution": {
     "iopub.execute_input": "2023-01-13T19:52:00.660100Z",
     "iopub.status.busy": "2023-01-13T19:52:00.659638Z",
     "iopub.status.idle": "2023-01-13T19:52:00.681148Z",
     "shell.execute_reply": "2023-01-13T19:52:00.679268Z"
    },
    "papermill": {
     "duration": 0.077764,
     "end_time": "2023-01-13T19:52:00.683716",
     "exception": false,
     "start_time": "2023-01-13T19:52:00.605952",
     "status": "completed"
    },
    "tags": []
   },
   "outputs": [
    {
     "name": "stdout",
     "output_type": "stream",
     "text": [
      "<class 'pandas.core.frame.DataFrame'>\n",
      "Int64Index: 11808 entries, 0 to 14730\n",
      "Data columns (total 22 columns):\n",
      " #   Column                           Non-Null Count  Dtype  \n",
      "---  ------                           --------------  -----  \n",
      " 0   HomePage                         11808 non-null  float64\n",
      " 1   HomePage_Duration                11808 non-null  float64\n",
      " 2   LandingPage                      11808 non-null  float64\n",
      " 3   LandingPage_Duration             11808 non-null  float64\n",
      " 4   ProductDescriptionPage           11808 non-null  float64\n",
      " 5   ProductDescriptionPage_Duration  11808 non-null  float64\n",
      " 6   GoogleMetric:Bounce Rates        11808 non-null  float64\n",
      " 7   GoogleMetric:Exit Rates          11808 non-null  float64\n",
      " 8   GoogleMetric:Page Values         11808 non-null  float64\n",
      " 9   SeasonalPurchase                 11808 non-null  float64\n",
      " 10  Month_SeasonalPurchase           11808 non-null  object \n",
      " 11  OS                               11808 non-null  float64\n",
      " 12  SearchEngine                     11808 non-null  float64\n",
      " 13  Zone                             11808 non-null  float64\n",
      " 14  Type of Traffic                  11808 non-null  float64\n",
      " 15  CustomerType                     11808 non-null  object \n",
      " 16  Gender                           11808 non-null  object \n",
      " 17  Cookies Setting                  11808 non-null  object \n",
      " 18  Education                        11808 non-null  object \n",
      " 19  Marital Status                   11808 non-null  object \n",
      " 20  WeekendPurchase                  11808 non-null  object \n",
      " 21  Made_Purchase                    11808 non-null  bool   \n",
      "dtypes: bool(1), float64(14), object(7)\n",
      "memory usage: 2.2+ MB\n"
     ]
    }
   ],
   "source": [
    "td3.info()"
   ]
  },
  {
   "cell_type": "code",
   "execution_count": 40,
   "id": "01155777",
   "metadata": {
    "execution": {
     "iopub.execute_input": "2023-01-13T19:52:00.793883Z",
     "iopub.status.busy": "2023-01-13T19:52:00.793145Z",
     "iopub.status.idle": "2023-01-13T19:52:00.847910Z",
     "shell.execute_reply": "2023-01-13T19:52:00.846710Z"
    },
    "papermill": {
     "duration": 0.1123,
     "end_time": "2023-01-13T19:52:00.851095",
     "exception": false,
     "start_time": "2023-01-13T19:52:00.738795",
     "status": "completed"
    },
    "tags": []
   },
   "outputs": [],
   "source": [
    "for k in l:\n",
    "    td3[k] = scale.fit_transform(td3[[k]])"
   ]
  },
  {
   "cell_type": "code",
   "execution_count": 41,
   "id": "9d4eea1f",
   "metadata": {
    "execution": {
     "iopub.execute_input": "2023-01-13T19:52:00.959853Z",
     "iopub.status.busy": "2023-01-13T19:52:00.959410Z",
     "iopub.status.idle": "2023-01-13T19:52:01.022857Z",
     "shell.execute_reply": "2023-01-13T19:52:01.021506Z"
    },
    "papermill": {
     "duration": 0.121087,
     "end_time": "2023-01-13T19:52:01.025708",
     "exception": false,
     "start_time": "2023-01-13T19:52:00.904621",
     "status": "completed"
    },
    "tags": []
   },
   "outputs": [
    {
     "data": {
      "text/html": [
       "<div>\n",
       "<style scoped>\n",
       "    .dataframe tbody tr th:only-of-type {\n",
       "        vertical-align: middle;\n",
       "    }\n",
       "\n",
       "    .dataframe tbody tr th {\n",
       "        vertical-align: top;\n",
       "    }\n",
       "\n",
       "    .dataframe thead th {\n",
       "        text-align: right;\n",
       "    }\n",
       "</style>\n",
       "<table border=\"1\" class=\"dataframe\">\n",
       "  <thead>\n",
       "    <tr style=\"text-align: right;\">\n",
       "      <th></th>\n",
       "      <th>HomePage</th>\n",
       "      <th>HomePage_Duration</th>\n",
       "      <th>LandingPage</th>\n",
       "      <th>LandingPage_Duration</th>\n",
       "      <th>ProductDescriptionPage</th>\n",
       "      <th>ProductDescriptionPage_Duration</th>\n",
       "      <th>GoogleMetric:Bounce Rates</th>\n",
       "      <th>GoogleMetric:Exit Rates</th>\n",
       "      <th>GoogleMetric:Page Values</th>\n",
       "      <th>SeasonalPurchase</th>\n",
       "      <th>OS</th>\n",
       "      <th>SearchEngine</th>\n",
       "      <th>Zone</th>\n",
       "      <th>Type of Traffic</th>\n",
       "    </tr>\n",
       "  </thead>\n",
       "  <tbody>\n",
       "    <tr>\n",
       "      <th>count</th>\n",
       "      <td>1.180800e+04</td>\n",
       "      <td>1.180800e+04</td>\n",
       "      <td>1.180800e+04</td>\n",
       "      <td>1.180800e+04</td>\n",
       "      <td>1.180800e+04</td>\n",
       "      <td>1.180800e+04</td>\n",
       "      <td>1.180800e+04</td>\n",
       "      <td>1.180800e+04</td>\n",
       "      <td>1.180800e+04</td>\n",
       "      <td>1.180800e+04</td>\n",
       "      <td>1.180800e+04</td>\n",
       "      <td>1.180800e+04</td>\n",
       "      <td>1.180800e+04</td>\n",
       "      <td>1.180800e+04</td>\n",
       "    </tr>\n",
       "    <tr>\n",
       "      <th>mean</th>\n",
       "      <td>6.258168e-17</td>\n",
       "      <td>2.828210e-17</td>\n",
       "      <td>5.114849e-17</td>\n",
       "      <td>5.054674e-17</td>\n",
       "      <td>-2.406988e-18</td>\n",
       "      <td>3.730831e-17</td>\n",
       "      <td>-4.091879e-17</td>\n",
       "      <td>-6.980264e-17</td>\n",
       "      <td>9.627950e-18</td>\n",
       "      <td>-2.286638e-17</td>\n",
       "      <td>4.934325e-17</td>\n",
       "      <td>1.089162e-16</td>\n",
       "      <td>-4.994499e-17</td>\n",
       "      <td>-3.369783e-17</td>\n",
       "    </tr>\n",
       "    <tr>\n",
       "      <th>std</th>\n",
       "      <td>1.000042e+00</td>\n",
       "      <td>1.000042e+00</td>\n",
       "      <td>1.000042e+00</td>\n",
       "      <td>1.000042e+00</td>\n",
       "      <td>1.000042e+00</td>\n",
       "      <td>1.000042e+00</td>\n",
       "      <td>1.000042e+00</td>\n",
       "      <td>1.000042e+00</td>\n",
       "      <td>1.000042e+00</td>\n",
       "      <td>1.000042e+00</td>\n",
       "      <td>1.000042e+00</td>\n",
       "      <td>1.000042e+00</td>\n",
       "      <td>1.000042e+00</td>\n",
       "      <td>1.000042e+00</td>\n",
       "    </tr>\n",
       "    <tr>\n",
       "      <th>min</th>\n",
       "      <td>-6.877069e-01</td>\n",
       "      <td>-4.417516e-01</td>\n",
       "      <td>-3.943986e-01</td>\n",
       "      <td>-2.385413e-01</td>\n",
       "      <td>-7.050469e-01</td>\n",
       "      <td>-6.057385e-01</td>\n",
       "      <td>-4.683467e-01</td>\n",
       "      <td>-8.957375e-01</td>\n",
       "      <td>-2.925786e-01</td>\n",
       "      <td>-3.166318e-01</td>\n",
       "      <td>-1.233651e+00</td>\n",
       "      <td>-7.917555e-01</td>\n",
       "      <td>-8.937110e-01</td>\n",
       "      <td>-7.654448e-01</td>\n",
       "    </tr>\n",
       "    <tr>\n",
       "      <th>25%</th>\n",
       "      <td>-6.877069e-01</td>\n",
       "      <td>-4.417516e-01</td>\n",
       "      <td>-3.943986e-01</td>\n",
       "      <td>-2.385413e-01</td>\n",
       "      <td>-5.482375e-01</td>\n",
       "      <td>-5.154191e-01</td>\n",
       "      <td>-4.683467e-01</td>\n",
       "      <td>-6.060527e-01</td>\n",
       "      <td>-2.925786e-01</td>\n",
       "      <td>-3.166318e-01</td>\n",
       "      <td>-1.377323e-01</td>\n",
       "      <td>-2.064889e-01</td>\n",
       "      <td>-8.937110e-01</td>\n",
       "      <td>-5.171788e-01</td>\n",
       "    </tr>\n",
       "    <tr>\n",
       "      <th>50%</th>\n",
       "      <td>-3.832854e-01</td>\n",
       "      <td>-4.144092e-01</td>\n",
       "      <td>-3.943986e-01</td>\n",
       "      <td>-2.385413e-01</td>\n",
       "      <td>-3.242239e-01</td>\n",
       "      <td>-3.062632e-01</td>\n",
       "      <td>-3.978779e-01</td>\n",
       "      <td>-3.645030e-01</td>\n",
       "      <td>-2.925786e-01</td>\n",
       "      <td>-3.166318e-01</td>\n",
       "      <td>-1.377323e-01</td>\n",
       "      <td>-2.064889e-01</td>\n",
       "      <td>-6.093484e-02</td>\n",
       "      <td>-5.171788e-01</td>\n",
       "    </tr>\n",
       "    <tr>\n",
       "      <th>75%</th>\n",
       "      <td>5.299790e-01</td>\n",
       "      <td>5.861447e-02</td>\n",
       "      <td>-3.943986e-01</td>\n",
       "      <td>-2.385413e-01</td>\n",
       "      <td>1.238031e-01</td>\n",
       "      <td>1.281270e-01</td>\n",
       "      <td>-1.031901e-01</td>\n",
       "      <td>1.108120e-01</td>\n",
       "      <td>-2.925786e-01</td>\n",
       "      <td>-3.166318e-01</td>\n",
       "      <td>9.581865e-01</td>\n",
       "      <td>-2.064889e-01</td>\n",
       "      <td>3.554532e-01</td>\n",
       "      <td>-2.064678e-02</td>\n",
       "    </tr>\n",
       "    <tr>\n",
       "      <th>max</th>\n",
       "      <td>7.531673e+00</td>\n",
       "      <td>1.814425e+01</td>\n",
       "      <td>1.887619e+01</td>\n",
       "      <td>1.798613e+01</td>\n",
       "      <td>1.508791e+01</td>\n",
       "      <td>3.213882e+01</td>\n",
       "      <td>3.548376e+00</td>\n",
       "      <td>3.130461e+00</td>\n",
       "      <td>2.180986e+01</td>\n",
       "      <td>4.621018e+00</td>\n",
       "      <td>6.437781e+00</td>\n",
       "      <td>6.231444e+00</td>\n",
       "      <td>2.437394e+00</td>\n",
       "      <td>3.951609e+00</td>\n",
       "    </tr>\n",
       "  </tbody>\n",
       "</table>\n",
       "</div>"
      ],
      "text/plain": [
       "           HomePage  HomePage_Duration   LandingPage  LandingPage_Duration  \\\n",
       "count  1.180800e+04       1.180800e+04  1.180800e+04          1.180800e+04   \n",
       "mean   6.258168e-17       2.828210e-17  5.114849e-17          5.054674e-17   \n",
       "std    1.000042e+00       1.000042e+00  1.000042e+00          1.000042e+00   \n",
       "min   -6.877069e-01      -4.417516e-01 -3.943986e-01         -2.385413e-01   \n",
       "25%   -6.877069e-01      -4.417516e-01 -3.943986e-01         -2.385413e-01   \n",
       "50%   -3.832854e-01      -4.144092e-01 -3.943986e-01         -2.385413e-01   \n",
       "75%    5.299790e-01       5.861447e-02 -3.943986e-01         -2.385413e-01   \n",
       "max    7.531673e+00       1.814425e+01  1.887619e+01          1.798613e+01   \n",
       "\n",
       "       ProductDescriptionPage  ProductDescriptionPage_Duration  \\\n",
       "count            1.180800e+04                     1.180800e+04   \n",
       "mean            -2.406988e-18                     3.730831e-17   \n",
       "std              1.000042e+00                     1.000042e+00   \n",
       "min             -7.050469e-01                    -6.057385e-01   \n",
       "25%             -5.482375e-01                    -5.154191e-01   \n",
       "50%             -3.242239e-01                    -3.062632e-01   \n",
       "75%              1.238031e-01                     1.281270e-01   \n",
       "max              1.508791e+01                     3.213882e+01   \n",
       "\n",
       "       GoogleMetric:Bounce Rates  GoogleMetric:Exit Rates  \\\n",
       "count               1.180800e+04             1.180800e+04   \n",
       "mean               -4.091879e-17            -6.980264e-17   \n",
       "std                 1.000042e+00             1.000042e+00   \n",
       "min                -4.683467e-01            -8.957375e-01   \n",
       "25%                -4.683467e-01            -6.060527e-01   \n",
       "50%                -3.978779e-01            -3.645030e-01   \n",
       "75%                -1.031901e-01             1.108120e-01   \n",
       "max                 3.548376e+00             3.130461e+00   \n",
       "\n",
       "       GoogleMetric:Page Values  SeasonalPurchase            OS  SearchEngine  \\\n",
       "count              1.180800e+04      1.180800e+04  1.180800e+04  1.180800e+04   \n",
       "mean               9.627950e-18     -2.286638e-17  4.934325e-17  1.089162e-16   \n",
       "std                1.000042e+00      1.000042e+00  1.000042e+00  1.000042e+00   \n",
       "min               -2.925786e-01     -3.166318e-01 -1.233651e+00 -7.917555e-01   \n",
       "25%               -2.925786e-01     -3.166318e-01 -1.377323e-01 -2.064889e-01   \n",
       "50%               -2.925786e-01     -3.166318e-01 -1.377323e-01 -2.064889e-01   \n",
       "75%               -2.925786e-01     -3.166318e-01  9.581865e-01 -2.064889e-01   \n",
       "max                2.180986e+01      4.621018e+00  6.437781e+00  6.231444e+00   \n",
       "\n",
       "               Zone  Type of Traffic  \n",
       "count  1.180800e+04     1.180800e+04  \n",
       "mean  -4.994499e-17    -3.369783e-17  \n",
       "std    1.000042e+00     1.000042e+00  \n",
       "min   -8.937110e-01    -7.654448e-01  \n",
       "25%   -8.937110e-01    -5.171788e-01  \n",
       "50%   -6.093484e-02    -5.171788e-01  \n",
       "75%    3.554532e-01    -2.064678e-02  \n",
       "max    2.437394e+00     3.951609e+00  "
      ]
     },
     "execution_count": 41,
     "metadata": {},
     "output_type": "execute_result"
    }
   ],
   "source": [
    "td3.describe()"
   ]
  },
  {
   "cell_type": "code",
   "execution_count": 42,
   "id": "0eeae7e8",
   "metadata": {
    "execution": {
     "iopub.execute_input": "2023-01-13T19:52:01.131779Z",
     "iopub.status.busy": "2023-01-13T19:52:01.131318Z",
     "iopub.status.idle": "2023-01-13T19:52:01.136121Z",
     "shell.execute_reply": "2023-01-13T19:52:01.134812Z"
    },
    "papermill": {
     "duration": 0.060219,
     "end_time": "2023-01-13T19:52:01.138556",
     "exception": false,
     "start_time": "2023-01-13T19:52:01.078337",
     "status": "completed"
    },
    "tags": []
   },
   "outputs": [],
   "source": [
    "imputer_c = SimpleImputer(strategy=\"most_frequent\")"
   ]
  },
  {
   "cell_type": "code",
   "execution_count": 43,
   "id": "bfa06354",
   "metadata": {
    "execution": {
     "iopub.execute_input": "2023-01-13T19:52:01.245174Z",
     "iopub.status.busy": "2023-01-13T19:52:01.244698Z",
     "iopub.status.idle": "2023-01-13T19:52:01.250067Z",
     "shell.execute_reply": "2023-01-13T19:52:01.248821Z"
    },
    "papermill": {
     "duration": 0.06191,
     "end_time": "2023-01-13T19:52:01.252388",
     "exception": false,
     "start_time": "2023-01-13T19:52:01.190478",
     "status": "completed"
    },
    "tags": []
   },
   "outputs": [],
   "source": [
    "#td1['Month_SeasonalPurchase'] = imputer_c.fit_transform(td1[['Month_SeasonalPurchase']])"
   ]
  },
  {
   "cell_type": "code",
   "execution_count": 44,
   "id": "282a068c",
   "metadata": {
    "execution": {
     "iopub.execute_input": "2023-01-13T19:52:01.357158Z",
     "iopub.status.busy": "2023-01-13T19:52:01.356750Z",
     "iopub.status.idle": "2023-01-13T19:52:01.362135Z",
     "shell.execute_reply": "2023-01-13T19:52:01.360959Z"
    },
    "papermill": {
     "duration": 0.060497,
     "end_time": "2023-01-13T19:52:01.364567",
     "exception": false,
     "start_time": "2023-01-13T19:52:01.304070",
     "status": "completed"
    },
    "tags": []
   },
   "outputs": [],
   "source": [
    "categorical = ['Month_SeasonalPurchase','CustomerType','Gender','Cookies Setting','Education','Marital Status']\n"
   ]
  },
  {
   "cell_type": "code",
   "execution_count": 45,
   "id": "a9ae062d",
   "metadata": {
    "execution": {
     "iopub.execute_input": "2023-01-13T19:52:01.471035Z",
     "iopub.status.busy": "2023-01-13T19:52:01.470565Z",
     "iopub.status.idle": "2023-01-13T19:52:01.475118Z",
     "shell.execute_reply": "2023-01-13T19:52:01.474131Z"
    },
    "papermill": {
     "duration": 0.060079,
     "end_time": "2023-01-13T19:52:01.477329",
     "exception": false,
     "start_time": "2023-01-13T19:52:01.417250",
     "status": "completed"
    },
    "tags": []
   },
   "outputs": [],
   "source": [
    "#td1['CustomerType'] = imputer_c.fit_transform(td1[['CustomerType']])"
   ]
  },
  {
   "cell_type": "code",
   "execution_count": 46,
   "id": "a740ee8b",
   "metadata": {
    "execution": {
     "iopub.execute_input": "2023-01-13T19:52:01.583970Z",
     "iopub.status.busy": "2023-01-13T19:52:01.583262Z",
     "iopub.status.idle": "2023-01-13T19:52:01.588217Z",
     "shell.execute_reply": "2023-01-13T19:52:01.587063Z"
    },
    "papermill": {
     "duration": 0.06057,
     "end_time": "2023-01-13T19:52:01.590782",
     "exception": false,
     "start_time": "2023-01-13T19:52:01.530212",
     "status": "completed"
    },
    "tags": []
   },
   "outputs": [],
   "source": [
    "#td1['Gender'] = imputer_c.fit_transform(td1[['Gender']])"
   ]
  },
  {
   "cell_type": "code",
   "execution_count": 47,
   "id": "d4a6a334",
   "metadata": {
    "execution": {
     "iopub.execute_input": "2023-01-13T19:52:01.698587Z",
     "iopub.status.busy": "2023-01-13T19:52:01.698088Z",
     "iopub.status.idle": "2023-01-13T19:52:01.703581Z",
     "shell.execute_reply": "2023-01-13T19:52:01.702247Z"
    },
    "papermill": {
     "duration": 0.064129,
     "end_time": "2023-01-13T19:52:01.705999",
     "exception": false,
     "start_time": "2023-01-13T19:52:01.641870",
     "status": "completed"
    },
    "tags": []
   },
   "outputs": [],
   "source": [
    "#td1['Cookies Setting'] = imputer_c.fit_transform(td1[['Cookies Setting']])"
   ]
  },
  {
   "cell_type": "code",
   "execution_count": 48,
   "id": "fa4c9ac1",
   "metadata": {
    "execution": {
     "iopub.execute_input": "2023-01-13T19:52:01.811567Z",
     "iopub.status.busy": "2023-01-13T19:52:01.810324Z",
     "iopub.status.idle": "2023-01-13T19:52:01.815640Z",
     "shell.execute_reply": "2023-01-13T19:52:01.814443Z"
    },
    "papermill": {
     "duration": 0.06071,
     "end_time": "2023-01-13T19:52:01.817941",
     "exception": false,
     "start_time": "2023-01-13T19:52:01.757231",
     "status": "completed"
    },
    "tags": []
   },
   "outputs": [],
   "source": [
    "#td1['Education'] = imputer_c.fit_transform(td1[['Education']])"
   ]
  },
  {
   "cell_type": "code",
   "execution_count": 49,
   "id": "7b23647b",
   "metadata": {
    "execution": {
     "iopub.execute_input": "2023-01-13T19:52:01.927781Z",
     "iopub.status.busy": "2023-01-13T19:52:01.926488Z",
     "iopub.status.idle": "2023-01-13T19:52:01.931307Z",
     "shell.execute_reply": "2023-01-13T19:52:01.930427Z"
    },
    "papermill": {
     "duration": 0.062267,
     "end_time": "2023-01-13T19:52:01.933379",
     "exception": false,
     "start_time": "2023-01-13T19:52:01.871112",
     "status": "completed"
    },
    "tags": []
   },
   "outputs": [],
   "source": [
    "#td1['Marital Status'] = imputer_c.fit_transform(td1[['Marital Status']])"
   ]
  },
  {
   "cell_type": "code",
   "execution_count": 50,
   "id": "a0701493",
   "metadata": {
    "execution": {
     "iopub.execute_input": "2023-01-13T19:52:02.045643Z",
     "iopub.status.busy": "2023-01-13T19:52:02.044274Z",
     "iopub.status.idle": "2023-01-13T19:52:02.049251Z",
     "shell.execute_reply": "2023-01-13T19:52:02.048188Z"
    },
    "papermill": {
     "duration": 0.065403,
     "end_time": "2023-01-13T19:52:02.051301",
     "exception": false,
     "start_time": "2023-01-13T19:52:01.985898",
     "status": "completed"
    },
    "tags": []
   },
   "outputs": [],
   "source": [
    "#td1.info()"
   ]
  },
  {
   "cell_type": "code",
   "execution_count": 51,
   "id": "dfaf7da6",
   "metadata": {
    "execution": {
     "iopub.execute_input": "2023-01-13T19:52:02.155647Z",
     "iopub.status.busy": "2023-01-13T19:52:02.155184Z",
     "iopub.status.idle": "2023-01-13T19:52:02.160083Z",
     "shell.execute_reply": "2023-01-13T19:52:02.158807Z"
    },
    "papermill": {
     "duration": 0.059327,
     "end_time": "2023-01-13T19:52:02.162313",
     "exception": false,
     "start_time": "2023-01-13T19:52:02.102986",
     "status": "completed"
    },
    "tags": []
   },
   "outputs": [],
   "source": [
    "#td1.head()"
   ]
  },
  {
   "cell_type": "code",
   "execution_count": 52,
   "id": "93273b70",
   "metadata": {
    "execution": {
     "iopub.execute_input": "2023-01-13T19:52:02.266054Z",
     "iopub.status.busy": "2023-01-13T19:52:02.265530Z",
     "iopub.status.idle": "2023-01-13T19:52:02.270653Z",
     "shell.execute_reply": "2023-01-13T19:52:02.269575Z"
    },
    "papermill": {
     "duration": 0.059387,
     "end_time": "2023-01-13T19:52:02.272867",
     "exception": false,
     "start_time": "2023-01-13T19:52:02.213480",
     "status": "completed"
    },
    "tags": []
   },
   "outputs": [],
   "source": [
    "#from sklearn.compose import make_column_transformer"
   ]
  },
  {
   "cell_type": "code",
   "execution_count": 53,
   "id": "fc1b13d7",
   "metadata": {
    "execution": {
     "iopub.execute_input": "2023-01-13T19:52:02.375472Z",
     "iopub.status.busy": "2023-01-13T19:52:02.374966Z",
     "iopub.status.idle": "2023-01-13T19:52:02.380463Z",
     "shell.execute_reply": "2023-01-13T19:52:02.379206Z"
    },
    "papermill": {
     "duration": 0.059642,
     "end_time": "2023-01-13T19:52:02.382917",
     "exception": false,
     "start_time": "2023-01-13T19:52:02.323275",
     "status": "completed"
    },
    "tags": []
   },
   "outputs": [],
   "source": [
    "#from sklearn.preprocessing import OneHotEncoder"
   ]
  },
  {
   "cell_type": "code",
   "execution_count": 54,
   "id": "7ceafcde",
   "metadata": {
    "execution": {
     "iopub.execute_input": "2023-01-13T19:52:02.490342Z",
     "iopub.status.busy": "2023-01-13T19:52:02.489942Z",
     "iopub.status.idle": "2023-01-13T19:52:02.494814Z",
     "shell.execute_reply": "2023-01-13T19:52:02.493565Z"
    },
    "papermill": {
     "duration": 0.061311,
     "end_time": "2023-01-13T19:52:02.497493",
     "exception": false,
     "start_time": "2023-01-13T19:52:02.436182",
     "status": "completed"
    },
    "tags": []
   },
   "outputs": [],
   "source": [
    "#encoder = OneHotEncoder()"
   ]
  },
  {
   "cell_type": "code",
   "execution_count": 55,
   "id": "90b81cca",
   "metadata": {
    "execution": {
     "iopub.execute_input": "2023-01-13T19:52:02.602436Z",
     "iopub.status.busy": "2023-01-13T19:52:02.601997Z",
     "iopub.status.idle": "2023-01-13T19:52:02.607073Z",
     "shell.execute_reply": "2023-01-13T19:52:02.605734Z"
    },
    "papermill": {
     "duration": 0.061039,
     "end_time": "2023-01-13T19:52:02.609312",
     "exception": false,
     "start_time": "2023-01-13T19:52:02.548273",
     "status": "completed"
    },
    "tags": []
   },
   "outputs": [],
   "source": [
    "#transformer = make_column_transformer((OneHotEncoder(),index),remainder='passthrough')"
   ]
  },
  {
   "cell_type": "code",
   "execution_count": 56,
   "id": "43a2d6a1",
   "metadata": {
    "execution": {
     "iopub.execute_input": "2023-01-13T19:52:02.713559Z",
     "iopub.status.busy": "2023-01-13T19:52:02.713060Z",
     "iopub.status.idle": "2023-01-13T19:52:02.718375Z",
     "shell.execute_reply": "2023-01-13T19:52:02.717273Z"
    },
    "papermill": {
     "duration": 0.060028,
     "end_time": "2023-01-13T19:52:02.720778",
     "exception": false,
     "start_time": "2023-01-13T19:52:02.660750",
     "status": "completed"
    },
    "tags": []
   },
   "outputs": [],
   "source": [
    "#x = td1.drop(labels=[\"Made_Purchase\"],axis=1)\n",
    "#y = td1[\"Made_Purchase\"]"
   ]
  },
  {
   "cell_type": "code",
   "execution_count": 57,
   "id": "1de286d7",
   "metadata": {
    "execution": {
     "iopub.execute_input": "2023-01-13T19:52:02.824610Z",
     "iopub.status.busy": "2023-01-13T19:52:02.824109Z",
     "iopub.status.idle": "2023-01-13T19:52:02.829291Z",
     "shell.execute_reply": "2023-01-13T19:52:02.827854Z"
    },
    "papermill": {
     "duration": 0.060694,
     "end_time": "2023-01-13T19:52:02.831740",
     "exception": false,
     "start_time": "2023-01-13T19:52:02.771046",
     "status": "completed"
    },
    "tags": []
   },
   "outputs": [],
   "source": [
    "#x.shape"
   ]
  },
  {
   "cell_type": "code",
   "execution_count": 58,
   "id": "6498980d",
   "metadata": {
    "execution": {
     "iopub.execute_input": "2023-01-13T19:52:02.935731Z",
     "iopub.status.busy": "2023-01-13T19:52:02.935225Z",
     "iopub.status.idle": "2023-01-13T19:52:02.940785Z",
     "shell.execute_reply": "2023-01-13T19:52:02.939400Z"
    },
    "papermill": {
     "duration": 0.059624,
     "end_time": "2023-01-13T19:52:02.942911",
     "exception": false,
     "start_time": "2023-01-13T19:52:02.883287",
     "status": "completed"
    },
    "tags": []
   },
   "outputs": [],
   "source": [
    "#y = pd.DataFrame(y,columns=[\"Made_Purchase\"])"
   ]
  },
  {
   "cell_type": "code",
   "execution_count": 59,
   "id": "1b6d5501",
   "metadata": {
    "execution": {
     "iopub.execute_input": "2023-01-13T19:52:03.048093Z",
     "iopub.status.busy": "2023-01-13T19:52:03.047650Z",
     "iopub.status.idle": "2023-01-13T19:52:03.052138Z",
     "shell.execute_reply": "2023-01-13T19:52:03.051007Z"
    },
    "papermill": {
     "duration": 0.060375,
     "end_time": "2023-01-13T19:52:03.054501",
     "exception": false,
     "start_time": "2023-01-13T19:52:02.994126",
     "status": "completed"
    },
    "tags": []
   },
   "outputs": [],
   "source": [
    "#y"
   ]
  },
  {
   "cell_type": "code",
   "execution_count": 60,
   "id": "e62d2758",
   "metadata": {
    "execution": {
     "iopub.execute_input": "2023-01-13T19:52:03.159466Z",
     "iopub.status.busy": "2023-01-13T19:52:03.158838Z",
     "iopub.status.idle": "2023-01-13T19:52:03.163469Z",
     "shell.execute_reply": "2023-01-13T19:52:03.162737Z"
    },
    "papermill": {
     "duration": 0.059442,
     "end_time": "2023-01-13T19:52:03.165675",
     "exception": false,
     "start_time": "2023-01-13T19:52:03.106233",
     "status": "completed"
    },
    "tags": []
   },
   "outputs": [],
   "source": [
    "#z = transformer.fit_transform(x)"
   ]
  },
  {
   "cell_type": "code",
   "execution_count": 61,
   "id": "34e32b31",
   "metadata": {
    "execution": {
     "iopub.execute_input": "2023-01-13T19:52:03.269509Z",
     "iopub.status.busy": "2023-01-13T19:52:03.268885Z",
     "iopub.status.idle": "2023-01-13T19:52:03.273243Z",
     "shell.execute_reply": "2023-01-13T19:52:03.272472Z"
    },
    "papermill": {
     "duration": 0.058594,
     "end_time": "2023-01-13T19:52:03.275330",
     "exception": false,
     "start_time": "2023-01-13T19:52:03.216736",
     "status": "completed"
    },
    "tags": []
   },
   "outputs": [],
   "source": [
    "#z"
   ]
  },
  {
   "cell_type": "code",
   "execution_count": 62,
   "id": "cb8ff764",
   "metadata": {
    "execution": {
     "iopub.execute_input": "2023-01-13T19:52:03.377869Z",
     "iopub.status.busy": "2023-01-13T19:52:03.377381Z",
     "iopub.status.idle": "2023-01-13T19:52:03.382327Z",
     "shell.execute_reply": "2023-01-13T19:52:03.381485Z"
    },
    "papermill": {
     "duration": 0.059119,
     "end_time": "2023-01-13T19:52:03.384613",
     "exception": false,
     "start_time": "2023-01-13T19:52:03.325494",
     "status": "completed"
    },
    "tags": []
   },
   "outputs": [],
   "source": [
    "#x.columns"
   ]
  },
  {
   "cell_type": "code",
   "execution_count": 63,
   "id": "e0c391a2",
   "metadata": {
    "execution": {
     "iopub.execute_input": "2023-01-13T19:52:03.488851Z",
     "iopub.status.busy": "2023-01-13T19:52:03.487566Z",
     "iopub.status.idle": "2023-01-13T19:52:03.494297Z",
     "shell.execute_reply": "2023-01-13T19:52:03.493473Z"
    },
    "papermill": {
     "duration": 0.060854,
     "end_time": "2023-01-13T19:52:03.496414",
     "exception": false,
     "start_time": "2023-01-13T19:52:03.435560",
     "status": "completed"
    },
    "tags": []
   },
   "outputs": [],
   "source": [
    "features = ['HomePage', 'HomePage_Duration', 'LandingPage', 'LandingPage_Duration',\n",
    "       'ProductDescriptionPage', 'ProductDescriptionPage_Duration',\n",
    "       'GoogleMetric:Bounce Rates', 'GoogleMetric:Exit Rates',\n",
    "       'GoogleMetric:Page Values', 'SeasonalPurchase',\n",
    "       'Month_SeasonalPurchase', 'OS', 'SearchEngine', 'Zone',\n",
    "       'Type of Traffic', 'CustomerType', 'Gender', 'Cookies Setting',\n",
    "       'Education', 'Marital Status', 'WeekendPurchase']"
   ]
  },
  {
   "cell_type": "code",
   "execution_count": 64,
   "id": "048406e2",
   "metadata": {
    "execution": {
     "iopub.execute_input": "2023-01-13T19:52:03.600315Z",
     "iopub.status.busy": "2023-01-13T19:52:03.598954Z",
     "iopub.status.idle": "2023-01-13T19:52:03.622936Z",
     "shell.execute_reply": "2023-01-13T19:52:03.621589Z"
    },
    "papermill": {
     "duration": 0.07848,
     "end_time": "2023-01-13T19:52:03.625464",
     "exception": false,
     "start_time": "2023-01-13T19:52:03.546984",
     "status": "completed"
    },
    "tags": []
   },
   "outputs": [],
   "source": [
    "df3 = pd.get_dummies(td3,columns=['Month_SeasonalPurchase','CustomerType','Gender','Cookies Setting','Education','Marital Status'])"
   ]
  },
  {
   "cell_type": "code",
   "execution_count": 65,
   "id": "654bd1b3",
   "metadata": {
    "execution": {
     "iopub.execute_input": "2023-01-13T19:52:03.728305Z",
     "iopub.status.busy": "2023-01-13T19:52:03.727927Z",
     "iopub.status.idle": "2023-01-13T19:52:03.733096Z",
     "shell.execute_reply": "2023-01-13T19:52:03.731789Z"
    },
    "papermill": {
     "duration": 0.059265,
     "end_time": "2023-01-13T19:52:03.735549",
     "exception": false,
     "start_time": "2023-01-13T19:52:03.676284",
     "status": "completed"
    },
    "tags": []
   },
   "outputs": [],
   "source": [
    "#df.head()"
   ]
  },
  {
   "cell_type": "code",
   "execution_count": 66,
   "id": "54892c57",
   "metadata": {
    "execution": {
     "iopub.execute_input": "2023-01-13T19:52:03.838300Z",
     "iopub.status.busy": "2023-01-13T19:52:03.837897Z",
     "iopub.status.idle": "2023-01-13T19:52:03.846130Z",
     "shell.execute_reply": "2023-01-13T19:52:03.845087Z"
    },
    "papermill": {
     "duration": 0.061505,
     "end_time": "2023-01-13T19:52:03.848011",
     "exception": false,
     "start_time": "2023-01-13T19:52:03.786506",
     "status": "completed"
    },
    "tags": []
   },
   "outputs": [],
   "source": [
    "x3 = df3.drop(labels=[\"Made_Purchase\"],axis=1)"
   ]
  },
  {
   "cell_type": "code",
   "execution_count": 67,
   "id": "40257b3a",
   "metadata": {
    "execution": {
     "iopub.execute_input": "2023-01-13T19:52:03.951912Z",
     "iopub.status.busy": "2023-01-13T19:52:03.951123Z",
     "iopub.status.idle": "2023-01-13T19:52:03.958233Z",
     "shell.execute_reply": "2023-01-13T19:52:03.957007Z"
    },
    "papermill": {
     "duration": 0.062221,
     "end_time": "2023-01-13T19:52:03.960567",
     "exception": false,
     "start_time": "2023-01-13T19:52:03.898346",
     "status": "completed"
    },
    "tags": []
   },
   "outputs": [
    {
     "data": {
      "text/plain": [
       "(11808, 41)"
      ]
     },
     "execution_count": 67,
     "metadata": {},
     "output_type": "execute_result"
    }
   ],
   "source": [
    "x3.shape"
   ]
  },
  {
   "cell_type": "code",
   "execution_count": 68,
   "id": "551dc01a",
   "metadata": {
    "execution": {
     "iopub.execute_input": "2023-01-13T19:52:04.064707Z",
     "iopub.status.busy": "2023-01-13T19:52:04.064193Z",
     "iopub.status.idle": "2023-01-13T19:52:04.069356Z",
     "shell.execute_reply": "2023-01-13T19:52:04.068135Z"
    },
    "papermill": {
     "duration": 0.060441,
     "end_time": "2023-01-13T19:52:04.071810",
     "exception": false,
     "start_time": "2023-01-13T19:52:04.011369",
     "status": "completed"
    },
    "tags": []
   },
   "outputs": [],
   "source": [
    "#x.columns"
   ]
  },
  {
   "cell_type": "code",
   "execution_count": 69,
   "id": "4ca11089",
   "metadata": {
    "execution": {
     "iopub.execute_input": "2023-01-13T19:52:04.179557Z",
     "iopub.status.busy": "2023-01-13T19:52:04.178508Z",
     "iopub.status.idle": "2023-01-13T19:52:04.183350Z",
     "shell.execute_reply": "2023-01-13T19:52:04.182565Z"
    },
    "papermill": {
     "duration": 0.060113,
     "end_time": "2023-01-13T19:52:04.185445",
     "exception": false,
     "start_time": "2023-01-13T19:52:04.125332",
     "status": "completed"
    },
    "tags": []
   },
   "outputs": [],
   "source": [
    "y3 = df3[\"Made_Purchase\"]"
   ]
  },
  {
   "cell_type": "code",
   "execution_count": 70,
   "id": "6140f70d",
   "metadata": {
    "execution": {
     "iopub.execute_input": "2023-01-13T19:52:04.292134Z",
     "iopub.status.busy": "2023-01-13T19:52:04.291205Z",
     "iopub.status.idle": "2023-01-13T19:52:04.298024Z",
     "shell.execute_reply": "2023-01-13T19:52:04.297017Z"
    },
    "papermill": {
     "duration": 0.062725,
     "end_time": "2023-01-13T19:52:04.300535",
     "exception": false,
     "start_time": "2023-01-13T19:52:04.237810",
     "status": "completed"
    },
    "tags": []
   },
   "outputs": [],
   "source": [
    "y3 = pd.DataFrame(y3,columns=[\"Made_Purchase\"])"
   ]
  },
  {
   "cell_type": "code",
   "execution_count": 71,
   "id": "97aa0eb3",
   "metadata": {
    "execution": {
     "iopub.execute_input": "2023-01-13T19:52:04.404385Z",
     "iopub.status.busy": "2023-01-13T19:52:04.403650Z",
     "iopub.status.idle": "2023-01-13T19:52:04.410416Z",
     "shell.execute_reply": "2023-01-13T19:52:04.409592Z"
    },
    "papermill": {
     "duration": 0.061356,
     "end_time": "2023-01-13T19:52:04.412658",
     "exception": false,
     "start_time": "2023-01-13T19:52:04.351302",
     "status": "completed"
    },
    "tags": []
   },
   "outputs": [
    {
     "data": {
      "text/html": [
       "<div>\n",
       "<style scoped>\n",
       "    .dataframe tbody tr th:only-of-type {\n",
       "        vertical-align: middle;\n",
       "    }\n",
       "\n",
       "    .dataframe tbody tr th {\n",
       "        vertical-align: top;\n",
       "    }\n",
       "\n",
       "    .dataframe thead th {\n",
       "        text-align: right;\n",
       "    }\n",
       "</style>\n",
       "<table border=\"1\" class=\"dataframe\">\n",
       "  <thead>\n",
       "    <tr style=\"text-align: right;\">\n",
       "      <th></th>\n",
       "      <th>Made_Purchase</th>\n",
       "    </tr>\n",
       "  </thead>\n",
       "  <tbody>\n",
       "    <tr>\n",
       "      <th>0</th>\n",
       "      <td>False</td>\n",
       "    </tr>\n",
       "    <tr>\n",
       "      <th>1</th>\n",
       "      <td>False</td>\n",
       "    </tr>\n",
       "    <tr>\n",
       "      <th>2</th>\n",
       "      <td>False</td>\n",
       "    </tr>\n",
       "    <tr>\n",
       "      <th>3</th>\n",
       "      <td>False</td>\n",
       "    </tr>\n",
       "    <tr>\n",
       "      <th>4</th>\n",
       "      <td>False</td>\n",
       "    </tr>\n",
       "    <tr>\n",
       "      <th>...</th>\n",
       "      <td>...</td>\n",
       "    </tr>\n",
       "    <tr>\n",
       "      <th>14725</th>\n",
       "      <td>True</td>\n",
       "    </tr>\n",
       "    <tr>\n",
       "      <th>14727</th>\n",
       "      <td>True</td>\n",
       "    </tr>\n",
       "    <tr>\n",
       "      <th>14728</th>\n",
       "      <td>True</td>\n",
       "    </tr>\n",
       "    <tr>\n",
       "      <th>14729</th>\n",
       "      <td>True</td>\n",
       "    </tr>\n",
       "    <tr>\n",
       "      <th>14730</th>\n",
       "      <td>True</td>\n",
       "    </tr>\n",
       "  </tbody>\n",
       "</table>\n",
       "<p>11808 rows × 1 columns</p>\n",
       "</div>"
      ],
      "text/plain": [
       "       Made_Purchase\n",
       "0              False\n",
       "1              False\n",
       "2              False\n",
       "3              False\n",
       "4              False\n",
       "...              ...\n",
       "14725           True\n",
       "14727           True\n",
       "14728           True\n",
       "14729           True\n",
       "14730           True\n",
       "\n",
       "[11808 rows x 1 columns]"
      ]
     },
     "execution_count": 71,
     "metadata": {},
     "output_type": "execute_result"
    }
   ],
   "source": [
    "y3"
   ]
  },
  {
   "cell_type": "code",
   "execution_count": 72,
   "id": "6cac4a1c",
   "metadata": {},
   "outputs": [],
   "source": [
    "from sklearn.model_selection import train_test_split"
   ]
  },
  {
   "cell_type": "code",
   "execution_count": 73,
   "id": "45f4aee1",
   "metadata": {
    "execution": {
     "iopub.execute_input": "2023-01-13T19:52:04.571613Z",
     "iopub.status.busy": "2023-01-13T19:52:04.570162Z",
     "iopub.status.idle": "2023-01-13T19:52:04.575186Z",
     "shell.execute_reply": "2023-01-13T19:52:04.574327Z"
    },
    "papermill": {
     "duration": 0.11386,
     "end_time": "2023-01-13T19:52:04.577222",
     "exception": false,
     "start_time": "2023-01-13T19:52:04.463362",
     "status": "completed"
    },
    "tags": []
   },
   "outputs": [],
   "source": [
    "#from sklearn.model_selection import cross_val_score"
   ]
  },
  {
   "cell_type": "code",
   "execution_count": 74,
   "id": "b73c58d8",
   "metadata": {
    "execution": {
     "iopub.execute_input": "2023-01-13T19:52:04.680333Z",
     "iopub.status.busy": "2023-01-13T19:52:04.679584Z",
     "iopub.status.idle": "2023-01-13T19:52:04.684364Z",
     "shell.execute_reply": "2023-01-13T19:52:04.683574Z"
    },
    "papermill": {
     "duration": 0.059282,
     "end_time": "2023-01-13T19:52:04.686552",
     "exception": false,
     "start_time": "2023-01-13T19:52:04.627270",
     "status": "completed"
    },
    "tags": []
   },
   "outputs": [],
   "source": [
    "#df"
   ]
  },
  {
   "cell_type": "code",
   "execution_count": 75,
   "id": "7c013ff7",
   "metadata": {
    "execution": {
     "iopub.execute_input": "2023-01-13T19:52:04.789599Z",
     "iopub.status.busy": "2023-01-13T19:52:04.788332Z",
     "iopub.status.idle": "2023-01-13T19:52:04.971399Z",
     "shell.execute_reply": "2023-01-13T19:52:04.970016Z"
    },
    "papermill": {
     "duration": 0.237545,
     "end_time": "2023-01-13T19:52:04.974563",
     "exception": false,
     "start_time": "2023-01-13T19:52:04.737018",
     "status": "completed"
    },
    "tags": []
   },
   "outputs": [],
   "source": [
    "import seaborn as sns\n"
   ]
  },
  {
   "cell_type": "code",
   "execution_count": 76,
   "id": "dadef374",
   "metadata": {},
   "outputs": [
    {
     "data": {
      "text/html": [
       "<div>\n",
       "<style scoped>\n",
       "    .dataframe tbody tr th:only-of-type {\n",
       "        vertical-align: middle;\n",
       "    }\n",
       "\n",
       "    .dataframe tbody tr th {\n",
       "        vertical-align: top;\n",
       "    }\n",
       "\n",
       "    .dataframe thead th {\n",
       "        text-align: right;\n",
       "    }\n",
       "</style>\n",
       "<table border=\"1\" class=\"dataframe\">\n",
       "  <thead>\n",
       "    <tr style=\"text-align: right;\">\n",
       "      <th></th>\n",
       "      <th>Made_Purchase</th>\n",
       "    </tr>\n",
       "  </thead>\n",
       "  <tbody>\n",
       "    <tr>\n",
       "      <th>0</th>\n",
       "      <td>False</td>\n",
       "    </tr>\n",
       "    <tr>\n",
       "      <th>1</th>\n",
       "      <td>False</td>\n",
       "    </tr>\n",
       "    <tr>\n",
       "      <th>2</th>\n",
       "      <td>False</td>\n",
       "    </tr>\n",
       "    <tr>\n",
       "      <th>3</th>\n",
       "      <td>False</td>\n",
       "    </tr>\n",
       "    <tr>\n",
       "      <th>4</th>\n",
       "      <td>False</td>\n",
       "    </tr>\n",
       "    <tr>\n",
       "      <th>...</th>\n",
       "      <td>...</td>\n",
       "    </tr>\n",
       "    <tr>\n",
       "      <th>14725</th>\n",
       "      <td>True</td>\n",
       "    </tr>\n",
       "    <tr>\n",
       "      <th>14727</th>\n",
       "      <td>True</td>\n",
       "    </tr>\n",
       "    <tr>\n",
       "      <th>14728</th>\n",
       "      <td>True</td>\n",
       "    </tr>\n",
       "    <tr>\n",
       "      <th>14729</th>\n",
       "      <td>True</td>\n",
       "    </tr>\n",
       "    <tr>\n",
       "      <th>14730</th>\n",
       "      <td>True</td>\n",
       "    </tr>\n",
       "  </tbody>\n",
       "</table>\n",
       "<p>11808 rows × 1 columns</p>\n",
       "</div>"
      ],
      "text/plain": [
       "       Made_Purchase\n",
       "0              False\n",
       "1              False\n",
       "2              False\n",
       "3              False\n",
       "4              False\n",
       "...              ...\n",
       "14725           True\n",
       "14727           True\n",
       "14728           True\n",
       "14729           True\n",
       "14730           True\n",
       "\n",
       "[11808 rows x 1 columns]"
      ]
     },
     "execution_count": 76,
     "metadata": {},
     "output_type": "execute_result"
    }
   ],
   "source": [
    "y3"
   ]
  },
  {
   "cell_type": "code",
   "execution_count": 77,
   "id": "3d72c69d",
   "metadata": {
    "execution": {
     "iopub.execute_input": "2023-01-13T19:52:05.080752Z",
     "iopub.status.busy": "2023-01-13T19:52:05.080353Z",
     "iopub.status.idle": "2023-01-13T19:52:05.085786Z",
     "shell.execute_reply": "2023-01-13T19:52:05.084589Z"
    },
    "papermill": {
     "duration": 0.0609,
     "end_time": "2023-01-13T19:52:05.088177",
     "exception": false,
     "start_time": "2023-01-13T19:52:05.027277",
     "status": "completed"
    },
    "tags": []
   },
   "outputs": [],
   "source": [
    "#df.info()"
   ]
  },
  {
   "cell_type": "code",
   "execution_count": 78,
   "id": "a7a5ff43",
   "metadata": {
    "execution": {
     "iopub.execute_input": "2023-01-13T19:52:05.195261Z",
     "iopub.status.busy": "2023-01-13T19:52:05.194035Z",
     "iopub.status.idle": "2023-01-13T19:52:05.203105Z",
     "shell.execute_reply": "2023-01-13T19:52:05.202081Z"
    },
    "papermill": {
     "duration": 0.064562,
     "end_time": "2023-01-13T19:52:05.205426",
     "exception": false,
     "start_time": "2023-01-13T19:52:05.140864",
     "status": "completed"
    },
    "tags": []
   },
   "outputs": [],
   "source": [
    "y4 = y3[\"Made_Purchase\"].replace(True,1)"
   ]
  },
  {
   "cell_type": "code",
   "execution_count": 79,
   "id": "b75a83c2",
   "metadata": {},
   "outputs": [],
   "source": [
    "y4= y4.replace(False,0)"
   ]
  },
  {
   "cell_type": "code",
   "execution_count": 80,
   "id": "8008f4f2",
   "metadata": {},
   "outputs": [],
   "source": [
    "y4 = list(y4)"
   ]
  },
  {
   "cell_type": "code",
   "execution_count": 81,
   "id": "4398aefc",
   "metadata": {},
   "outputs": [],
   "source": [
    "x = [i for i in range(len(x3))]"
   ]
  },
  {
   "cell_type": "code",
   "execution_count": 82,
   "id": "a8e0dee0",
   "metadata": {},
   "outputs": [],
   "source": [
    "# y3['Made_Purchase'][14730]"
   ]
  },
  {
   "cell_type": "code",
   "execution_count": 83,
   "id": "e56426fa",
   "metadata": {},
   "outputs": [
    {
     "data": {
      "text/plain": [
       "<Axes: >"
      ]
     },
     "execution_count": 83,
     "metadata": {},
     "output_type": "execute_result"
    },
    {
     "data": {
      "image/png": "[encoded data removed]",
      "text/plain": [
       "<Figure size 432x288 with 1 Axes>"
      ]
     },
     "metadata": {
      "needs_background": "light"
     },
     "output_type": "display_data"
    }
   ],
   "source": [
    "sns.lineplot(data=(y4))"
   ]
  },
  {
   "cell_type": "code",
   "execution_count": 84,
   "id": "b7696227",
   "metadata": {},
   "outputs": [
    {
     "data": {
      "text/plain": [
       "0        False\n",
       "1        False\n",
       "2        False\n",
       "3        False\n",
       "4        False\n",
       "         ...  \n",
       "14725     True\n",
       "14727     True\n",
       "14728     True\n",
       "14729     True\n",
       "14730     True\n",
       "Name: Made_Purchase, Length: 11808, dtype: bool"
      ]
     },
     "execution_count": 84,
     "metadata": {},
     "output_type": "execute_result"
    }
   ],
   "source": [
    "df3[\"Made_Purchase\"] "
   ]
  },
  {
   "cell_type": "code",
   "execution_count": 85,
   "id": "f15077d4",
   "metadata": {},
   "outputs": [
    {
     "data": {
      "text/plain": [
       "Made_Purchase\n",
       "False            7276\n",
       "True             1344\n",
       "dtype: int64"
      ]
     },
     "execution_count": 85,
     "metadata": {},
     "output_type": "execute_result"
    }
   ],
   "source": [
    "y3[:8620].value_counts()"
   ]
  },
  {
   "cell_type": "code",
   "execution_count": 86,
   "id": "a478eb3e",
   "metadata": {},
   "outputs": [],
   "source": [
    "from imblearn.over_sampling import SMOTE"
   ]
  },
  {
   "cell_type": "code",
   "execution_count": 87,
   "id": "f6ff04ae",
   "metadata": {},
   "outputs": [],
   "source": [
    "sm=SMOTE(random_state=42)"
   ]
  },
  {
   "cell_type": "code",
   "execution_count": 88,
   "id": "877ead0f",
   "metadata": {},
   "outputs": [],
   "source": [
    "x5,y5 = sm.fit_resample(x3[:8620],y3[:8620])"
   ]
  },
  {
   "cell_type": "code",
   "execution_count": 89,
   "id": "ce311a70",
   "metadata": {},
   "outputs": [
    {
     "data": {
      "text/plain": [
       "Made_Purchase\n",
       "False            7276\n",
       "True             7276\n",
       "dtype: int64"
      ]
     },
     "execution_count": 89,
     "metadata": {},
     "output_type": "execute_result"
    }
   ],
   "source": [
    "y5.value_counts()"
   ]
  },
  {
   "cell_type": "code",
   "execution_count": 90,
   "id": "75b51170",
   "metadata": {},
   "outputs": [],
   "source": [
    "x_train,x_test,y_train,y_test_main = train_test_split(x5,y5,test_size=0.25,random_state=42) "
   ]
  },
  {
   "cell_type": "code",
   "execution_count": 91,
   "id": "b8869bc1",
   "metadata": {
    "execution": {
     "iopub.execute_input": "2023-01-13T19:52:05.426812Z",
     "iopub.status.busy": "2023-01-13T19:52:05.426371Z",
     "iopub.status.idle": "2023-01-13T19:52:05.431491Z",
     "shell.execute_reply": "2023-01-13T19:52:05.430258Z"
    },
    "papermill": {
     "duration": 0.060832,
     "end_time": "2023-01-13T19:52:05.434242",
     "exception": false,
     "start_time": "2023-01-13T19:52:05.373410",
     "status": "completed"
    },
    "tags": []
   },
   "outputs": [],
   "source": [
    "#df[\"Made_Purchase\"]"
   ]
  },
  {
   "cell_type": "code",
   "execution_count": 92,
   "id": "2021f8fd",
   "metadata": {
    "execution": {
     "iopub.execute_input": "2023-01-13T19:52:05.537468Z",
     "iopub.status.busy": "2023-01-13T19:52:05.537085Z",
     "iopub.status.idle": "2023-01-13T19:52:05.541625Z",
     "shell.execute_reply": "2023-01-13T19:52:05.540630Z"
    },
    "papermill": {
     "duration": 0.058971,
     "end_time": "2023-01-13T19:52:05.544072",
     "exception": false,
     "start_time": "2023-01-13T19:52:05.485101",
     "status": "completed"
    },
    "tags": []
   },
   "outputs": [],
   "source": [
    "#sns.heatmap(df)"
   ]
  },
  {
   "cell_type": "code",
   "execution_count": 93,
   "id": "e3355494",
   "metadata": {
    "execution": {
     "iopub.execute_input": "2023-01-13T19:52:05.650847Z",
     "iopub.status.busy": "2023-01-13T19:52:05.649978Z",
     "iopub.status.idle": "2023-01-13T19:52:05.654891Z",
     "shell.execute_reply": "2023-01-13T19:52:05.653807Z"
    },
    "papermill": {
     "duration": 0.060356,
     "end_time": "2023-01-13T19:52:05.657209",
     "exception": false,
     "start_time": "2023-01-13T19:52:05.596853",
     "status": "completed"
    },
    "tags": []
   },
   "outputs": [],
   "source": [
    "from sklearn.linear_model import Perceptron"
   ]
  },
  {
   "cell_type": "code",
   "execution_count": 94,
   "id": "0da2f1b2",
   "metadata": {
    "execution": {
     "iopub.execute_input": "2023-01-13T19:52:05.761528Z",
     "iopub.status.busy": "2023-01-13T19:52:05.760964Z",
     "iopub.status.idle": "2023-01-13T19:52:05.766491Z",
     "shell.execute_reply": "2023-01-13T19:52:05.765356Z"
    },
    "papermill": {
     "duration": 0.060823,
     "end_time": "2023-01-13T19:52:05.768986",
     "exception": false,
     "start_time": "2023-01-13T19:52:05.708163",
     "status": "completed"
    },
    "tags": []
   },
   "outputs": [],
   "source": [
    "model1 = Perceptron(penalty='elasticnet',alpha=0.01,random_state=42)"
   ]
  },
  {
   "cell_type": "code",
   "execution_count": 95,
   "id": "a1aa3ffd",
   "metadata": {
    "execution": {
     "iopub.execute_input": "2023-01-13T19:52:05.876312Z",
     "iopub.status.busy": "2023-01-13T19:52:05.875450Z",
     "iopub.status.idle": "2023-01-13T19:52:05.881067Z",
     "shell.execute_reply": "2023-01-13T19:52:05.879883Z"
    },
    "papermill": {
     "duration": 0.062041,
     "end_time": "2023-01-13T19:52:05.883686",
     "exception": false,
     "start_time": "2023-01-13T19:52:05.821645",
     "status": "completed"
    },
    "tags": []
   },
   "outputs": [
    {
     "name": "stderr",
     "output_type": "stream",
     "text": [
      "C:\\Users\\HP\\anaconda3\\lib\\site-packages\\sklearn\\utils\\validation.py:1143: DataConversionWarning: A column-vector y was passed when a 1d array was expected. Please change the shape of y to (n_samples, ), for example using ravel().\n",
      "  y = column_or_1d(y, warn=True)\n"
     ]
    },
    {
     "data": {
      "text/html": [
       "<style>#sk-container-id-1 {color: black;background-color: white;}#sk-container-id-1 pre{padding: 0;}#sk-container-id-1 div.sk-toggleable {background-color: white;}#sk-container-id-1 label.sk-toggleable__label {cursor: pointer;display: block;width: 100%;margin-bottom: 0;padding: 0.3em;box-sizing: border-box;text-align: center;}#sk-container-id-1 label.sk-toggleable__label-arrow:before {content: \"▸\";float: left;margin-right: 0.25em;color: #696969;}#sk-container-id-1 label.sk-toggleable__label-arrow:hover:before {color: black;}#sk-container-id-1 div.sk-estimator:hover label.sk-toggleable__label-arrow:before {color: black;}#sk-container-id-1 div.sk-toggleable__content {max-height: 0;max-width: 0;overflow: hidden;text-align: left;background-color: #f0f8ff;}#sk-container-id-1 div.sk-toggleable__content pre {margin: 0.2em;color: black;border-radius: 0.25em;background-color: #f0f8ff;}#sk-container-id-1 input.sk-toggleable__control:checked~div.sk-toggleable__content {max-height: 200px;max-width: 100%;overflow: auto;}#sk-container-id-1 input.sk-toggleable__control:checked~label.sk-toggleable__label-arrow:before {content: \"▾\";}#sk-container-id-1 div.sk-estimator input.sk-toggleable__control:checked~label.sk-toggleable__label {background-color: #d4ebff;}#sk-container-id-1 div.sk-label input.sk-toggleable__control:checked~label.sk-toggleable__label {background-color: #d4ebff;}#sk-container-id-1 input.sk-hidden--visually {border: 0;clip: rect(1px 1px 1px 1px);clip: rect(1px, 1px, 1px, 1px);height: 1px;margin: -1px;overflow: hidden;padding: 0;position: absolute;width: 1px;}#sk-container-id-1 div.sk-estimator {font-family: monospace;background-color: #f0f8ff;border: 1px dotted black;border-radius: 0.25em;box-sizing: border-box;margin-bottom: 0.5em;}#sk-container-id-1 div.sk-estimator:hover {background-color: #d4ebff;}#sk-container-id-1 div.sk-parallel-item::after {content: \"\";width: 100%;border-bottom: 1px solid gray;flex-grow: 1;}#sk-container-id-1 div.sk-label:hover label.sk-toggleable__label {background-color: #d4ebff;}#sk-container-id-1 div.sk-serial::before {content: \"\";position: absolute;border-left: 1px solid gray;box-sizing: border-box;top: 0;bottom: 0;left: 50%;z-index: 0;}#sk-container-id-1 div.sk-serial {display: flex;flex-direction: column;align-items: center;background-color: white;padding-right: 0.2em;padding-left: 0.2em;position: relative;}#sk-container-id-1 div.sk-item {position: relative;z-index: 1;}#sk-container-id-1 div.sk-parallel {display: flex;align-items: stretch;justify-content: center;background-color: white;position: relative;}#sk-container-id-1 div.sk-item::before, #sk-container-id-1 div.sk-parallel-item::before {content: \"\";position: absolute;border-left: 1px solid gray;box-sizing: border-box;top: 0;bottom: 0;left: 50%;z-index: -1;}#sk-container-id-1 div.sk-parallel-item {display: flex;flex-direction: column;z-index: 1;position: relative;background-color: white;}#sk-container-id-1 div.sk-parallel-item:first-child::after {align-self: flex-end;width: 50%;}#sk-container-id-1 div.sk-parallel-item:last-child::after {align-self: flex-start;width: 50%;}#sk-container-id-1 div.sk-parallel-item:only-child::after {width: 0;}#sk-container-id-1 div.sk-dashed-wrapped {border: 1px dashed gray;margin: 0 0.4em 0.5em 0.4em;box-sizing: border-box;padding-bottom: 0.4em;background-color: white;}#sk-container-id-1 div.sk-label label {font-family: monospace;font-weight: bold;display: inline-block;line-height: 1.2em;}#sk-container-id-1 div.sk-label-container {text-align: center;}#sk-container-id-1 div.sk-container {/* jupyter's `normalize.less` sets `[hidden] { display: none; }` but bootstrap.min.css set `[hidden] { display: none !important; }` so we also need the `!important` here to be able to override the default hidden behavior on the sphinx rendered scikit-learn.org. See: https://github.com/scikit-learn/scikit-learn/issues/21755 */display: inline-block !important;position: relative;}#sk-container-id-1 div.sk-text-repr-fallback {display: none;}</style><div id=\"sk-container-id-1\" class=\"sk-top-container\"><div class=\"sk-text-repr-fallback\"><pre>Perceptron(alpha=0.01, penalty=&#x27;elasticnet&#x27;, random_state=42)</pre><b>In a Jupyter environment, please rerun this cell to show the HTML representation or trust the notebook. <br />On GitHub, the HTML representation is unable to render, please try loading this page with nbviewer.org.</b></div><div class=\"sk-container\" hidden><div class=\"sk-item\"><div class=\"sk-estimator sk-toggleable\"><input class=\"sk-toggleable__control sk-hidden--visually\" id=\"sk-estimator-id-1\" type=\"checkbox\" checked><label for=\"sk-estimator-id-1\" class=\"sk-toggleable__label sk-toggleable__label-arrow\">Perceptron</label><div class=\"sk-toggleable__content\"><pre>Perceptron(alpha=0.01, penalty=&#x27;elasticnet&#x27;, random_state=42)</pre></div></div></div></div></div>"
      ],
      "text/plain": [
       "Perceptron(alpha=0.01, penalty='elasticnet', random_state=42)"
      ]
     },
     "execution_count": 95,
     "metadata": {},
     "output_type": "execute_result"
    }
   ],
   "source": [
    "model1.fit(x_train,y_train)"
   ]
  },
  {
   "cell_type": "code",
   "execution_count": 96,
   "id": "3edc782b",
   "metadata": {
    "execution": {
     "iopub.execute_input": "2023-01-13T19:52:05.992699Z",
     "iopub.status.busy": "2023-01-13T19:52:05.992215Z",
     "iopub.status.idle": "2023-01-13T19:52:05.997793Z",
     "shell.execute_reply": "2023-01-13T19:52:05.996289Z"
    },
    "papermill": {
     "duration": 0.063728,
     "end_time": "2023-01-13T19:52:06.000614",
     "exception": false,
     "start_time": "2023-01-13T19:52:05.936886",
     "status": "completed"
    },
    "tags": []
   },
   "outputs": [
    {
     "data": {
      "text/plain": [
       "0.6476085761407366"
      ]
     },
     "execution_count": 96,
     "metadata": {},
     "output_type": "execute_result"
    }
   ],
   "source": [
    "model1.score(x_test,y_test_main)"
   ]
  },
  {
   "cell_type": "code",
   "execution_count": 97,
   "id": "c9a6e127",
   "metadata": {
    "execution": {
     "iopub.execute_input": "2023-01-13T19:52:06.109791Z",
     "iopub.status.busy": "2023-01-13T19:52:06.108864Z",
     "iopub.status.idle": "2023-01-13T19:52:06.113438Z",
     "shell.execute_reply": "2023-01-13T19:52:06.112621Z"
    },
    "papermill": {
     "duration": 0.060731,
     "end_time": "2023-01-13T19:52:06.116183",
     "exception": false,
     "start_time": "2023-01-13T19:52:06.055452",
     "status": "completed"
    },
    "tags": []
   },
   "outputs": [],
   "source": [
    "#from sklearn.model_selection import cross_val_score,cross_validate"
   ]
  },
  {
   "cell_type": "code",
   "execution_count": 98,
   "id": "70ad57ac",
   "metadata": {
    "execution": {
     "iopub.execute_input": "2023-01-13T19:52:06.224955Z",
     "iopub.status.busy": "2023-01-13T19:52:06.223369Z",
     "iopub.status.idle": "2023-01-13T19:52:06.228811Z",
     "shell.execute_reply": "2023-01-13T19:52:06.227798Z"
    },
    "papermill": {
     "duration": 0.061832,
     "end_time": "2023-01-13T19:52:06.231302",
     "exception": false,
     "start_time": "2023-01-13T19:52:06.169470",
     "status": "completed"
    },
    "tags": []
   },
   "outputs": [],
   "source": [
    "#scores = cross_val_score(model1,x,y,cv=5)"
   ]
  },
  {
   "cell_type": "code",
   "execution_count": 99,
   "id": "4f74e369",
   "metadata": {
    "execution": {
     "iopub.execute_input": "2023-01-13T19:52:06.338840Z",
     "iopub.status.busy": "2023-01-13T19:52:06.338434Z",
     "iopub.status.idle": "2023-01-13T19:52:06.343104Z",
     "shell.execute_reply": "2023-01-13T19:52:06.341721Z"
    },
    "papermill": {
     "duration": 0.061143,
     "end_time": "2023-01-13T19:52:06.345687",
     "exception": false,
     "start_time": "2023-01-13T19:52:06.284544",
     "status": "completed"
    },
    "tags": []
   },
   "outputs": [],
   "source": [
    "#scores.mean()"
   ]
  },
  {
   "cell_type": "code",
   "execution_count": 100,
   "id": "0465b75e",
   "metadata": {
    "execution": {
     "iopub.execute_input": "2023-01-13T19:52:06.452083Z",
     "iopub.status.busy": "2023-01-13T19:52:06.451687Z",
     "iopub.status.idle": "2023-01-13T19:52:06.501030Z",
     "shell.execute_reply": "2023-01-13T19:52:06.499833Z"
    },
    "papermill": {
     "duration": 0.105896,
     "end_time": "2023-01-13T19:52:06.504254",
     "exception": false,
     "start_time": "2023-01-13T19:52:06.398358",
     "status": "completed"
    },
    "tags": []
   },
   "outputs": [],
   "source": [
    "# data_test = pd.read_csv(\"test_data_v2.csv\")"
   ]
  },
  {
   "cell_type": "code",
   "execution_count": 101,
   "id": "089b40ad",
   "metadata": {
    "execution": {
     "iopub.execute_input": "2023-01-13T19:52:06.611045Z",
     "iopub.status.busy": "2023-01-13T19:52:06.610343Z",
     "iopub.status.idle": "2023-01-13T19:52:06.649556Z",
     "shell.execute_reply": "2023-01-13T19:52:06.648242Z"
    },
    "papermill": {
     "duration": 0.094806,
     "end_time": "2023-01-13T19:52:06.652063",
     "exception": false,
     "start_time": "2023-01-13T19:52:06.557257",
     "status": "completed"
    },
    "tags": []
   },
   "outputs": [],
   "source": [
    "# data_test"
   ]
  },
  {
   "cell_type": "code",
   "execution_count": 102,
   "id": "0a466302",
   "metadata": {
    "execution": {
     "iopub.execute_input": "2023-01-13T19:52:06.756917Z",
     "iopub.status.busy": "2023-01-13T19:52:06.756491Z",
     "iopub.status.idle": "2023-01-13T19:52:06.773846Z",
     "shell.execute_reply": "2023-01-13T19:52:06.772402Z"
    },
    "papermill": {
     "duration": 0.073501,
     "end_time": "2023-01-13T19:52:06.776843",
     "exception": false,
     "start_time": "2023-01-13T19:52:06.703342",
     "status": "completed"
    },
    "tags": []
   },
   "outputs": [],
   "source": [
    "# data_test.info()"
   ]
  },
  {
   "cell_type": "code",
   "execution_count": 103,
   "id": "44c29881",
   "metadata": {
    "execution": {
     "iopub.execute_input": "2023-01-13T19:52:06.885940Z",
     "iopub.status.busy": "2023-01-13T19:52:06.885553Z",
     "iopub.status.idle": "2023-01-13T19:52:06.890487Z",
     "shell.execute_reply": "2023-01-13T19:52:06.889702Z"
    },
    "papermill": {
     "duration": 0.061968,
     "end_time": "2023-01-13T19:52:06.892470",
     "exception": false,
     "start_time": "2023-01-13T19:52:06.830502",
     "status": "completed"
    },
    "tags": []
   },
   "outputs": [],
   "source": [
    "# td2= data_test.copy(deep=True)"
   ]
  },
  {
   "cell_type": "code",
   "execution_count": 104,
   "id": "dabe2a71",
   "metadata": {
    "execution": {
     "iopub.execute_input": "2023-01-13T19:52:07.002925Z",
     "iopub.status.busy": "2023-01-13T19:52:07.001362Z",
     "iopub.status.idle": "2023-01-13T19:52:07.012504Z",
     "shell.execute_reply": "2023-01-13T19:52:07.010689Z"
    },
    "papermill": {
     "duration": 0.070151,
     "end_time": "2023-01-13T19:52:07.015799",
     "exception": false,
     "start_time": "2023-01-13T19:52:06.945648",
     "status": "completed"
    },
    "tags": []
   },
   "outputs": [],
   "source": [
    "# td2.shape"
   ]
  },
  {
   "cell_type": "code",
   "execution_count": 105,
   "id": "5de01984",
   "metadata": {
    "execution": {
     "iopub.execute_input": "2023-01-13T19:52:07.140777Z",
     "iopub.status.busy": "2023-01-13T19:52:07.139404Z",
     "iopub.status.idle": "2023-01-13T19:52:07.147131Z",
     "shell.execute_reply": "2023-01-13T19:52:07.145991Z"
    },
    "papermill": {
     "duration": 0.072248,
     "end_time": "2023-01-13T19:52:07.150077",
     "exception": false,
     "start_time": "2023-01-13T19:52:07.077829",
     "status": "completed"
    },
    "tags": []
   },
   "outputs": [],
   "source": [
    "# td2.shape"
   ]
  },
  {
   "cell_type": "code",
   "execution_count": 106,
   "id": "a28d86c6",
   "metadata": {
    "execution": {
     "iopub.execute_input": "2023-01-13T19:52:07.260866Z",
     "iopub.status.busy": "2023-01-13T19:52:07.260436Z",
     "iopub.status.idle": "2023-01-13T19:52:07.272636Z",
     "shell.execute_reply": "2023-01-13T19:52:07.271487Z"
    },
    "papermill": {
     "duration": 0.069354,
     "end_time": "2023-01-13T19:52:07.275074",
     "exception": false,
     "start_time": "2023-01-13T19:52:07.205720",
     "status": "completed"
    },
    "tags": []
   },
   "outputs": [],
   "source": [
    "# td2[\"HomePage\"] = imputer.fit_transform(td2[[\"HomePage\"]])"
   ]
  },
  {
   "cell_type": "code",
   "execution_count": 107,
   "id": "7a272fbc",
   "metadata": {
    "execution": {
     "iopub.execute_input": "2023-01-13T19:52:07.381214Z",
     "iopub.status.busy": "2023-01-13T19:52:07.380759Z",
     "iopub.status.idle": "2023-01-13T19:52:07.448932Z",
     "shell.execute_reply": "2023-01-13T19:52:07.447827Z"
    },
    "papermill": {
     "duration": 0.124939,
     "end_time": "2023-01-13T19:52:07.451791",
     "exception": false,
     "start_time": "2023-01-13T19:52:07.326852",
     "status": "completed"
    },
    "tags": []
   },
   "outputs": [],
   "source": [
    "# list = ['HomePage_Duration','LandingPage','LandingPage_Duration','ProductDescriptionPage','ProductDescriptionPage_Duration','GoogleMetric:Bounce Rates','GoogleMetric:Exit Rates','GoogleMetric:Page Values','SeasonalPurchase','OS','SearchEngine','Zone','Type of Traffic','WeekendPurchase']\n",
    "# for i in list:\n",
    "#     td2[i] = imputer.fit_transform(td2[[i]])"
   ]
  },
  {
   "cell_type": "code",
   "execution_count": 108,
   "id": "79b423a9",
   "metadata": {
    "execution": {
     "iopub.execute_input": "2023-01-13T19:52:07.559048Z",
     "iopub.status.busy": "2023-01-13T19:52:07.558601Z",
     "iopub.status.idle": "2023-01-13T19:52:07.611038Z",
     "shell.execute_reply": "2023-01-13T19:52:07.609952Z"
    },
    "papermill": {
     "duration": 0.109266,
     "end_time": "2023-01-13T19:52:07.614121",
     "exception": false,
     "start_time": "2023-01-13T19:52:07.504855",
     "status": "completed"
    },
    "tags": []
   },
   "outputs": [],
   "source": [
    "# for k in l:\n",
    "#     td2[k] = scale.fit_transform(td2[[k]])"
   ]
  },
  {
   "cell_type": "code",
   "execution_count": 109,
   "id": "63dc13ae",
   "metadata": {
    "execution": {
     "iopub.execute_input": "2023-01-13T19:52:07.723801Z",
     "iopub.status.busy": "2023-01-13T19:52:07.723400Z",
     "iopub.status.idle": "2023-01-13T19:52:07.784563Z",
     "shell.execute_reply": "2023-01-13T19:52:07.783267Z"
    },
    "papermill": {
     "duration": 0.11832,
     "end_time": "2023-01-13T19:52:07.787258",
     "exception": false,
     "start_time": "2023-01-13T19:52:07.668938",
     "status": "completed"
    },
    "tags": []
   },
   "outputs": [],
   "source": [
    "# td2.describe()"
   ]
  },
  {
   "cell_type": "code",
   "execution_count": 110,
   "id": "b7db5b67",
   "metadata": {
    "execution": {
     "iopub.execute_input": "2023-01-13T19:52:07.899150Z",
     "iopub.status.busy": "2023-01-13T19:52:07.898747Z",
     "iopub.status.idle": "2023-01-13T19:52:07.910093Z",
     "shell.execute_reply": "2023-01-13T19:52:07.908846Z"
    },
    "papermill": {
     "duration": 0.069797,
     "end_time": "2023-01-13T19:52:07.912515",
     "exception": false,
     "start_time": "2023-01-13T19:52:07.842718",
     "status": "completed"
    },
    "tags": []
   },
   "outputs": [],
   "source": [
    "# td2['Month_SeasonalPurchase'] = imputer_c.fit_transform(td2[['Month_SeasonalPurchase']])"
   ]
  },
  {
   "cell_type": "code",
   "execution_count": 111,
   "id": "32a6828d",
   "metadata": {
    "execution": {
     "iopub.execute_input": "2023-01-13T19:52:08.023696Z",
     "iopub.status.busy": "2023-01-13T19:52:08.022420Z",
     "iopub.status.idle": "2023-01-13T19:52:08.052370Z",
     "shell.execute_reply": "2023-01-13T19:52:08.050820Z"
    },
    "papermill": {
     "duration": 0.088431,
     "end_time": "2023-01-13T19:52:08.055406",
     "exception": false,
     "start_time": "2023-01-13T19:52:07.966975",
     "status": "completed"
    },
    "tags": []
   },
   "outputs": [],
   "source": [
    "# td2['CustomerType'] = imputer_c.fit_transform(td2[['CustomerType']])\n",
    "# td2['Gender'] = imputer_c.fit_transform(td2[['Gender']])\n",
    "# td2['Cookies Setting'] = imputer_c.fit_transform(td2[['Cookies Setting']])\n",
    "# td2['Education'] = imputer_c.fit_transform(td2[['Education']])\n",
    "# td2['Marital Status'] = imputer_c.fit_transform(td2[['Marital Status']])"
   ]
  },
  {
   "cell_type": "code",
   "execution_count": 112,
   "id": "0b2b2abb",
   "metadata": {
    "execution": {
     "iopub.execute_input": "2023-01-13T19:52:08.166863Z",
     "iopub.status.busy": "2023-01-13T19:52:08.166127Z",
     "iopub.status.idle": "2023-01-13T19:52:08.183274Z",
     "shell.execute_reply": "2023-01-13T19:52:08.181462Z"
    },
    "papermill": {
     "duration": 0.076507,
     "end_time": "2023-01-13T19:52:08.186618",
     "exception": false,
     "start_time": "2023-01-13T19:52:08.110111",
     "status": "completed"
    },
    "tags": []
   },
   "outputs": [],
   "source": [
    "# td2.info()"
   ]
  },
  {
   "cell_type": "code",
   "execution_count": 113,
   "id": "04d5c8bf",
   "metadata": {
    "execution": {
     "iopub.execute_input": "2023-01-13T19:52:08.299368Z",
     "iopub.status.busy": "2023-01-13T19:52:08.298968Z",
     "iopub.status.idle": "2023-01-13T19:52:08.318697Z",
     "shell.execute_reply": "2023-01-13T19:52:08.317717Z"
    },
    "papermill": {
     "duration": 0.078229,
     "end_time": "2023-01-13T19:52:08.321669",
     "exception": false,
     "start_time": "2023-01-13T19:52:08.243440",
     "status": "completed"
    },
    "tags": []
   },
   "outputs": [],
   "source": [
    "# x_test3 = pd.get_dummies(td2,columns=['Month_SeasonalPurchase','CustomerType','Gender','Cookies Setting','Education','Marital Status'])"
   ]
  },
  {
   "cell_type": "code",
   "execution_count": 114,
   "id": "9658225b",
   "metadata": {
    "execution": {
     "iopub.execute_input": "2023-01-13T19:52:08.432723Z",
     "iopub.status.busy": "2023-01-13T19:52:08.432251Z",
     "iopub.status.idle": "2023-01-13T19:52:08.439465Z",
     "shell.execute_reply": "2023-01-13T19:52:08.438300Z"
    },
    "papermill": {
     "duration": 0.065022,
     "end_time": "2023-01-13T19:52:08.441872",
     "exception": false,
     "start_time": "2023-01-13T19:52:08.376850",
     "status": "completed"
    },
    "tags": []
   },
   "outputs": [],
   "source": [
    "# x_test3.shape"
   ]
  },
  {
   "cell_type": "code",
   "execution_count": 115,
   "id": "13d40bb9",
   "metadata": {
    "execution": {
     "iopub.execute_input": "2023-01-13T19:52:08.553190Z",
     "iopub.status.busy": "2023-01-13T19:52:08.552722Z",
     "iopub.status.idle": "2023-01-13T19:52:08.557814Z",
     "shell.execute_reply": "2023-01-13T19:52:08.557014Z"
    },
    "papermill": {
     "duration": 0.062922,
     "end_time": "2023-01-13T19:52:08.560150",
     "exception": false,
     "start_time": "2023-01-13T19:52:08.497228",
     "status": "completed"
    },
    "tags": []
   },
   "outputs": [],
   "source": [
    "#test_data_1"
   ]
  },
  {
   "cell_type": "code",
   "execution_count": 116,
   "id": "ce984528",
   "metadata": {
    "execution": {
     "iopub.execute_input": "2023-01-13T19:52:08.671920Z",
     "iopub.status.busy": "2023-01-13T19:52:08.671047Z",
     "iopub.status.idle": "2023-01-13T19:52:08.676045Z",
     "shell.execute_reply": "2023-01-13T19:52:08.675243Z"
    },
    "papermill": {
     "duration": 0.063261,
     "end_time": "2023-01-13T19:52:08.678294",
     "exception": false,
     "start_time": "2023-01-13T19:52:08.615033",
     "status": "completed"
    },
    "tags": []
   },
   "outputs": [],
   "source": [
    "#y_test = model1.predict(test_data_1)"
   ]
  },
  {
   "cell_type": "code",
   "execution_count": 117,
   "id": "92c0e6af",
   "metadata": {
    "execution": {
     "iopub.execute_input": "2023-01-13T19:52:08.788932Z",
     "iopub.status.busy": "2023-01-13T19:52:08.788461Z",
     "iopub.status.idle": "2023-01-13T19:52:08.793041Z",
     "shell.execute_reply": "2023-01-13T19:52:08.791906Z"
    },
    "papermill": {
     "duration": 0.063114,
     "end_time": "2023-01-13T19:52:08.795532",
     "exception": false,
     "start_time": "2023-01-13T19:52:08.732418",
     "status": "completed"
    },
    "tags": []
   },
   "outputs": [],
   "source": [
    "#y_test"
   ]
  },
  {
   "cell_type": "code",
   "execution_count": 118,
   "id": "65728d62",
   "metadata": {
    "execution": {
     "iopub.execute_input": "2023-01-13T19:52:08.905917Z",
     "iopub.status.busy": "2023-01-13T19:52:08.905017Z",
     "iopub.status.idle": "2023-01-13T19:52:08.910091Z",
     "shell.execute_reply": "2023-01-13T19:52:08.909319Z"
    },
    "papermill": {
     "duration": 0.063265,
     "end_time": "2023-01-13T19:52:08.912429",
     "exception": false,
     "start_time": "2023-01-13T19:52:08.849164",
     "status": "completed"
    },
    "tags": []
   },
   "outputs": [],
   "source": [
    "#accuracy_score(y_test_sample,y_test)"
   ]
  },
  {
   "cell_type": "code",
   "execution_count": 119,
   "id": "44beb56d",
   "metadata": {
    "execution": {
     "iopub.execute_input": "2023-01-13T19:52:09.024584Z",
     "iopub.status.busy": "2023-01-13T19:52:09.023676Z",
     "iopub.status.idle": "2023-01-13T19:52:09.028878Z",
     "shell.execute_reply": "2023-01-13T19:52:09.027925Z"
    },
    "papermill": {
     "duration": 0.065401,
     "end_time": "2023-01-13T19:52:09.031309",
     "exception": false,
     "start_time": "2023-01-13T19:52:08.965908",
     "status": "completed"
    },
    "tags": []
   },
   "outputs": [],
   "source": [
    "#len(y_test)"
   ]
  },
  {
   "cell_type": "code",
   "execution_count": 120,
   "id": "f39b96b2",
   "metadata": {
    "execution": {
     "iopub.execute_input": "2023-01-13T19:52:09.142240Z",
     "iopub.status.busy": "2023-01-13T19:52:09.141833Z",
     "iopub.status.idle": "2023-01-13T19:52:09.149458Z",
     "shell.execute_reply": "2023-01-13T19:52:09.148261Z"
    },
    "papermill": {
     "duration": 0.066685,
     "end_time": "2023-01-13T19:52:09.151874",
     "exception": false,
     "start_time": "2023-01-13T19:52:09.085189",
     "status": "completed"
    },
    "tags": []
   },
   "outputs": [
    {
     "data": {
      "text/plain": [
       "'string=\"\"\\nprint(y_test[1])\\nfor i in range(len(y_test)):\\n    y_test[i]\\n    string += str(y_test[i]) + \",\"'"
      ]
     },
     "execution_count": 120,
     "metadata": {},
     "output_type": "execute_result"
    }
   ],
   "source": [
    "'''string=\"\"\n",
    "print(y_test[1])\n",
    "for i in range(len(y_test)):\n",
    "    y_test[i]\n",
    "    string += str(y_test[i]) + \",\"'''"
   ]
  },
  {
   "cell_type": "code",
   "execution_count": 121,
   "id": "2aef46e0",
   "metadata": {
    "execution": {
     "iopub.execute_input": "2023-01-13T19:52:09.264830Z",
     "iopub.status.busy": "2023-01-13T19:52:09.263295Z",
     "iopub.status.idle": "2023-01-13T19:52:09.268970Z",
     "shell.execute_reply": "2023-01-13T19:52:09.268094Z"
    },
    "papermill": {
     "duration": 0.065009,
     "end_time": "2023-01-13T19:52:09.271230",
     "exception": false,
     "start_time": "2023-01-13T19:52:09.206221",
     "status": "completed"
    },
    "tags": []
   },
   "outputs": [],
   "source": [
    "#string"
   ]
  },
  {
   "cell_type": "code",
   "execution_count": 122,
   "id": "99b4b66e",
   "metadata": {
    "execution": {
     "iopub.execute_input": "2023-01-13T19:52:09.383875Z",
     "iopub.status.busy": "2023-01-13T19:52:09.382475Z",
     "iopub.status.idle": "2023-01-13T19:52:09.388004Z",
     "shell.execute_reply": "2023-01-13T19:52:09.387021Z"
    },
    "papermill": {
     "duration": 0.063672,
     "end_time": "2023-01-13T19:52:09.390451",
     "exception": false,
     "start_time": "2023-01-13T19:52:09.326779",
     "status": "completed"
    },
    "tags": []
   },
   "outputs": [],
   "source": [
    "#model1.score(test_data_1,y_test_true)"
   ]
  },
  {
   "cell_type": "code",
   "execution_count": 123,
   "id": "5ad9244e",
   "metadata": {
    "execution": {
     "iopub.execute_input": "2023-01-13T19:52:09.501508Z",
     "iopub.status.busy": "2023-01-13T19:52:09.500225Z",
     "iopub.status.idle": "2023-01-13T19:52:09.505845Z",
     "shell.execute_reply": "2023-01-13T19:52:09.504925Z"
    },
    "papermill": {
     "duration": 0.063566,
     "end_time": "2023-01-13T19:52:09.508280",
     "exception": false,
     "start_time": "2023-01-13T19:52:09.444714",
     "status": "completed"
    },
    "tags": []
   },
   "outputs": [],
   "source": [
    "#scores1 = cross_val_score(model1,x,y,cv=5)"
   ]
  },
  {
   "cell_type": "code",
   "execution_count": 124,
   "id": "46206e61",
   "metadata": {
    "execution": {
     "iopub.execute_input": "2023-01-13T19:52:09.621820Z",
     "iopub.status.busy": "2023-01-13T19:52:09.620972Z",
     "iopub.status.idle": "2023-01-13T19:52:09.626036Z",
     "shell.execute_reply": "2023-01-13T19:52:09.625127Z"
    },
    "papermill": {
     "duration": 0.064624,
     "end_time": "2023-01-13T19:52:09.628330",
     "exception": false,
     "start_time": "2023-01-13T19:52:09.563706",
     "status": "completed"
    },
    "tags": []
   },
   "outputs": [],
   "source": [
    "#scores1."
   ]
  },
  {
   "cell_type": "code",
   "execution_count": 125,
   "id": "da670562",
   "metadata": {
    "execution": {
     "iopub.execute_input": "2023-01-13T19:52:09.740879Z",
     "iopub.status.busy": "2023-01-13T19:52:09.740022Z",
     "iopub.status.idle": "2023-01-13T19:52:09.745327Z",
     "shell.execute_reply": "2023-01-13T19:52:09.744504Z"
    },
    "papermill": {
     "duration": 0.0633,
     "end_time": "2023-01-13T19:52:09.747604",
     "exception": false,
     "start_time": "2023-01-13T19:52:09.684304",
     "status": "completed"
    },
    "tags": []
   },
   "outputs": [],
   "source": [
    "from sklearn.metrics import accuracy_score"
   ]
  },
  {
   "cell_type": "code",
   "execution_count": 126,
   "id": "85ff45a0",
   "metadata": {
    "execution": {
     "iopub.execute_input": "2023-01-13T19:52:09.858464Z",
     "iopub.status.busy": "2023-01-13T19:52:09.857612Z",
     "iopub.status.idle": "2023-01-13T19:52:09.862687Z",
     "shell.execute_reply": "2023-01-13T19:52:09.861760Z"
    },
    "papermill": {
     "duration": 0.062988,
     "end_time": "2023-01-13T19:52:09.865233",
     "exception": false,
     "start_time": "2023-01-13T19:52:09.802245",
     "status": "completed"
    },
    "tags": []
   },
   "outputs": [],
   "source": [
    "#accuracy_score(y_test_true,y_test)"
   ]
  },
  {
   "cell_type": "code",
   "execution_count": 127,
   "id": "85011ac9",
   "metadata": {
    "execution": {
     "iopub.execute_input": "2023-01-13T19:52:09.977287Z",
     "iopub.status.busy": "2023-01-13T19:52:09.976560Z",
     "iopub.status.idle": "2023-01-13T19:52:09.981236Z",
     "shell.execute_reply": "2023-01-13T19:52:09.980357Z"
    },
    "papermill": {
     "duration": 0.063235,
     "end_time": "2023-01-13T19:52:09.983496",
     "exception": false,
     "start_time": "2023-01-13T19:52:09.920261",
     "status": "completed"
    },
    "tags": []
   },
   "outputs": [],
   "source": [
    "#with open(\"submission.csv\",'w') as file:\n",
    " #   file.write(string)\n",
    "    "
   ]
  },
  {
   "cell_type": "code",
   "execution_count": 128,
   "id": "4b182431",
   "metadata": {
    "execution": {
     "iopub.execute_input": "2023-01-13T19:52:10.097825Z",
     "iopub.status.busy": "2023-01-13T19:52:10.096936Z",
     "iopub.status.idle": "2023-01-13T19:52:10.101902Z",
     "shell.execute_reply": "2023-01-13T19:52:10.101092Z"
    },
    "papermill": {
     "duration": 0.064766,
     "end_time": "2023-01-13T19:52:10.104186",
     "exception": false,
     "start_time": "2023-01-13T19:52:10.039420",
     "status": "completed"
    },
    "tags": []
   },
   "outputs": [],
   "source": [
    "#submission = pd.DataFrame(columns=[\"id\",\"Made_Purchase\"])\n",
    "#submission['id']=[i for i in range(len(y_test))]\n",
    "#submission[\"Made_Purchase\"] = y_test"
   ]
  },
  {
   "cell_type": "code",
   "execution_count": 129,
   "id": "65ff1a7b",
   "metadata": {
    "execution": {
     "iopub.execute_input": "2023-01-13T19:52:10.214636Z",
     "iopub.status.busy": "2023-01-13T19:52:10.213802Z",
     "iopub.status.idle": "2023-01-13T19:52:10.218721Z",
     "shell.execute_reply": "2023-01-13T19:52:10.217866Z"
    },
    "papermill": {
     "duration": 0.062674,
     "end_time": "2023-01-13T19:52:10.221038",
     "exception": false,
     "start_time": "2023-01-13T19:52:10.158364",
     "status": "completed"
    },
    "tags": []
   },
   "outputs": [],
   "source": [
    "#submission.head()"
   ]
  },
  {
   "cell_type": "code",
   "execution_count": 130,
   "id": "be94711e",
   "metadata": {
    "execution": {
     "iopub.execute_input": "2023-01-13T19:52:10.333862Z",
     "iopub.status.busy": "2023-01-13T19:52:10.333366Z",
     "iopub.status.idle": "2023-01-13T19:52:10.338407Z",
     "shell.execute_reply": "2023-01-13T19:52:10.337241Z"
    },
    "papermill": {
     "duration": 0.064593,
     "end_time": "2023-01-13T19:52:10.340896",
     "exception": false,
     "start_time": "2023-01-13T19:52:10.276303",
     "status": "completed"
    },
    "tags": []
   },
   "outputs": [],
   "source": [
    "#submission.to_csv(\"submission.csv\",index=False)"
   ]
  },
  {
   "cell_type": "code",
   "execution_count": 131,
   "id": "88585e5b",
   "metadata": {
    "execution": {
     "iopub.execute_input": "2023-01-13T19:52:10.453153Z",
     "iopub.status.busy": "2023-01-13T19:52:10.452735Z",
     "iopub.status.idle": "2023-01-13T19:52:10.458616Z",
     "shell.execute_reply": "2023-01-13T19:52:10.457087Z"
    },
    "papermill": {
     "duration": 0.06545,
     "end_time": "2023-01-13T19:52:10.461034",
     "exception": false,
     "start_time": "2023-01-13T19:52:10.395584",
     "status": "completed"
    },
    "tags": []
   },
   "outputs": [],
   "source": [
    "from sklearn.linear_model import SGDClassifier"
   ]
  },
  {
   "cell_type": "code",
   "execution_count": 132,
   "id": "5974fbb9",
   "metadata": {
    "execution": {
     "iopub.execute_input": "2023-01-13T19:52:10.572718Z",
     "iopub.status.busy": "2023-01-13T19:52:10.572300Z",
     "iopub.status.idle": "2023-01-13T19:52:10.577378Z",
     "shell.execute_reply": "2023-01-13T19:52:10.576152Z"
    },
    "papermill": {
     "duration": 0.063584,
     "end_time": "2023-01-13T19:52:10.579761",
     "exception": false,
     "start_time": "2023-01-13T19:52:10.516177",
     "status": "completed"
    },
    "tags": []
   },
   "outputs": [],
   "source": [
    "model2 = SGDClassifier(fit_intercept=True,loss='hinge',penalty='elasticnet',random_state=42,learning_rate='adaptive',early_stopping=True,warm_start=False,eta0=0.1)"
   ]
  },
  {
   "cell_type": "code",
   "execution_count": 133,
   "id": "7f2ca090",
   "metadata": {
    "execution": {
     "iopub.execute_input": "2023-01-13T19:52:10.689107Z",
     "iopub.status.busy": "2023-01-13T19:52:10.688702Z",
     "iopub.status.idle": "2023-01-13T19:52:10.693783Z",
     "shell.execute_reply": "2023-01-13T19:52:10.692644Z"
    },
    "papermill": {
     "duration": 0.062823,
     "end_time": "2023-01-13T19:52:10.696184",
     "exception": false,
     "start_time": "2023-01-13T19:52:10.633361",
     "status": "completed"
    },
    "tags": []
   },
   "outputs": [
    {
     "name": "stderr",
     "output_type": "stream",
     "text": [
      "C:\\Users\\HP\\anaconda3\\lib\\site-packages\\sklearn\\utils\\validation.py:1143: DataConversionWarning: A column-vector y was passed when a 1d array was expected. Please change the shape of y to (n_samples, ), for example using ravel().\n",
      "  y = column_or_1d(y, warn=True)\n"
     ]
    },
    {
     "data": {
      "text/html": [
       "<style>#sk-container-id-2 {color: black;background-color: white;}#sk-container-id-2 pre{padding: 0;}#sk-container-id-2 div.sk-toggleable {background-color: white;}#sk-container-id-2 label.sk-toggleable__label {cursor: pointer;display: block;width: 100%;margin-bottom: 0;padding: 0.3em;box-sizing: border-box;text-align: center;}#sk-container-id-2 label.sk-toggleable__label-arrow:before {content: \"▸\";float: left;margin-right: 0.25em;color: #696969;}#sk-container-id-2 label.sk-toggleable__label-arrow:hover:before {color: black;}#sk-container-id-2 div.sk-estimator:hover label.sk-toggleable__label-arrow:before {color: black;}#sk-container-id-2 div.sk-toggleable__content {max-height: 0;max-width: 0;overflow: hidden;text-align: left;background-color: #f0f8ff;}#sk-container-id-2 div.sk-toggleable__content pre {margin: 0.2em;color: black;border-radius: 0.25em;background-color: #f0f8ff;}#sk-container-id-2 input.sk-toggleable__control:checked~div.sk-toggleable__content {max-height: 200px;max-width: 100%;overflow: auto;}#sk-container-id-2 input.sk-toggleable__control:checked~label.sk-toggleable__label-arrow:before {content: \"▾\";}#sk-container-id-2 div.sk-estimator input.sk-toggleable__control:checked~label.sk-toggleable__label {background-color: #d4ebff;}#sk-container-id-2 div.sk-label input.sk-toggleable__control:checked~label.sk-toggleable__label {background-color: #d4ebff;}#sk-container-id-2 input.sk-hidden--visually {border: 0;clip: rect(1px 1px 1px 1px);clip: rect(1px, 1px, 1px, 1px);height: 1px;margin: -1px;overflow: hidden;padding: 0;position: absolute;width: 1px;}#sk-container-id-2 div.sk-estimator {font-family: monospace;background-color: #f0f8ff;border: 1px dotted black;border-radius: 0.25em;box-sizing: border-box;margin-bottom: 0.5em;}#sk-container-id-2 div.sk-estimator:hover {background-color: #d4ebff;}#sk-container-id-2 div.sk-parallel-item::after {content: \"\";width: 100%;border-bottom: 1px solid gray;flex-grow: 1;}#sk-container-id-2 div.sk-label:hover label.sk-toggleable__label {background-color: #d4ebff;}#sk-container-id-2 div.sk-serial::before {content: \"\";position: absolute;border-left: 1px solid gray;box-sizing: border-box;top: 0;bottom: 0;left: 50%;z-index: 0;}#sk-container-id-2 div.sk-serial {display: flex;flex-direction: column;align-items: center;background-color: white;padding-right: 0.2em;padding-left: 0.2em;position: relative;}#sk-container-id-2 div.sk-item {position: relative;z-index: 1;}#sk-container-id-2 div.sk-parallel {display: flex;align-items: stretch;justify-content: center;background-color: white;position: relative;}#sk-container-id-2 div.sk-item::before, #sk-container-id-2 div.sk-parallel-item::before {content: \"\";position: absolute;border-left: 1px solid gray;box-sizing: border-box;top: 0;bottom: 0;left: 50%;z-index: -1;}#sk-container-id-2 div.sk-parallel-item {display: flex;flex-direction: column;z-index: 1;position: relative;background-color: white;}#sk-container-id-2 div.sk-parallel-item:first-child::after {align-self: flex-end;width: 50%;}#sk-container-id-2 div.sk-parallel-item:last-child::after {align-self: flex-start;width: 50%;}#sk-container-id-2 div.sk-parallel-item:only-child::after {width: 0;}#sk-container-id-2 div.sk-dashed-wrapped {border: 1px dashed gray;margin: 0 0.4em 0.5em 0.4em;box-sizing: border-box;padding-bottom: 0.4em;background-color: white;}#sk-container-id-2 div.sk-label label {font-family: monospace;font-weight: bold;display: inline-block;line-height: 1.2em;}#sk-container-id-2 div.sk-label-container {text-align: center;}#sk-container-id-2 div.sk-container {/* jupyter's `normalize.less` sets `[hidden] { display: none; }` but bootstrap.min.css set `[hidden] { display: none !important; }` so we also need the `!important` here to be able to override the default hidden behavior on the sphinx rendered scikit-learn.org. See: https://github.com/scikit-learn/scikit-learn/issues/21755 */display: inline-block !important;position: relative;}#sk-container-id-2 div.sk-text-repr-fallback {display: none;}</style><div id=\"sk-container-id-2\" class=\"sk-top-container\"><div class=\"sk-text-repr-fallback\"><pre>SGDClassifier(early_stopping=True, eta0=0.1, learning_rate=&#x27;adaptive&#x27;,\n",
       "              penalty=&#x27;elasticnet&#x27;, random_state=42)</pre><b>In a Jupyter environment, please rerun this cell to show the HTML representation or trust the notebook. <br />On GitHub, the HTML representation is unable to render, please try loading this page with nbviewer.org.</b></div><div class=\"sk-container\" hidden><div class=\"sk-item\"><div class=\"sk-estimator sk-toggleable\"><input class=\"sk-toggleable__control sk-hidden--visually\" id=\"sk-estimator-id-2\" type=\"checkbox\" checked><label for=\"sk-estimator-id-2\" class=\"sk-toggleable__label sk-toggleable__label-arrow\">SGDClassifier</label><div class=\"sk-toggleable__content\"><pre>SGDClassifier(early_stopping=True, eta0=0.1, learning_rate=&#x27;adaptive&#x27;,\n",
       "              penalty=&#x27;elasticnet&#x27;, random_state=42)</pre></div></div></div></div></div>"
      ],
      "text/plain": [
       "SGDClassifier(early_stopping=True, eta0=0.1, learning_rate='adaptive',\n",
       "              penalty='elasticnet', random_state=42)"
      ]
     },
     "execution_count": 133,
     "metadata": {},
     "output_type": "execute_result"
    }
   ],
   "source": [
    "model2.fit(x_train,y_train)"
   ]
  },
  {
   "cell_type": "code",
   "execution_count": 134,
   "id": "40cd14cc",
   "metadata": {
    "execution": {
     "iopub.execute_input": "2023-01-13T19:52:10.887319Z",
     "iopub.status.busy": "2023-01-13T19:52:10.886481Z",
     "iopub.status.idle": "2023-01-13T19:52:10.891374Z",
     "shell.execute_reply": "2023-01-13T19:52:10.890573Z"
    },
    "papermill": {
     "duration": 0.143661,
     "end_time": "2023-01-13T19:52:10.893647",
     "exception": false,
     "start_time": "2023-01-13T19:52:10.749986",
     "status": "completed"
    },
    "tags": []
   },
   "outputs": [
    {
     "data": {
      "text/plain": [
       "0.9205607476635514"
      ]
     },
     "execution_count": 134,
     "metadata": {},
     "output_type": "execute_result"
    }
   ],
   "source": [
    "model2.score(x_test,y_test_main)"
   ]
  },
  {
   "cell_type": "code",
   "execution_count": 135,
   "id": "92d15457",
   "metadata": {
    "execution": {
     "iopub.execute_input": "2023-01-13T19:52:11.005016Z",
     "iopub.status.busy": "2023-01-13T19:52:11.004489Z",
     "iopub.status.idle": "2023-01-13T19:52:11.009692Z",
     "shell.execute_reply": "2023-01-13T19:52:11.008510Z"
    },
    "papermill": {
     "duration": 0.064555,
     "end_time": "2023-01-13T19:52:11.011972",
     "exception": false,
     "start_time": "2023-01-13T19:52:10.947417",
     "status": "completed"
    },
    "tags": []
   },
   "outputs": [],
   "source": [
    "#model2.score(test_data_1,y_test_true)"
   ]
  },
  {
   "cell_type": "code",
   "execution_count": 136,
   "id": "a7a0c327",
   "metadata": {
    "execution": {
     "iopub.execute_input": "2023-01-13T19:52:11.123617Z",
     "iopub.status.busy": "2023-01-13T19:52:11.122708Z",
     "iopub.status.idle": "2023-01-13T19:52:11.127926Z",
     "shell.execute_reply": "2023-01-13T19:52:11.126973Z"
    },
    "papermill": {
     "duration": 0.063224,
     "end_time": "2023-01-13T19:52:11.130302",
     "exception": false,
     "start_time": "2023-01-13T19:52:11.067078",
     "status": "completed"
    },
    "tags": []
   },
   "outputs": [],
   "source": [
    "#y_test1 = model2.predict(test_data_1)"
   ]
  },
  {
   "cell_type": "code",
   "execution_count": 137,
   "id": "eeddf656",
   "metadata": {
    "execution": {
     "iopub.execute_input": "2023-01-13T19:52:11.243701Z",
     "iopub.status.busy": "2023-01-13T19:52:11.242818Z",
     "iopub.status.idle": "2023-01-13T19:52:11.247874Z",
     "shell.execute_reply": "2023-01-13T19:52:11.246953Z"
    },
    "papermill": {
     "duration": 0.063688,
     "end_time": "2023-01-13T19:52:11.250192",
     "exception": false,
     "start_time": "2023-01-13T19:52:11.186504",
     "status": "completed"
    },
    "tags": []
   },
   "outputs": [],
   "source": [
    "#y_test1"
   ]
  },
  {
   "cell_type": "code",
   "execution_count": 138,
   "id": "66220cb1",
   "metadata": {
    "execution": {
     "iopub.execute_input": "2023-01-13T19:52:11.361735Z",
     "iopub.status.busy": "2023-01-13T19:52:11.360827Z",
     "iopub.status.idle": "2023-01-13T19:52:11.365758Z",
     "shell.execute_reply": "2023-01-13T19:52:11.364975Z"
    },
    "papermill": {
     "duration": 0.062919,
     "end_time": "2023-01-13T19:52:11.368029",
     "exception": false,
     "start_time": "2023-01-13T19:52:11.305110",
     "status": "completed"
    },
    "tags": []
   },
   "outputs": [],
   "source": [
    "#string1=\"\"\n",
    "#print(y_test1[1])\n",
    "#for i in range(len(y_test1)):\n",
    "#    y_test1[i]\n",
    "#    string1 += str(y_test1[i]) + \",\""
   ]
  },
  {
   "cell_type": "code",
   "execution_count": 139,
   "id": "64ee143f",
   "metadata": {
    "execution": {
     "iopub.execute_input": "2023-01-13T19:52:11.477552Z",
     "iopub.status.busy": "2023-01-13T19:52:11.476647Z",
     "iopub.status.idle": "2023-01-13T19:52:11.481757Z",
     "shell.execute_reply": "2023-01-13T19:52:11.480901Z"
    },
    "papermill": {
     "duration": 0.062519,
     "end_time": "2023-01-13T19:52:11.484008",
     "exception": false,
     "start_time": "2023-01-13T19:52:11.421489",
     "status": "completed"
    },
    "tags": []
   },
   "outputs": [],
   "source": [
    "#submission = pd.DataFrame(columns=[\"id\",\"Made_Purchase\"])\n",
    "#submission['id']=[i for i in range(len(y_test1))]\n",
    "#submission[\"Made_Purchase\"] = y_test1"
   ]
  },
  {
   "cell_type": "code",
   "execution_count": 140,
   "id": "37bb1310",
   "metadata": {
    "execution": {
     "iopub.execute_input": "2023-01-13T19:52:11.593950Z",
     "iopub.status.busy": "2023-01-13T19:52:11.593060Z",
     "iopub.status.idle": "2023-01-13T19:52:11.598091Z",
     "shell.execute_reply": "2023-01-13T19:52:11.597252Z"
    },
    "papermill": {
     "duration": 0.062829,
     "end_time": "2023-01-13T19:52:11.600367",
     "exception": false,
     "start_time": "2023-01-13T19:52:11.537538",
     "status": "completed"
    },
    "tags": []
   },
   "outputs": [],
   "source": [
    "#submission"
   ]
  },
  {
   "cell_type": "code",
   "execution_count": 141,
   "id": "f7b270c7",
   "metadata": {
    "execution": {
     "iopub.execute_input": "2023-01-13T19:52:11.710878Z",
     "iopub.status.busy": "2023-01-13T19:52:11.710008Z",
     "iopub.status.idle": "2023-01-13T19:52:11.715157Z",
     "shell.execute_reply": "2023-01-13T19:52:11.714220Z"
    },
    "papermill": {
     "duration": 0.063008,
     "end_time": "2023-01-13T19:52:11.717538",
     "exception": false,
     "start_time": "2023-01-13T19:52:11.654530",
     "status": "completed"
    },
    "tags": []
   },
   "outputs": [],
   "source": [
    "#submission.to_csv(\"submission.csv\",index=False)"
   ]
  },
  {
   "cell_type": "code",
   "execution_count": 142,
   "id": "798256a8",
   "metadata": {
    "execution": {
     "iopub.execute_input": "2023-01-13T19:52:11.828791Z",
     "iopub.status.busy": "2023-01-13T19:52:11.827918Z",
     "iopub.status.idle": "2023-01-13T19:52:11.833243Z",
     "shell.execute_reply": "2023-01-13T19:52:11.832090Z"
    },
    "papermill": {
     "duration": 0.063236,
     "end_time": "2023-01-13T19:52:11.835497",
     "exception": false,
     "start_time": "2023-01-13T19:52:11.772261",
     "status": "completed"
    },
    "tags": []
   },
   "outputs": [],
   "source": [
    "#model2.score(x,y)"
   ]
  },
  {
   "cell_type": "code",
   "execution_count": 143,
   "id": "1871a02c",
   "metadata": {
    "execution": {
     "iopub.execute_input": "2023-01-13T19:52:11.946814Z",
     "iopub.status.busy": "2023-01-13T19:52:11.945289Z",
     "iopub.status.idle": "2023-01-13T19:52:11.951083Z",
     "shell.execute_reply": "2023-01-13T19:52:11.950181Z"
    },
    "papermill": {
     "duration": 0.064516,
     "end_time": "2023-01-13T19:52:11.953443",
     "exception": false,
     "start_time": "2023-01-13T19:52:11.888927",
     "status": "completed"
    },
    "tags": []
   },
   "outputs": [],
   "source": [
    "#scores2 = cross_val_score(model2,x,y,cv=5)"
   ]
  },
  {
   "cell_type": "code",
   "execution_count": 144,
   "id": "e687654c",
   "metadata": {
    "execution": {
     "iopub.execute_input": "2023-01-13T19:52:12.069596Z",
     "iopub.status.busy": "2023-01-13T19:52:12.068192Z",
     "iopub.status.idle": "2023-01-13T19:52:12.073741Z",
     "shell.execute_reply": "2023-01-13T19:52:12.072911Z"
    },
    "papermill": {
     "duration": 0.063558,
     "end_time": "2023-01-13T19:52:12.075903",
     "exception": false,
     "start_time": "2023-01-13T19:52:12.012345",
     "status": "completed"
    },
    "tags": []
   },
   "outputs": [],
   "source": [
    "#scores2.mean()"
   ]
  },
  {
   "cell_type": "code",
   "execution_count": 145,
   "id": "7f935a5c",
   "metadata": {
    "execution": {
     "iopub.execute_input": "2023-01-13T19:52:12.185455Z",
     "iopub.status.busy": "2023-01-13T19:52:12.185010Z",
     "iopub.status.idle": "2023-01-13T19:52:12.190045Z",
     "shell.execute_reply": "2023-01-13T19:52:12.188867Z"
    },
    "papermill": {
     "duration": 0.062843,
     "end_time": "2023-01-13T19:52:12.192637",
     "exception": false,
     "start_time": "2023-01-13T19:52:12.129794",
     "status": "completed"
    },
    "tags": []
   },
   "outputs": [],
   "source": [
    "from sklearn.neighbors import KNeighborsClassifier"
   ]
  },
  {
   "cell_type": "code",
   "execution_count": 146,
   "id": "79644a29",
   "metadata": {
    "execution": {
     "iopub.execute_input": "2023-01-13T19:52:12.304154Z",
     "iopub.status.busy": "2023-01-13T19:52:12.302957Z",
     "iopub.status.idle": "2023-01-13T19:52:12.308353Z",
     "shell.execute_reply": "2023-01-13T19:52:12.307496Z"
    },
    "papermill": {
     "duration": 0.063817,
     "end_time": "2023-01-13T19:52:12.311025",
     "exception": false,
     "start_time": "2023-01-13T19:52:12.247208",
     "status": "completed"
    },
    "tags": []
   },
   "outputs": [],
   "source": [
    "model3 = KNeighborsClassifier(n_neighbors=2) "
   ]
  },
  {
   "cell_type": "code",
   "execution_count": 147,
   "id": "da8e00bf",
   "metadata": {
    "execution": {
     "iopub.execute_input": "2023-01-13T19:52:12.418662Z",
     "iopub.status.busy": "2023-01-13T19:52:12.418176Z",
     "iopub.status.idle": "2023-01-13T19:52:12.423883Z",
     "shell.execute_reply": "2023-01-13T19:52:12.422567Z"
    },
    "papermill": {
     "duration": 0.062594,
     "end_time": "2023-01-13T19:52:12.426228",
     "exception": false,
     "start_time": "2023-01-13T19:52:12.363634",
     "status": "completed"
    },
    "tags": []
   },
   "outputs": [
    {
     "name": "stderr",
     "output_type": "stream",
     "text": [
      "C:\\Users\\HP\\anaconda3\\lib\\site-packages\\sklearn\\neighbors\\_classification.py:215: DataConversionWarning: A column-vector y was passed when a 1d array was expected. Please change the shape of y to (n_samples,), for example using ravel().\n",
      "  return self._fit(X, y)\n"
     ]
    },
    {
     "data": {
      "text/html": [
       "<style>#sk-container-id-3 {color: black;background-color: white;}#sk-container-id-3 pre{padding: 0;}#sk-container-id-3 div.sk-toggleable {background-color: white;}#sk-container-id-3 label.sk-toggleable__label {cursor: pointer;display: block;width: 100%;margin-bottom: 0;padding: 0.3em;box-sizing: border-box;text-align: center;}#sk-container-id-3 label.sk-toggleable__label-arrow:before {content: \"▸\";float: left;margin-right: 0.25em;color: #696969;}#sk-container-id-3 label.sk-toggleable__label-arrow:hover:before {color: black;}#sk-container-id-3 div.sk-estimator:hover label.sk-toggleable__label-arrow:before {color: black;}#sk-container-id-3 div.sk-toggleable__content {max-height: 0;max-width: 0;overflow: hidden;text-align: left;background-color: #f0f8ff;}#sk-container-id-3 div.sk-toggleable__content pre {margin: 0.2em;color: black;border-radius: 0.25em;background-color: #f0f8ff;}#sk-container-id-3 input.sk-toggleable__control:checked~div.sk-toggleable__content {max-height: 200px;max-width: 100%;overflow: auto;}#sk-container-id-3 input.sk-toggleable__control:checked~label.sk-toggleable__label-arrow:before {content: \"▾\";}#sk-container-id-3 div.sk-estimator input.sk-toggleable__control:checked~label.sk-toggleable__label {background-color: #d4ebff;}#sk-container-id-3 div.sk-label input.sk-toggleable__control:checked~label.sk-toggleable__label {background-color: #d4ebff;}#sk-container-id-3 input.sk-hidden--visually {border: 0;clip: rect(1px 1px 1px 1px);clip: rect(1px, 1px, 1px, 1px);height: 1px;margin: -1px;overflow: hidden;padding: 0;position: absolute;width: 1px;}#sk-container-id-3 div.sk-estimator {font-family: monospace;background-color: #f0f8ff;border: 1px dotted black;border-radius: 0.25em;box-sizing: border-box;margin-bottom: 0.5em;}#sk-container-id-3 div.sk-estimator:hover {background-color: #d4ebff;}#sk-container-id-3 div.sk-parallel-item::after {content: \"\";width: 100%;border-bottom: 1px solid gray;flex-grow: 1;}#sk-container-id-3 div.sk-label:hover label.sk-toggleable__label {background-color: #d4ebff;}#sk-container-id-3 div.sk-serial::before {content: \"\";position: absolute;border-left: 1px solid gray;box-sizing: border-box;top: 0;bottom: 0;left: 50%;z-index: 0;}#sk-container-id-3 div.sk-serial {display: flex;flex-direction: column;align-items: center;background-color: white;padding-right: 0.2em;padding-left: 0.2em;position: relative;}#sk-container-id-3 div.sk-item {position: relative;z-index: 1;}#sk-container-id-3 div.sk-parallel {display: flex;align-items: stretch;justify-content: center;background-color: white;position: relative;}#sk-container-id-3 div.sk-item::before, #sk-container-id-3 div.sk-parallel-item::before {content: \"\";position: absolute;border-left: 1px solid gray;box-sizing: border-box;top: 0;bottom: 0;left: 50%;z-index: -1;}#sk-container-id-3 div.sk-parallel-item {display: flex;flex-direction: column;z-index: 1;position: relative;background-color: white;}#sk-container-id-3 div.sk-parallel-item:first-child::after {align-self: flex-end;width: 50%;}#sk-container-id-3 div.sk-parallel-item:last-child::after {align-self: flex-start;width: 50%;}#sk-container-id-3 div.sk-parallel-item:only-child::after {width: 0;}#sk-container-id-3 div.sk-dashed-wrapped {border: 1px dashed gray;margin: 0 0.4em 0.5em 0.4em;box-sizing: border-box;padding-bottom: 0.4em;background-color: white;}#sk-container-id-3 div.sk-label label {font-family: monospace;font-weight: bold;display: inline-block;line-height: 1.2em;}#sk-container-id-3 div.sk-label-container {text-align: center;}#sk-container-id-3 div.sk-container {/* jupyter's `normalize.less` sets `[hidden] { display: none; }` but bootstrap.min.css set `[hidden] { display: none !important; }` so we also need the `!important` here to be able to override the default hidden behavior on the sphinx rendered scikit-learn.org. See: https://github.com/scikit-learn/scikit-learn/issues/21755 */display: inline-block !important;position: relative;}#sk-container-id-3 div.sk-text-repr-fallback {display: none;}</style><div id=\"sk-container-id-3\" class=\"sk-top-container\"><div class=\"sk-text-repr-fallback\"><pre>KNeighborsClassifier(n_neighbors=2)</pre><b>In a Jupyter environment, please rerun this cell to show the HTML representation or trust the notebook. <br />On GitHub, the HTML representation is unable to render, please try loading this page with nbviewer.org.</b></div><div class=\"sk-container\" hidden><div class=\"sk-item\"><div class=\"sk-estimator sk-toggleable\"><input class=\"sk-toggleable__control sk-hidden--visually\" id=\"sk-estimator-id-3\" type=\"checkbox\" checked><label for=\"sk-estimator-id-3\" class=\"sk-toggleable__label sk-toggleable__label-arrow\">KNeighborsClassifier</label><div class=\"sk-toggleable__content\"><pre>KNeighborsClassifier(n_neighbors=2)</pre></div></div></div></div></div>"
      ],
      "text/plain": [
       "KNeighborsClassifier(n_neighbors=2)"
      ]
     },
     "execution_count": 147,
     "metadata": {},
     "output_type": "execute_result"
    }
   ],
   "source": [
    "model3.fit(x_train,y_train)"
   ]
  },
  {
   "cell_type": "code",
   "execution_count": 148,
   "id": "d9c90833",
   "metadata": {
    "execution": {
     "iopub.execute_input": "2023-01-13T19:52:12.532446Z",
     "iopub.status.busy": "2023-01-13T19:52:12.531972Z",
     "iopub.status.idle": "2023-01-13T19:52:12.536866Z",
     "shell.execute_reply": "2023-01-13T19:52:12.535743Z"
    },
    "papermill": {
     "duration": 0.061194,
     "end_time": "2023-01-13T19:52:12.539078",
     "exception": false,
     "start_time": "2023-01-13T19:52:12.477884",
     "status": "completed"
    },
    "tags": []
   },
   "outputs": [
    {
     "data": {
      "text/plain": [
       "0.9293567894447499"
      ]
     },
     "execution_count": 148,
     "metadata": {},
     "output_type": "execute_result"
    }
   ],
   "source": [
    "model3.score(x_test,y_test_main)"
   ]
  },
  {
   "cell_type": "code",
   "execution_count": 149,
   "id": "5a5b6d30",
   "metadata": {
    "execution": {
     "iopub.execute_input": "2023-01-13T19:52:12.646485Z",
     "iopub.status.busy": "2023-01-13T19:52:12.646023Z",
     "iopub.status.idle": "2023-01-13T19:52:12.650625Z",
     "shell.execute_reply": "2023-01-13T19:52:12.649595Z"
    },
    "papermill": {
     "duration": 0.062135,
     "end_time": "2023-01-13T19:52:12.653209",
     "exception": false,
     "start_time": "2023-01-13T19:52:12.591074",
     "status": "completed"
    },
    "tags": []
   },
   "outputs": [],
   "source": [
    "#model3.score(test_data_1,y_test_true)"
   ]
  },
  {
   "cell_type": "code",
   "execution_count": 150,
   "id": "1e94d9b3",
   "metadata": {
    "execution": {
     "iopub.execute_input": "2023-01-13T19:52:12.763273Z",
     "iopub.status.busy": "2023-01-13T19:52:12.762552Z",
     "iopub.status.idle": "2023-01-13T19:52:12.767224Z",
     "shell.execute_reply": "2023-01-13T19:52:12.766429Z"
    },
    "papermill": {
     "duration": 0.062102,
     "end_time": "2023-01-13T19:52:12.769417",
     "exception": false,
     "start_time": "2023-01-13T19:52:12.707315",
     "status": "completed"
    },
    "tags": []
   },
   "outputs": [],
   "source": [
    "#import os"
   ]
  },
  {
   "cell_type": "code",
   "execution_count": 151,
   "id": "5aba182e",
   "metadata": {
    "execution": {
     "iopub.execute_input": "2023-01-13T19:52:12.879222Z",
     "iopub.status.busy": "2023-01-13T19:52:12.878258Z",
     "iopub.status.idle": "2023-01-13T19:52:12.883235Z",
     "shell.execute_reply": "2023-01-13T19:52:12.882498Z"
    },
    "papermill": {
     "duration": 0.062376,
     "end_time": "2023-01-13T19:52:12.885378",
     "exception": false,
     "start_time": "2023-01-13T19:52:12.823002",
     "status": "completed"
    },
    "tags": []
   },
   "outputs": [],
   "source": [
    "#os.remove('/kaggle/working/submission.csv')"
   ]
  },
  {
   "cell_type": "code",
   "execution_count": 152,
   "id": "b3996ecc",
   "metadata": {
    "execution": {
     "iopub.execute_input": "2023-01-13T19:52:12.995393Z",
     "iopub.status.busy": "2023-01-13T19:52:12.994678Z",
     "iopub.status.idle": "2023-01-13T19:52:12.999300Z",
     "shell.execute_reply": "2023-01-13T19:52:12.998577Z"
    },
    "papermill": {
     "duration": 0.06241,
     "end_time": "2023-01-13T19:52:13.001386",
     "exception": false,
     "start_time": "2023-01-13T19:52:12.938976",
     "status": "completed"
    },
    "tags": []
   },
   "outputs": [],
   "source": [
    "#y_pred3 = model3.predict(test_data_1)"
   ]
  },
  {
   "cell_type": "code",
   "execution_count": 153,
   "id": "9b4babe2",
   "metadata": {
    "execution": {
     "iopub.execute_input": "2023-01-13T19:52:13.111834Z",
     "iopub.status.busy": "2023-01-13T19:52:13.111355Z",
     "iopub.status.idle": "2023-01-13T19:52:13.116156Z",
     "shell.execute_reply": "2023-01-13T19:52:13.114894Z"
    },
    "papermill": {
     "duration": 0.063726,
     "end_time": "2023-01-13T19:52:13.118586",
     "exception": false,
     "start_time": "2023-01-13T19:52:13.054860",
     "status": "completed"
    },
    "tags": []
   },
   "outputs": [],
   "source": [
    "#string3=\"\"\n",
    "#for i in range(len(y_pred3)):\n",
    "#    string3 += str(y_pred3[i]) + \",\""
   ]
  },
  {
   "cell_type": "code",
   "execution_count": 154,
   "id": "b482d577",
   "metadata": {
    "execution": {
     "iopub.execute_input": "2023-01-13T19:52:13.229560Z",
     "iopub.status.busy": "2023-01-13T19:52:13.228387Z",
     "iopub.status.idle": "2023-01-13T19:52:13.232602Z",
     "shell.execute_reply": "2023-01-13T19:52:13.231906Z"
    },
    "papermill": {
     "duration": 0.062133,
     "end_time": "2023-01-13T19:52:13.234728",
     "exception": false,
     "start_time": "2023-01-13T19:52:13.172595",
     "status": "completed"
    },
    "tags": []
   },
   "outputs": [],
   "source": [
    "#string3"
   ]
  },
  {
   "cell_type": "code",
   "execution_count": 155,
   "id": "6b224ec0",
   "metadata": {
    "execution": {
     "iopub.execute_input": "2023-01-13T19:52:13.346177Z",
     "iopub.status.busy": "2023-01-13T19:52:13.344828Z",
     "iopub.status.idle": "2023-01-13T19:52:13.350027Z",
     "shell.execute_reply": "2023-01-13T19:52:13.349170Z"
    },
    "papermill": {
     "duration": 0.063008,
     "end_time": "2023-01-13T19:52:13.352126",
     "exception": false,
     "start_time": "2023-01-13T19:52:13.289118",
     "status": "completed"
    },
    "tags": []
   },
   "outputs": [],
   "source": [
    "#y_test_sample = y_test_sample.to_numpy()"
   ]
  },
  {
   "cell_type": "code",
   "execution_count": 156,
   "id": "ee2a35a3",
   "metadata": {
    "execution": {
     "iopub.execute_input": "2023-01-13T19:52:13.458119Z",
     "iopub.status.busy": "2023-01-13T19:52:13.457723Z",
     "iopub.status.idle": "2023-01-13T19:52:13.462261Z",
     "shell.execute_reply": "2023-01-13T19:52:13.460935Z"
    },
    "papermill": {
     "duration": 0.060296,
     "end_time": "2023-01-13T19:52:13.464663",
     "exception": false,
     "start_time": "2023-01-13T19:52:13.404367",
     "status": "completed"
    },
    "tags": []
   },
   "outputs": [],
   "source": [
    "#y_test_sample"
   ]
  },
  {
   "cell_type": "code",
   "execution_count": 157,
   "id": "10ea6664",
   "metadata": {
    "execution": {
     "iopub.execute_input": "2023-01-13T19:52:13.571044Z",
     "iopub.status.busy": "2023-01-13T19:52:13.570629Z",
     "iopub.status.idle": "2023-01-13T19:52:13.575006Z",
     "shell.execute_reply": "2023-01-13T19:52:13.573878Z"
    },
    "papermill": {
     "duration": 0.060501,
     "end_time": "2023-01-13T19:52:13.577604",
     "exception": false,
     "start_time": "2023-01-13T19:52:13.517103",
     "status": "completed"
    },
    "tags": []
   },
   "outputs": [],
   "source": [
    "#y_test_sample = str(y_test_sample)"
   ]
  },
  {
   "cell_type": "code",
   "execution_count": 158,
   "id": "40076dfe",
   "metadata": {
    "execution": {
     "iopub.execute_input": "2023-01-13T19:52:13.689728Z",
     "iopub.status.busy": "2023-01-13T19:52:13.688939Z",
     "iopub.status.idle": "2023-01-13T19:52:13.693601Z",
     "shell.execute_reply": "2023-01-13T19:52:13.692855Z"
    },
    "papermill": {
     "duration": 0.063609,
     "end_time": "2023-01-13T19:52:13.695643",
     "exception": false,
     "start_time": "2023-01-13T19:52:13.632034",
     "status": "completed"
    },
    "tags": []
   },
   "outputs": [],
   "source": [
    "#y_test_sample"
   ]
  },
  {
   "cell_type": "code",
   "execution_count": 159,
   "id": "9aee0da6",
   "metadata": {
    "execution": {
     "iopub.execute_input": "2023-01-13T19:52:13.806376Z",
     "iopub.status.busy": "2023-01-13T19:52:13.805592Z",
     "iopub.status.idle": "2023-01-13T19:52:13.810285Z",
     "shell.execute_reply": "2023-01-13T19:52:13.809285Z"
    },
    "papermill": {
     "duration": 0.062612,
     "end_time": "2023-01-13T19:52:13.812395",
     "exception": false,
     "start_time": "2023-01-13T19:52:13.749783",
     "status": "completed"
    },
    "tags": []
   },
   "outputs": [],
   "source": [
    "#submission3 = pd.DataFrame(columns=[\"id\",\"Made_Purchase\"])\n",
    "#submission3['id']=[i for i in range(len(y_pred3))]\n",
    "#submission3[\"Made_Purchase\"] = y_pred3"
   ]
  },
  {
   "cell_type": "code",
   "execution_count": 160,
   "id": "3ed09778",
   "metadata": {
    "execution": {
     "iopub.execute_input": "2023-01-13T19:52:13.925103Z",
     "iopub.status.busy": "2023-01-13T19:52:13.924683Z",
     "iopub.status.idle": "2023-01-13T19:52:13.928730Z",
     "shell.execute_reply": "2023-01-13T19:52:13.927843Z"
    },
    "papermill": {
     "duration": 0.063468,
     "end_time": "2023-01-13T19:52:13.930972",
     "exception": false,
     "start_time": "2023-01-13T19:52:13.867504",
     "status": "completed"
    },
    "tags": []
   },
   "outputs": [],
   "source": [
    "#submission3.to_csv(\"submission.csv\",index=False)"
   ]
  },
  {
   "cell_type": "code",
   "execution_count": null,
   "id": "c0272515",
   "metadata": {
    "papermill": {
     "duration": 0.054579,
     "end_time": "2023-01-13T19:52:14.040584",
     "exception": false,
     "start_time": "2023-01-13T19:52:13.986005",
     "status": "completed"
    },
    "tags": []
   },
   "outputs": [],
   "source": []
  },
  {
   "cell_type": "code",
   "execution_count": 161,
   "id": "a73d18ed",
   "metadata": {
    "execution": {
     "iopub.execute_input": "2023-01-13T19:52:14.150060Z",
     "iopub.status.busy": "2023-01-13T19:52:14.149086Z",
     "iopub.status.idle": "2023-01-13T19:52:14.154067Z",
     "shell.execute_reply": "2023-01-13T19:52:14.152919Z"
    },
    "papermill": {
     "duration": 0.062314,
     "end_time": "2023-01-13T19:52:14.156702",
     "exception": false,
     "start_time": "2023-01-13T19:52:14.094388",
     "status": "completed"
    },
    "tags": []
   },
   "outputs": [],
   "source": [
    "#scores3 = cross_validate(model3,x,y,scoring='accuracy',cv=5,return_train_score=True,return_estimator=True)"
   ]
  },
  {
   "cell_type": "code",
   "execution_count": 162,
   "id": "9bbcd5b0",
   "metadata": {
    "execution": {
     "iopub.execute_input": "2023-01-13T19:52:14.266977Z",
     "iopub.status.busy": "2023-01-13T19:52:14.266231Z",
     "iopub.status.idle": "2023-01-13T19:52:14.270187Z",
     "shell.execute_reply": "2023-01-13T19:52:14.269401Z"
    },
    "papermill": {
     "duration": 0.06124,
     "end_time": "2023-01-13T19:52:14.272254",
     "exception": false,
     "start_time": "2023-01-13T19:52:14.211014",
     "status": "completed"
    },
    "tags": []
   },
   "outputs": [],
   "source": [
    "#scores3"
   ]
  },
  {
   "cell_type": "code",
   "execution_count": 163,
   "id": "9df6fd07",
   "metadata": {
    "execution": {
     "iopub.execute_input": "2023-01-13T19:52:14.383380Z",
     "iopub.status.busy": "2023-01-13T19:52:14.382245Z",
     "iopub.status.idle": "2023-01-13T19:52:14.386903Z",
     "shell.execute_reply": "2023-01-13T19:52:14.385952Z"
    },
    "papermill": {
     "duration": 0.062454,
     "end_time": "2023-01-13T19:52:14.389107",
     "exception": false,
     "start_time": "2023-01-13T19:52:14.326653",
     "status": "completed"
    },
    "tags": []
   },
   "outputs": [],
   "source": [
    "#import sklearn\n",
    "#sorted(sklearn.metrics.SCORERS.keys())"
   ]
  },
  {
   "cell_type": "code",
   "execution_count": 164,
   "id": "8a416cc0",
   "metadata": {
    "execution": {
     "iopub.execute_input": "2023-01-13T19:52:14.495600Z",
     "iopub.status.busy": "2023-01-13T19:52:14.494844Z",
     "iopub.status.idle": "2023-01-13T19:52:14.500141Z",
     "shell.execute_reply": "2023-01-13T19:52:14.499050Z"
    },
    "papermill": {
     "duration": 0.061337,
     "end_time": "2023-01-13T19:52:14.502681",
     "exception": false,
     "start_time": "2023-01-13T19:52:14.441344",
     "status": "completed"
    },
    "tags": []
   },
   "outputs": [],
   "source": [
    "#scores3"
   ]
  },
  {
   "cell_type": "code",
   "execution_count": 165,
   "id": "7c11e027",
   "metadata": {
    "execution": {
     "iopub.execute_input": "2023-01-13T19:52:14.612782Z",
     "iopub.status.busy": "2023-01-13T19:52:14.612078Z",
     "iopub.status.idle": "2023-01-13T19:52:14.616031Z",
     "shell.execute_reply": "2023-01-13T19:52:14.615360Z"
    },
    "papermill": {
     "duration": 0.061559,
     "end_time": "2023-01-13T19:52:14.618097",
     "exception": false,
     "start_time": "2023-01-13T19:52:14.556538",
     "status": "completed"
    },
    "tags": []
   },
   "outputs": [],
   "source": [
    "from sklearn.model_selection import GridSearchCV"
   ]
  },
  {
   "cell_type": "code",
   "execution_count": 166,
   "id": "3d2affc8",
   "metadata": {
    "execution": {
     "iopub.execute_input": "2023-01-13T19:52:14.726947Z",
     "iopub.status.busy": "2023-01-13T19:52:14.726554Z",
     "iopub.status.idle": "2023-01-13T19:52:14.731863Z",
     "shell.execute_reply": "2023-01-13T19:52:14.730487Z"
    },
    "papermill": {
     "duration": 0.062257,
     "end_time": "2023-01-13T19:52:14.734148",
     "exception": false,
     "start_time": "2023-01-13T19:52:14.671891",
     "status": "completed"
    },
    "tags": []
   },
   "outputs": [],
   "source": [
    "#parameters = {'n_neighbors':(1,2,3,4,5,6,7,8)}"
   ]
  },
  {
   "cell_type": "code",
   "execution_count": 167,
   "id": "2eeb8d00",
   "metadata": {
    "execution": {
     "iopub.execute_input": "2023-01-13T19:52:14.839708Z",
     "iopub.status.busy": "2023-01-13T19:52:14.839247Z",
     "iopub.status.idle": "2023-01-13T19:52:14.844196Z",
     "shell.execute_reply": "2023-01-13T19:52:14.843051Z"
    },
    "papermill": {
     "duration": 0.060065,
     "end_time": "2023-01-13T19:52:14.846318",
     "exception": false,
     "start_time": "2023-01-13T19:52:14.786253",
     "status": "completed"
    },
    "tags": []
   },
   "outputs": [],
   "source": [
    "#model4 = KNeighborsClassifier()"
   ]
  },
  {
   "cell_type": "code",
   "execution_count": 168,
   "id": "58e4c055",
   "metadata": {
    "execution": {
     "iopub.execute_input": "2023-01-13T19:52:14.952341Z",
     "iopub.status.busy": "2023-01-13T19:52:14.951561Z",
     "iopub.status.idle": "2023-01-13T19:52:14.956070Z",
     "shell.execute_reply": "2023-01-13T19:52:14.954890Z"
    },
    "papermill": {
     "duration": 0.06008,
     "end_time": "2023-01-13T19:52:14.958201",
     "exception": false,
     "start_time": "2023-01-13T19:52:14.898121",
     "status": "completed"
    },
    "tags": []
   },
   "outputs": [],
   "source": [
    "#model4.fit(x,y)"
   ]
  },
  {
   "cell_type": "code",
   "execution_count": 169,
   "id": "a5128f2e",
   "metadata": {
    "execution": {
     "iopub.execute_input": "2023-01-13T19:52:15.066845Z",
     "iopub.status.busy": "2023-01-13T19:52:15.066042Z",
     "iopub.status.idle": "2023-01-13T19:52:15.070146Z",
     "shell.execute_reply": "2023-01-13T19:52:15.069382Z"
    },
    "papermill": {
     "duration": 0.060964,
     "end_time": "2023-01-13T19:52:15.072143",
     "exception": false,
     "start_time": "2023-01-13T19:52:15.011179",
     "status": "completed"
    },
    "tags": []
   },
   "outputs": [],
   "source": [
    "#clf4 = GridSearchCV(model4,parameters)"
   ]
  },
  {
   "cell_type": "code",
   "execution_count": 170,
   "id": "211ba7aa",
   "metadata": {
    "execution": {
     "iopub.execute_input": "2023-01-13T19:52:15.179895Z",
     "iopub.status.busy": "2023-01-13T19:52:15.179392Z",
     "iopub.status.idle": "2023-01-13T19:52:15.184183Z",
     "shell.execute_reply": "2023-01-13T19:52:15.183042Z"
    },
    "papermill": {
     "duration": 0.061935,
     "end_time": "2023-01-13T19:52:15.186258",
     "exception": false,
     "start_time": "2023-01-13T19:52:15.124323",
     "status": "completed"
    },
    "tags": []
   },
   "outputs": [],
   "source": [
    "#clf4.fit(x,y)"
   ]
  },
  {
   "cell_type": "code",
   "execution_count": 171,
   "id": "b97fec52",
   "metadata": {
    "execution": {
     "iopub.execute_input": "2023-01-13T19:52:15.294219Z",
     "iopub.status.busy": "2023-01-13T19:52:15.293448Z",
     "iopub.status.idle": "2023-01-13T19:52:15.297445Z",
     "shell.execute_reply": "2023-01-13T19:52:15.296723Z"
    },
    "papermill": {
     "duration": 0.061254,
     "end_time": "2023-01-13T19:52:15.299406",
     "exception": false,
     "start_time": "2023-01-13T19:52:15.238152",
     "status": "completed"
    },
    "tags": []
   },
   "outputs": [],
   "source": [
    "#clf4.cv_results_"
   ]
  },
  {
   "cell_type": "code",
   "execution_count": 172,
   "id": "6c8790df",
   "metadata": {
    "execution": {
     "iopub.execute_input": "2023-01-13T19:52:15.407573Z",
     "iopub.status.busy": "2023-01-13T19:52:15.407138Z",
     "iopub.status.idle": "2023-01-13T19:52:15.411859Z",
     "shell.execute_reply": "2023-01-13T19:52:15.410822Z"
    },
    "papermill": {
     "duration": 0.06256,
     "end_time": "2023-01-13T19:52:15.414140",
     "exception": false,
     "start_time": "2023-01-13T19:52:15.351580",
     "status": "completed"
    },
    "tags": []
   },
   "outputs": [],
   "source": [
    "from sklearn.svm import SVC"
   ]
  },
  {
   "cell_type": "code",
   "execution_count": 173,
   "id": "be00c356",
   "metadata": {
    "execution": {
     "iopub.execute_input": "2023-01-13T19:52:15.638911Z",
     "iopub.status.busy": "2023-01-13T19:52:15.638470Z",
     "iopub.status.idle": "2023-01-13T19:52:15.642720Z",
     "shell.execute_reply": "2023-01-13T19:52:15.641700Z"
    },
    "papermill": {
     "duration": 0.062126,
     "end_time": "2023-01-13T19:52:15.645121",
     "exception": false,
     "start_time": "2023-01-13T19:52:15.582995",
     "status": "completed"
    },
    "tags": []
   },
   "outputs": [],
   "source": [
    "model5 = SVC(C=0.01,gamma=0.1)"
   ]
  },
  {
   "cell_type": "code",
   "execution_count": 174,
   "id": "5734dfa3",
   "metadata": {
    "execution": {
     "iopub.execute_input": "2023-01-13T19:52:15.871300Z",
     "iopub.status.busy": "2023-01-13T19:52:15.870154Z",
     "iopub.status.idle": "2023-01-13T19:52:15.875507Z",
     "shell.execute_reply": "2023-01-13T19:52:15.874220Z"
    },
    "papermill": {
     "duration": 0.062344,
     "end_time": "2023-01-13T19:52:15.877783",
     "exception": false,
     "start_time": "2023-01-13T19:52:15.815439",
     "status": "completed"
    },
    "tags": []
   },
   "outputs": [
    {
     "name": "stderr",
     "output_type": "stream",
     "text": [
      "C:\\Users\\HP\\anaconda3\\lib\\site-packages\\sklearn\\utils\\validation.py:1143: DataConversionWarning: A column-vector y was passed when a 1d array was expected. Please change the shape of y to (n_samples, ), for example using ravel().\n",
      "  y = column_or_1d(y, warn=True)\n"
     ]
    },
    {
     "data": {
      "text/html": [
       "<style>#sk-container-id-4 {color: black;background-color: white;}#sk-container-id-4 pre{padding: 0;}#sk-container-id-4 div.sk-toggleable {background-color: white;}#sk-container-id-4 label.sk-toggleable__label {cursor: pointer;display: block;width: 100%;margin-bottom: 0;padding: 0.3em;box-sizing: border-box;text-align: center;}#sk-container-id-4 label.sk-toggleable__label-arrow:before {content: \"▸\";float: left;margin-right: 0.25em;color: #696969;}#sk-container-id-4 label.sk-toggleable__label-arrow:hover:before {color: black;}#sk-container-id-4 div.sk-estimator:hover label.sk-toggleable__label-arrow:before {color: black;}#sk-container-id-4 div.sk-toggleable__content {max-height: 0;max-width: 0;overflow: hidden;text-align: left;background-color: #f0f8ff;}#sk-container-id-4 div.sk-toggleable__content pre {margin: 0.2em;color: black;border-radius: 0.25em;background-color: #f0f8ff;}#sk-container-id-4 input.sk-toggleable__control:checked~div.sk-toggleable__content {max-height: 200px;max-width: 100%;overflow: auto;}#sk-container-id-4 input.sk-toggleable__control:checked~label.sk-toggleable__label-arrow:before {content: \"▾\";}#sk-container-id-4 div.sk-estimator input.sk-toggleable__control:checked~label.sk-toggleable__label {background-color: #d4ebff;}#sk-container-id-4 div.sk-label input.sk-toggleable__control:checked~label.sk-toggleable__label {background-color: #d4ebff;}#sk-container-id-4 input.sk-hidden--visually {border: 0;clip: rect(1px 1px 1px 1px);clip: rect(1px, 1px, 1px, 1px);height: 1px;margin: -1px;overflow: hidden;padding: 0;position: absolute;width: 1px;}#sk-container-id-4 div.sk-estimator {font-family: monospace;background-color: #f0f8ff;border: 1px dotted black;border-radius: 0.25em;box-sizing: border-box;margin-bottom: 0.5em;}#sk-container-id-4 div.sk-estimator:hover {background-color: #d4ebff;}#sk-container-id-4 div.sk-parallel-item::after {content: \"\";width: 100%;border-bottom: 1px solid gray;flex-grow: 1;}#sk-container-id-4 div.sk-label:hover label.sk-toggleable__label {background-color: #d4ebff;}#sk-container-id-4 div.sk-serial::before {content: \"\";position: absolute;border-left: 1px solid gray;box-sizing: border-box;top: 0;bottom: 0;left: 50%;z-index: 0;}#sk-container-id-4 div.sk-serial {display: flex;flex-direction: column;align-items: center;background-color: white;padding-right: 0.2em;padding-left: 0.2em;position: relative;}#sk-container-id-4 div.sk-item {position: relative;z-index: 1;}#sk-container-id-4 div.sk-parallel {display: flex;align-items: stretch;justify-content: center;background-color: white;position: relative;}#sk-container-id-4 div.sk-item::before, #sk-container-id-4 div.sk-parallel-item::before {content: \"\";position: absolute;border-left: 1px solid gray;box-sizing: border-box;top: 0;bottom: 0;left: 50%;z-index: -1;}#sk-container-id-4 div.sk-parallel-item {display: flex;flex-direction: column;z-index: 1;position: relative;background-color: white;}#sk-container-id-4 div.sk-parallel-item:first-child::after {align-self: flex-end;width: 50%;}#sk-container-id-4 div.sk-parallel-item:last-child::after {align-self: flex-start;width: 50%;}#sk-container-id-4 div.sk-parallel-item:only-child::after {width: 0;}#sk-container-id-4 div.sk-dashed-wrapped {border: 1px dashed gray;margin: 0 0.4em 0.5em 0.4em;box-sizing: border-box;padding-bottom: 0.4em;background-color: white;}#sk-container-id-4 div.sk-label label {font-family: monospace;font-weight: bold;display: inline-block;line-height: 1.2em;}#sk-container-id-4 div.sk-label-container {text-align: center;}#sk-container-id-4 div.sk-container {/* jupyter's `normalize.less` sets `[hidden] { display: none; }` but bootstrap.min.css set `[hidden] { display: none !important; }` so we also need the `!important` here to be able to override the default hidden behavior on the sphinx rendered scikit-learn.org. See: https://github.com/scikit-learn/scikit-learn/issues/21755 */display: inline-block !important;position: relative;}#sk-container-id-4 div.sk-text-repr-fallback {display: none;}</style><div id=\"sk-container-id-4\" class=\"sk-top-container\"><div class=\"sk-text-repr-fallback\"><pre>SVC(C=0.01, gamma=0.1)</pre><b>In a Jupyter environment, please rerun this cell to show the HTML representation or trust the notebook. <br />On GitHub, the HTML representation is unable to render, please try loading this page with nbviewer.org.</b></div><div class=\"sk-container\" hidden><div class=\"sk-item\"><div class=\"sk-estimator sk-toggleable\"><input class=\"sk-toggleable__control sk-hidden--visually\" id=\"sk-estimator-id-4\" type=\"checkbox\" checked><label for=\"sk-estimator-id-4\" class=\"sk-toggleable__label sk-toggleable__label-arrow\">SVC</label><div class=\"sk-toggleable__content\"><pre>SVC(C=0.01, gamma=0.1)</pre></div></div></div></div></div>"
      ],
      "text/plain": [
       "SVC(C=0.01, gamma=0.1)"
      ]
     },
     "execution_count": 174,
     "metadata": {},
     "output_type": "execute_result"
    }
   ],
   "source": [
    "model5.fit(x_train,y_train)"
   ]
  },
  {
   "cell_type": "code",
   "execution_count": 175,
   "id": "070aa9d3",
   "metadata": {
    "execution": {
     "iopub.execute_input": "2023-01-13T19:52:15.988376Z",
     "iopub.status.busy": "2023-01-13T19:52:15.987678Z",
     "iopub.status.idle": "2023-01-13T19:52:15.992437Z",
     "shell.execute_reply": "2023-01-13T19:52:15.991611Z"
    },
    "papermill": {
     "duration": 0.06342,
     "end_time": "2023-01-13T19:52:15.995212",
     "exception": false,
     "start_time": "2023-01-13T19:52:15.931792",
     "status": "completed"
    },
    "tags": []
   },
   "outputs": [
    {
     "data": {
      "text/plain": [
       "0.7921935129191864"
      ]
     },
     "execution_count": 175,
     "metadata": {},
     "output_type": "execute_result"
    }
   ],
   "source": [
    "model5.score(x_test,y_test_main)"
   ]
  },
  {
   "cell_type": "code",
   "execution_count": 176,
   "id": "29133aa5",
   "metadata": {
    "execution": {
     "iopub.execute_input": "2023-01-13T19:52:16.109416Z",
     "iopub.status.busy": "2023-01-13T19:52:16.108718Z",
     "iopub.status.idle": "2023-01-13T19:52:16.113815Z",
     "shell.execute_reply": "2023-01-13T19:52:16.112939Z"
    },
    "papermill": {
     "duration": 0.064089,
     "end_time": "2023-01-13T19:52:16.116069",
     "exception": false,
     "start_time": "2023-01-13T19:52:16.051980",
     "status": "completed"
    },
    "tags": []
   },
   "outputs": [],
   "source": [
    "#y_pred5 = model5.predict(test_data_1)"
   ]
  },
  {
   "cell_type": "code",
   "execution_count": 177,
   "id": "1e4f6e01",
   "metadata": {
    "execution": {
     "iopub.execute_input": "2023-01-13T19:52:16.229614Z",
     "iopub.status.busy": "2023-01-13T19:52:16.228874Z",
     "iopub.status.idle": "2023-01-13T19:52:16.233771Z",
     "shell.execute_reply": "2023-01-13T19:52:16.232899Z"
    },
    "papermill": {
     "duration": 0.06341,
     "end_time": "2023-01-13T19:52:16.235966",
     "exception": false,
     "start_time": "2023-01-13T19:52:16.172556",
     "status": "completed"
    },
    "tags": []
   },
   "outputs": [],
   "source": [
    "#submission = pd.DataFrame(columns=[\"id\",\"Made_Purchase\"])\n",
    "#submission['id']=[i for i in range(len(y_pred5))]\n",
    "#submission[\"Made_Purchase\"] = y_pred5"
   ]
  },
  {
   "cell_type": "code",
   "execution_count": 178,
   "id": "cf383e05",
   "metadata": {
    "execution": {
     "iopub.execute_input": "2023-01-13T19:52:16.347664Z",
     "iopub.status.busy": "2023-01-13T19:52:16.346922Z",
     "iopub.status.idle": "2023-01-13T19:52:16.351719Z",
     "shell.execute_reply": "2023-01-13T19:52:16.350957Z"
    },
    "papermill": {
     "duration": 0.06283,
     "end_time": "2023-01-13T19:52:16.353835",
     "exception": false,
     "start_time": "2023-01-13T19:52:16.291005",
     "status": "completed"
    },
    "tags": []
   },
   "outputs": [],
   "source": [
    "#os.remove('/kaggle/working/submission.csv')"
   ]
  },
  {
   "cell_type": "code",
   "execution_count": 179,
   "id": "9b7e0149",
   "metadata": {
    "execution": {
     "iopub.execute_input": "2023-01-13T19:52:16.465332Z",
     "iopub.status.busy": "2023-01-13T19:52:16.464870Z",
     "iopub.status.idle": "2023-01-13T19:52:16.469711Z",
     "shell.execute_reply": "2023-01-13T19:52:16.468450Z"
    },
    "papermill": {
     "duration": 0.064954,
     "end_time": "2023-01-13T19:52:16.472424",
     "exception": false,
     "start_time": "2023-01-13T19:52:16.407470",
     "status": "completed"
    },
    "tags": []
   },
   "outputs": [],
   "source": [
    "#submission.to_csv(\"submission.csv\",index=False)"
   ]
  },
  {
   "cell_type": "code",
   "execution_count": 180,
   "id": "14de0de8",
   "metadata": {
    "execution": {
     "iopub.execute_input": "2023-01-13T19:52:16.666030Z",
     "iopub.status.busy": "2023-01-13T19:52:16.665590Z",
     "iopub.status.idle": "2023-01-13T19:52:16.670474Z",
     "shell.execute_reply": "2023-01-13T19:52:16.669330Z"
    },
    "papermill": {
     "duration": 0.145376,
     "end_time": "2023-01-13T19:52:16.672746",
     "exception": false,
     "start_time": "2023-01-13T19:52:16.527370",
     "status": "completed"
    },
    "tags": []
   },
   "outputs": [],
   "source": [
    "#clf5.cv_results_"
   ]
  },
  {
   "cell_type": "code",
   "execution_count": 181,
   "id": "89f6b46c",
   "metadata": {
    "execution": {
     "iopub.execute_input": "2023-01-13T19:52:16.783813Z",
     "iopub.status.busy": "2023-01-13T19:52:16.782943Z",
     "iopub.status.idle": "2023-01-13T19:52:16.787983Z",
     "shell.execute_reply": "2023-01-13T19:52:16.787172Z"
    },
    "papermill": {
     "duration": 0.064187,
     "end_time": "2023-01-13T19:52:16.790358",
     "exception": false,
     "start_time": "2023-01-13T19:52:16.726171",
     "status": "completed"
    },
    "tags": []
   },
   "outputs": [],
   "source": [
    "#clf5.best_score_"
   ]
  },
  {
   "cell_type": "code",
   "execution_count": 182,
   "id": "897963cf",
   "metadata": {
    "execution": {
     "iopub.execute_input": "2023-01-13T19:52:16.900729Z",
     "iopub.status.busy": "2023-01-13T19:52:16.900244Z",
     "iopub.status.idle": "2023-01-13T19:52:16.904713Z",
     "shell.execute_reply": "2023-01-13T19:52:16.903598Z"
    },
    "papermill": {
     "duration": 0.06242,
     "end_time": "2023-01-13T19:52:16.907033",
     "exception": false,
     "start_time": "2023-01-13T19:52:16.844613",
     "status": "completed"
    },
    "tags": []
   },
   "outputs": [],
   "source": [
    "from sklearn.tree import DecisionTreeClassifier"
   ]
  },
  {
   "cell_type": "code",
   "execution_count": 183,
   "id": "ee142b23",
   "metadata": {
    "execution": {
     "iopub.execute_input": "2023-01-13T19:52:17.019974Z",
     "iopub.status.busy": "2023-01-13T19:52:17.019304Z",
     "iopub.status.idle": "2023-01-13T19:52:17.024938Z",
     "shell.execute_reply": "2023-01-13T19:52:17.023864Z"
    },
    "papermill": {
     "duration": 0.066397,
     "end_time": "2023-01-13T19:52:17.027540",
     "exception": false,
     "start_time": "2023-01-13T19:52:16.961143",
     "status": "completed"
    },
    "tags": []
   },
   "outputs": [],
   "source": [
    "model6 = DecisionTreeClassifier(random_state=42)"
   ]
  },
  {
   "cell_type": "code",
   "execution_count": 184,
   "id": "3ff59432",
   "metadata": {
    "execution": {
     "iopub.execute_input": "2023-01-13T19:52:17.140702Z",
     "iopub.status.busy": "2023-01-13T19:52:17.140218Z",
     "iopub.status.idle": "2023-01-13T19:52:17.145366Z",
     "shell.execute_reply": "2023-01-13T19:52:17.144082Z"
    },
    "papermill": {
     "duration": 0.065028,
     "end_time": "2023-01-13T19:52:17.147930",
     "exception": false,
     "start_time": "2023-01-13T19:52:17.082902",
     "status": "completed"
    },
    "tags": []
   },
   "outputs": [
    {
     "data": {
      "text/html": [
       "<style>#sk-container-id-5 {color: black;background-color: white;}#sk-container-id-5 pre{padding: 0;}#sk-container-id-5 div.sk-toggleable {background-color: white;}#sk-container-id-5 label.sk-toggleable__label {cursor: pointer;display: block;width: 100%;margin-bottom: 0;padding: 0.3em;box-sizing: border-box;text-align: center;}#sk-container-id-5 label.sk-toggleable__label-arrow:before {content: \"▸\";float: left;margin-right: 0.25em;color: #696969;}#sk-container-id-5 label.sk-toggleable__label-arrow:hover:before {color: black;}#sk-container-id-5 div.sk-estimator:hover label.sk-toggleable__label-arrow:before {color: black;}#sk-container-id-5 div.sk-toggleable__content {max-height: 0;max-width: 0;overflow: hidden;text-align: left;background-color: #f0f8ff;}#sk-container-id-5 div.sk-toggleable__content pre {margin: 0.2em;color: black;border-radius: 0.25em;background-color: #f0f8ff;}#sk-container-id-5 input.sk-toggleable__control:checked~div.sk-toggleable__content {max-height: 200px;max-width: 100%;overflow: auto;}#sk-container-id-5 input.sk-toggleable__control:checked~label.sk-toggleable__label-arrow:before {content: \"▾\";}#sk-container-id-5 div.sk-estimator input.sk-toggleable__control:checked~label.sk-toggleable__label {background-color: #d4ebff;}#sk-container-id-5 div.sk-label input.sk-toggleable__control:checked~label.sk-toggleable__label {background-color: #d4ebff;}#sk-container-id-5 input.sk-hidden--visually {border: 0;clip: rect(1px 1px 1px 1px);clip: rect(1px, 1px, 1px, 1px);height: 1px;margin: -1px;overflow: hidden;padding: 0;position: absolute;width: 1px;}#sk-container-id-5 div.sk-estimator {font-family: monospace;background-color: #f0f8ff;border: 1px dotted black;border-radius: 0.25em;box-sizing: border-box;margin-bottom: 0.5em;}#sk-container-id-5 div.sk-estimator:hover {background-color: #d4ebff;}#sk-container-id-5 div.sk-parallel-item::after {content: \"\";width: 100%;border-bottom: 1px solid gray;flex-grow: 1;}#sk-container-id-5 div.sk-label:hover label.sk-toggleable__label {background-color: #d4ebff;}#sk-container-id-5 div.sk-serial::before {content: \"\";position: absolute;border-left: 1px solid gray;box-sizing: border-box;top: 0;bottom: 0;left: 50%;z-index: 0;}#sk-container-id-5 div.sk-serial {display: flex;flex-direction: column;align-items: center;background-color: white;padding-right: 0.2em;padding-left: 0.2em;position: relative;}#sk-container-id-5 div.sk-item {position: relative;z-index: 1;}#sk-container-id-5 div.sk-parallel {display: flex;align-items: stretch;justify-content: center;background-color: white;position: relative;}#sk-container-id-5 div.sk-item::before, #sk-container-id-5 div.sk-parallel-item::before {content: \"\";position: absolute;border-left: 1px solid gray;box-sizing: border-box;top: 0;bottom: 0;left: 50%;z-index: -1;}#sk-container-id-5 div.sk-parallel-item {display: flex;flex-direction: column;z-index: 1;position: relative;background-color: white;}#sk-container-id-5 div.sk-parallel-item:first-child::after {align-self: flex-end;width: 50%;}#sk-container-id-5 div.sk-parallel-item:last-child::after {align-self: flex-start;width: 50%;}#sk-container-id-5 div.sk-parallel-item:only-child::after {width: 0;}#sk-container-id-5 div.sk-dashed-wrapped {border: 1px dashed gray;margin: 0 0.4em 0.5em 0.4em;box-sizing: border-box;padding-bottom: 0.4em;background-color: white;}#sk-container-id-5 div.sk-label label {font-family: monospace;font-weight: bold;display: inline-block;line-height: 1.2em;}#sk-container-id-5 div.sk-label-container {text-align: center;}#sk-container-id-5 div.sk-container {/* jupyter's `normalize.less` sets `[hidden] { display: none; }` but bootstrap.min.css set `[hidden] { display: none !important; }` so we also need the `!important` here to be able to override the default hidden behavior on the sphinx rendered scikit-learn.org. See: https://github.com/scikit-learn/scikit-learn/issues/21755 */display: inline-block !important;position: relative;}#sk-container-id-5 div.sk-text-repr-fallback {display: none;}</style><div id=\"sk-container-id-5\" class=\"sk-top-container\"><div class=\"sk-text-repr-fallback\"><pre>DecisionTreeClassifier(random_state=42)</pre><b>In a Jupyter environment, please rerun this cell to show the HTML representation or trust the notebook. <br />On GitHub, the HTML representation is unable to render, please try loading this page with nbviewer.org.</b></div><div class=\"sk-container\" hidden><div class=\"sk-item\"><div class=\"sk-estimator sk-toggleable\"><input class=\"sk-toggleable__control sk-hidden--visually\" id=\"sk-estimator-id-5\" type=\"checkbox\" checked><label for=\"sk-estimator-id-5\" class=\"sk-toggleable__label sk-toggleable__label-arrow\">DecisionTreeClassifier</label><div class=\"sk-toggleable__content\"><pre>DecisionTreeClassifier(random_state=42)</pre></div></div></div></div></div>"
      ],
      "text/plain": [
       "DecisionTreeClassifier(random_state=42)"
      ]
     },
     "execution_count": 184,
     "metadata": {},
     "output_type": "execute_result"
    }
   ],
   "source": [
    "model6.fit(x_train,y_train)"
   ]
  },
  {
   "cell_type": "code",
   "execution_count": 185,
   "id": "a0a13d67",
   "metadata": {
    "execution": {
     "iopub.execute_input": "2023-01-13T19:52:17.261503Z",
     "iopub.status.busy": "2023-01-13T19:52:17.260792Z",
     "iopub.status.idle": "2023-01-13T19:52:17.265480Z",
     "shell.execute_reply": "2023-01-13T19:52:17.264749Z"
    },
    "papermill": {
     "duration": 0.064213,
     "end_time": "2023-01-13T19:52:17.267639",
     "exception": false,
     "start_time": "2023-01-13T19:52:17.203426",
     "status": "completed"
    },
    "tags": []
   },
   "outputs": [],
   "source": [
    "# y_pred6 = model6.predict(test_data_1)"
   ]
  },
  {
   "cell_type": "code",
   "execution_count": 186,
   "id": "1d46cf1a",
   "metadata": {
    "execution": {
     "iopub.execute_input": "2023-01-13T19:52:17.379292Z",
     "iopub.status.busy": "2023-01-13T19:52:17.378573Z",
     "iopub.status.idle": "2023-01-13T19:52:17.383321Z",
     "shell.execute_reply": "2023-01-13T19:52:17.382574Z"
    },
    "papermill": {
     "duration": 0.06355,
     "end_time": "2023-01-13T19:52:17.385505",
     "exception": false,
     "start_time": "2023-01-13T19:52:17.321955",
     "status": "completed"
    },
    "tags": []
   },
   "outputs": [
    {
     "data": {
      "text/plain": [
       "0.894172622319956"
      ]
     },
     "execution_count": 186,
     "metadata": {},
     "output_type": "execute_result"
    }
   ],
   "source": [
    "model6.score(x_test,y_test_main)"
   ]
  },
  {
   "cell_type": "code",
   "execution_count": null,
   "id": "2b1a6710",
   "metadata": {
    "papermill": {
     "duration": 0.053216,
     "end_time": "2023-01-13T19:52:17.492157",
     "exception": false,
     "start_time": "2023-01-13T19:52:17.438941",
     "status": "completed"
    },
    "tags": []
   },
   "outputs": [],
   "source": []
  },
  {
   "cell_type": "code",
   "execution_count": 187,
   "id": "964c27c8",
   "metadata": {
    "execution": {
     "iopub.execute_input": "2023-01-13T19:52:17.600817Z",
     "iopub.status.busy": "2023-01-13T19:52:17.600066Z",
     "iopub.status.idle": "2023-01-13T19:52:17.605114Z",
     "shell.execute_reply": "2023-01-13T19:52:17.604180Z"
    },
    "papermill": {
     "duration": 0.062254,
     "end_time": "2023-01-13T19:52:17.607272",
     "exception": false,
     "start_time": "2023-01-13T19:52:17.545018",
     "status": "completed"
    },
    "tags": []
   },
   "outputs": [],
   "source": [
    "#scores6 = cross_val_score(model6,x,y,cv=5)"
   ]
  },
  {
   "cell_type": "code",
   "execution_count": 188,
   "id": "7616c87e",
   "metadata": {
    "execution": {
     "iopub.execute_input": "2023-01-13T19:52:17.717267Z",
     "iopub.status.busy": "2023-01-13T19:52:17.716568Z",
     "iopub.status.idle": "2023-01-13T19:52:17.721334Z",
     "shell.execute_reply": "2023-01-13T19:52:17.720532Z"
    },
    "papermill": {
     "duration": 0.062521,
     "end_time": "2023-01-13T19:52:17.723529",
     "exception": false,
     "start_time": "2023-01-13T19:52:17.661008",
     "status": "completed"
    },
    "tags": []
   },
   "outputs": [],
   "source": [
    "#scores6.mean()"
   ]
  },
  {
   "cell_type": "code",
   "execution_count": 189,
   "id": "d17a0dc9",
   "metadata": {
    "execution": {
     "iopub.execute_input": "2023-01-13T19:52:17.832719Z",
     "iopub.status.busy": "2023-01-13T19:52:17.832233Z",
     "iopub.status.idle": "2023-01-13T19:52:17.941366Z",
     "shell.execute_reply": "2023-01-13T19:52:17.940226Z"
    },
    "papermill": {
     "duration": 0.16715,
     "end_time": "2023-01-13T19:52:17.944440",
     "exception": false,
     "start_time": "2023-01-13T19:52:17.777290",
     "status": "completed"
    },
    "tags": []
   },
   "outputs": [],
   "source": [
    "from sklearn.ensemble import RandomForestClassifier"
   ]
  },
  {
   "cell_type": "code",
   "execution_count": 190,
   "id": "27eb4e58",
   "metadata": {
    "execution": {
     "iopub.execute_input": "2023-01-13T19:52:18.068117Z",
     "iopub.status.busy": "2023-01-13T19:52:18.066295Z",
     "iopub.status.idle": "2023-01-13T19:52:18.073317Z",
     "shell.execute_reply": "2023-01-13T19:52:18.071645Z"
    },
    "papermill": {
     "duration": 0.077313,
     "end_time": "2023-01-13T19:52:18.076740",
     "exception": false,
     "start_time": "2023-01-13T19:52:17.999427",
     "status": "completed"
    },
    "tags": []
   },
   "outputs": [],
   "source": [
    "model7 = RandomForestClassifier(random_state=0)"
   ]
  },
  {
   "cell_type": "code",
   "execution_count": 191,
   "id": "e8b37f0b",
   "metadata": {
    "execution": {
     "iopub.execute_input": "2023-01-13T19:52:18.202715Z",
     "iopub.status.busy": "2023-01-13T19:52:18.201539Z",
     "iopub.status.idle": "2023-01-13T19:52:18.207335Z",
     "shell.execute_reply": "2023-01-13T19:52:18.206054Z"
    },
    "papermill": {
     "duration": 0.064463,
     "end_time": "2023-01-13T19:52:18.209898",
     "exception": false,
     "start_time": "2023-01-13T19:52:18.145435",
     "status": "completed"
    },
    "tags": []
   },
   "outputs": [
    {
     "name": "stderr",
     "output_type": "stream",
     "text": [
      "C:\\Users\\HP\\AppData\\Local\\Temp\\ipykernel_29204\\1485372402.py:1: DataConversionWarning: A column-vector y was passed when a 1d array was expected. Please change the shape of y to (n_samples,), for example using ravel().\n",
      "  model7.fit(x_train,y_train)\n"
     ]
    },
    {
     "data": {
      "text/html": [
       "<style>#sk-container-id-6 {color: black;background-color: white;}#sk-container-id-6 pre{padding: 0;}#sk-container-id-6 div.sk-toggleable {background-color: white;}#sk-container-id-6 label.sk-toggleable__label {cursor: pointer;display: block;width: 100%;margin-bottom: 0;padding: 0.3em;box-sizing: border-box;text-align: center;}#sk-container-id-6 label.sk-toggleable__label-arrow:before {content: \"▸\";float: left;margin-right: 0.25em;color: #696969;}#sk-container-id-6 label.sk-toggleable__label-arrow:hover:before {color: black;}#sk-container-id-6 div.sk-estimator:hover label.sk-toggleable__label-arrow:before {color: black;}#sk-container-id-6 div.sk-toggleable__content {max-height: 0;max-width: 0;overflow: hidden;text-align: left;background-color: #f0f8ff;}#sk-container-id-6 div.sk-toggleable__content pre {margin: 0.2em;color: black;border-radius: 0.25em;background-color: #f0f8ff;}#sk-container-id-6 input.sk-toggleable__control:checked~div.sk-toggleable__content {max-height: 200px;max-width: 100%;overflow: auto;}#sk-container-id-6 input.sk-toggleable__control:checked~label.sk-toggleable__label-arrow:before {content: \"▾\";}#sk-container-id-6 div.sk-estimator input.sk-toggleable__control:checked~label.sk-toggleable__label {background-color: #d4ebff;}#sk-container-id-6 div.sk-label input.sk-toggleable__control:checked~label.sk-toggleable__label {background-color: #d4ebff;}#sk-container-id-6 input.sk-hidden--visually {border: 0;clip: rect(1px 1px 1px 1px);clip: rect(1px, 1px, 1px, 1px);height: 1px;margin: -1px;overflow: hidden;padding: 0;position: absolute;width: 1px;}#sk-container-id-6 div.sk-estimator {font-family: monospace;background-color: #f0f8ff;border: 1px dotted black;border-radius: 0.25em;box-sizing: border-box;margin-bottom: 0.5em;}#sk-container-id-6 div.sk-estimator:hover {background-color: #d4ebff;}#sk-container-id-6 div.sk-parallel-item::after {content: \"\";width: 100%;border-bottom: 1px solid gray;flex-grow: 1;}#sk-container-id-6 div.sk-label:hover label.sk-toggleable__label {background-color: #d4ebff;}#sk-container-id-6 div.sk-serial::before {content: \"\";position: absolute;border-left: 1px solid gray;box-sizing: border-box;top: 0;bottom: 0;left: 50%;z-index: 0;}#sk-container-id-6 div.sk-serial {display: flex;flex-direction: column;align-items: center;background-color: white;padding-right: 0.2em;padding-left: 0.2em;position: relative;}#sk-container-id-6 div.sk-item {position: relative;z-index: 1;}#sk-container-id-6 div.sk-parallel {display: flex;align-items: stretch;justify-content: center;background-color: white;position: relative;}#sk-container-id-6 div.sk-item::before, #sk-container-id-6 div.sk-parallel-item::before {content: \"\";position: absolute;border-left: 1px solid gray;box-sizing: border-box;top: 0;bottom: 0;left: 50%;z-index: -1;}#sk-container-id-6 div.sk-parallel-item {display: flex;flex-direction: column;z-index: 1;position: relative;background-color: white;}#sk-container-id-6 div.sk-parallel-item:first-child::after {align-self: flex-end;width: 50%;}#sk-container-id-6 div.sk-parallel-item:last-child::after {align-self: flex-start;width: 50%;}#sk-container-id-6 div.sk-parallel-item:only-child::after {width: 0;}#sk-container-id-6 div.sk-dashed-wrapped {border: 1px dashed gray;margin: 0 0.4em 0.5em 0.4em;box-sizing: border-box;padding-bottom: 0.4em;background-color: white;}#sk-container-id-6 div.sk-label label {font-family: monospace;font-weight: bold;display: inline-block;line-height: 1.2em;}#sk-container-id-6 div.sk-label-container {text-align: center;}#sk-container-id-6 div.sk-container {/* jupyter's `normalize.less` sets `[hidden] { display: none; }` but bootstrap.min.css set `[hidden] { display: none !important; }` so we also need the `!important` here to be able to override the default hidden behavior on the sphinx rendered scikit-learn.org. See: https://github.com/scikit-learn/scikit-learn/issues/21755 */display: inline-block !important;position: relative;}#sk-container-id-6 div.sk-text-repr-fallback {display: none;}</style><div id=\"sk-container-id-6\" class=\"sk-top-container\"><div class=\"sk-text-repr-fallback\"><pre>RandomForestClassifier(random_state=0)</pre><b>In a Jupyter environment, please rerun this cell to show the HTML representation or trust the notebook. <br />On GitHub, the HTML representation is unable to render, please try loading this page with nbviewer.org.</b></div><div class=\"sk-container\" hidden><div class=\"sk-item\"><div class=\"sk-estimator sk-toggleable\"><input class=\"sk-toggleable__control sk-hidden--visually\" id=\"sk-estimator-id-6\" type=\"checkbox\" checked><label for=\"sk-estimator-id-6\" class=\"sk-toggleable__label sk-toggleable__label-arrow\">RandomForestClassifier</label><div class=\"sk-toggleable__content\"><pre>RandomForestClassifier(random_state=0)</pre></div></div></div></div></div>"
      ],
      "text/plain": [
       "RandomForestClassifier(random_state=0)"
      ]
     },
     "execution_count": 191,
     "metadata": {},
     "output_type": "execute_result"
    }
   ],
   "source": [
    "model7.fit(x_train,y_train)"
   ]
  },
  {
   "cell_type": "code",
   "execution_count": 192,
   "id": "4af1e0b5",
   "metadata": {
    "execution": {
     "iopub.execute_input": "2023-01-13T19:52:18.322218Z",
     "iopub.status.busy": "2023-01-13T19:52:18.321274Z",
     "iopub.status.idle": "2023-01-13T19:52:18.326316Z",
     "shell.execute_reply": "2023-01-13T19:52:18.325040Z"
    },
    "papermill": {
     "duration": 0.063412,
     "end_time": "2023-01-13T19:52:18.328819",
     "exception": false,
     "start_time": "2023-01-13T19:52:18.265407",
     "status": "completed"
    },
    "tags": []
   },
   "outputs": [
    {
     "data": {
      "text/plain": [
       "0.9354040681693238"
      ]
     },
     "execution_count": 192,
     "metadata": {},
     "output_type": "execute_result"
    }
   ],
   "source": [
    "model7.score(x_test,y_test_main)"
   ]
  },
  {
   "cell_type": "code",
   "execution_count": 193,
   "id": "76c82910",
   "metadata": {
    "execution": {
     "iopub.execute_input": "2023-01-13T19:52:18.439216Z",
     "iopub.status.busy": "2023-01-13T19:52:18.438501Z",
     "iopub.status.idle": "2023-01-13T19:52:18.442332Z",
     "shell.execute_reply": "2023-01-13T19:52:18.441600Z"
    },
    "papermill": {
     "duration": 0.061041,
     "end_time": "2023-01-13T19:52:18.444474",
     "exception": false,
     "start_time": "2023-01-13T19:52:18.383433",
     "status": "completed"
    },
    "tags": []
   },
   "outputs": [],
   "source": [
    "#scores7 = cross_val_score(model7,x,y,cv=5)"
   ]
  },
  {
   "cell_type": "code",
   "execution_count": 194,
   "id": "8bc5d944",
   "metadata": {
    "execution": {
     "iopub.execute_input": "2023-01-13T19:52:18.553782Z",
     "iopub.status.busy": "2023-01-13T19:52:18.553309Z",
     "iopub.status.idle": "2023-01-13T19:52:18.558792Z",
     "shell.execute_reply": "2023-01-13T19:52:18.557659Z"
    },
    "papermill": {
     "duration": 0.062547,
     "end_time": "2023-01-13T19:52:18.561298",
     "exception": false,
     "start_time": "2023-01-13T19:52:18.498751",
     "status": "completed"
    },
    "tags": []
   },
   "outputs": [],
   "source": [
    "#scores7.mean()"
   ]
  },
  {
   "cell_type": "code",
   "execution_count": 195,
   "id": "cc5ce879",
   "metadata": {
    "execution": {
     "iopub.execute_input": "2023-01-13T19:52:18.667631Z",
     "iopub.status.busy": "2023-01-13T19:52:18.667138Z",
     "iopub.status.idle": "2023-01-13T19:52:18.672269Z",
     "shell.execute_reply": "2023-01-13T19:52:18.671096Z"
    },
    "papermill": {
     "duration": 0.060734,
     "end_time": "2023-01-13T19:52:18.674683",
     "exception": false,
     "start_time": "2023-01-13T19:52:18.613949",
     "status": "completed"
    },
    "tags": []
   },
   "outputs": [],
   "source": [
    "#y_pred7 = model7.predict(test_data_1)"
   ]
  },
  {
   "cell_type": "code",
   "execution_count": 196,
   "id": "aa0ffedb",
   "metadata": {
    "execution": {
     "iopub.execute_input": "2023-01-13T19:52:18.783242Z",
     "iopub.status.busy": "2023-01-13T19:52:18.782791Z",
     "iopub.status.idle": "2023-01-13T19:52:18.788449Z",
     "shell.execute_reply": "2023-01-13T19:52:18.787133Z"
    },
    "papermill": {
     "duration": 0.062144,
     "end_time": "2023-01-13T19:52:18.790813",
     "exception": false,
     "start_time": "2023-01-13T19:52:18.728669",
     "status": "completed"
    },
    "tags": []
   },
   "outputs": [],
   "source": [
    "from sklearn.metrics import accuracy_score"
   ]
  },
  {
   "cell_type": "code",
   "execution_count": 197,
   "id": "32baa19c",
   "metadata": {
    "execution": {
     "iopub.execute_input": "2023-01-13T19:52:19.362850Z",
     "iopub.status.busy": "2023-01-13T19:52:19.362103Z",
     "iopub.status.idle": "2023-01-13T19:52:19.366187Z",
     "shell.execute_reply": "2023-01-13T19:52:19.365392Z"
    },
    "papermill": {
     "duration": 0.060595,
     "end_time": "2023-01-13T19:52:19.368184",
     "exception": false,
     "start_time": "2023-01-13T19:52:19.307589",
     "status": "completed"
    },
    "tags": []
   },
   "outputs": [],
   "source": [
    "#y_pred8 = model8.predict(test_data_1)"
   ]
  },
  {
   "cell_type": "code",
   "execution_count": 198,
   "id": "9008676b",
   "metadata": {
    "execution": {
     "iopub.execute_input": "2023-01-13T19:52:19.476668Z",
     "iopub.status.busy": "2023-01-13T19:52:19.475959Z",
     "iopub.status.idle": "2023-01-13T19:52:19.481407Z",
     "shell.execute_reply": "2023-01-13T19:52:19.480605Z"
    },
    "papermill": {
     "duration": 0.062158,
     "end_time": "2023-01-13T19:52:19.483456",
     "exception": false,
     "start_time": "2023-01-13T19:52:19.421298",
     "status": "completed"
    },
    "tags": []
   },
   "outputs": [
    {
     "data": {
      "text/plain": [
       "'submission = pd.DataFrame(columns=[\"id\",\"Made_Purchase\"])\\nsubmission[\\'id\\']=[i for i in range(len(y_pred8))]\\nsubmission[\"Made_Purchase\"] = y_pred8'"
      ]
     },
     "execution_count": 198,
     "metadata": {},
     "output_type": "execute_result"
    }
   ],
   "source": [
    "'''submission = pd.DataFrame(columns=[\"id\",\"Made_Purchase\"])\n",
    "submission['id']=[i for i in range(len(y_pred8))]\n",
    "submission[\"Made_Purchase\"] = y_pred8'''"
   ]
  },
  {
   "cell_type": "code",
   "execution_count": 199,
   "id": "2e747dab",
   "metadata": {
    "execution": {
     "iopub.execute_input": "2023-01-13T19:52:19.592085Z",
     "iopub.status.busy": "2023-01-13T19:52:19.591377Z",
     "iopub.status.idle": "2023-01-13T19:52:19.595829Z",
     "shell.execute_reply": "2023-01-13T19:52:19.594557Z"
    },
    "papermill": {
     "duration": 0.061259,
     "end_time": "2023-01-13T19:52:19.598152",
     "exception": false,
     "start_time": "2023-01-13T19:52:19.536893",
     "status": "completed"
    },
    "tags": []
   },
   "outputs": [],
   "source": [
    "#submission.head()"
   ]
  },
  {
   "cell_type": "code",
   "execution_count": 200,
   "id": "a675b818",
   "metadata": {
    "execution": {
     "iopub.execute_input": "2023-01-13T19:52:19.706132Z",
     "iopub.status.busy": "2023-01-13T19:52:19.705731Z",
     "iopub.status.idle": "2023-01-13T19:52:19.710239Z",
     "shell.execute_reply": "2023-01-13T19:52:19.709211Z"
    },
    "papermill": {
     "duration": 0.061185,
     "end_time": "2023-01-13T19:52:19.712407",
     "exception": false,
     "start_time": "2023-01-13T19:52:19.651222",
     "status": "completed"
    },
    "tags": []
   },
   "outputs": [],
   "source": [
    "#submission.to_csv(\"submission.csv\",index=False)"
   ]
  },
  {
   "cell_type": "code",
   "execution_count": 201,
   "id": "c19c3c99",
   "metadata": {
    "execution": {
     "iopub.execute_input": "2023-01-13T19:52:19.820449Z",
     "iopub.status.busy": "2023-01-13T19:52:19.820048Z",
     "iopub.status.idle": "2023-01-13T19:52:19.824739Z",
     "shell.execute_reply": "2023-01-13T19:52:19.823667Z"
    },
    "papermill": {
     "duration": 0.06137,
     "end_time": "2023-01-13T19:52:19.826781",
     "exception": false,
     "start_time": "2023-01-13T19:52:19.765411",
     "status": "completed"
    },
    "tags": []
   },
   "outputs": [],
   "source": [
    "from sklearn.ensemble import AdaBoostClassifier"
   ]
  },
  {
   "cell_type": "code",
   "execution_count": 202,
   "id": "3e61b34a",
   "metadata": {
    "execution": {
     "iopub.execute_input": "2023-01-13T19:52:19.934929Z",
     "iopub.status.busy": "2023-01-13T19:52:19.934245Z",
     "iopub.status.idle": "2023-01-13T19:52:19.938088Z",
     "shell.execute_reply": "2023-01-13T19:52:19.937342Z"
    },
    "papermill": {
     "duration": 0.06049,
     "end_time": "2023-01-13T19:52:19.940177",
     "exception": false,
     "start_time": "2023-01-13T19:52:19.879687",
     "status": "completed"
    },
    "tags": []
   },
   "outputs": [],
   "source": [
    "model9 = AdaBoostClassifier(algorithm='SAMME.R', learning_rate=1.0,n_estimators=50, random_state=123)"
   ]
  },
  {
   "cell_type": "code",
   "execution_count": 203,
   "id": "2a49bb76",
   "metadata": {
    "execution": {
     "iopub.execute_input": "2023-01-13T19:52:20.052373Z",
     "iopub.status.busy": "2023-01-13T19:52:20.051617Z",
     "iopub.status.idle": "2023-01-13T19:52:20.056495Z",
     "shell.execute_reply": "2023-01-13T19:52:20.055400Z"
    },
    "papermill": {
     "duration": 0.063867,
     "end_time": "2023-01-13T19:52:20.058843",
     "exception": false,
     "start_time": "2023-01-13T19:52:19.994976",
     "status": "completed"
    },
    "tags": []
   },
   "outputs": [
    {
     "name": "stderr",
     "output_type": "stream",
     "text": [
      "C:\\Users\\HP\\anaconda3\\lib\\site-packages\\sklearn\\utils\\validation.py:1143: DataConversionWarning: A column-vector y was passed when a 1d array was expected. Please change the shape of y to (n_samples, ), for example using ravel().\n",
      "  y = column_or_1d(y, warn=True)\n"
     ]
    },
    {
     "data": {
      "text/html": [
       "<style>#sk-container-id-7 {color: black;background-color: white;}#sk-container-id-7 pre{padding: 0;}#sk-container-id-7 div.sk-toggleable {background-color: white;}#sk-container-id-7 label.sk-toggleable__label {cursor: pointer;display: block;width: 100%;margin-bottom: 0;padding: 0.3em;box-sizing: border-box;text-align: center;}#sk-container-id-7 label.sk-toggleable__label-arrow:before {content: \"▸\";float: left;margin-right: 0.25em;color: #696969;}#sk-container-id-7 label.sk-toggleable__label-arrow:hover:before {color: black;}#sk-container-id-7 div.sk-estimator:hover label.sk-toggleable__label-arrow:before {color: black;}#sk-container-id-7 div.sk-toggleable__content {max-height: 0;max-width: 0;overflow: hidden;text-align: left;background-color: #f0f8ff;}#sk-container-id-7 div.sk-toggleable__content pre {margin: 0.2em;color: black;border-radius: 0.25em;background-color: #f0f8ff;}#sk-container-id-7 input.sk-toggleable__control:checked~div.sk-toggleable__content {max-height: 200px;max-width: 100%;overflow: auto;}#sk-container-id-7 input.sk-toggleable__control:checked~label.sk-toggleable__label-arrow:before {content: \"▾\";}#sk-container-id-7 div.sk-estimator input.sk-toggleable__control:checked~label.sk-toggleable__label {background-color: #d4ebff;}#sk-container-id-7 div.sk-label input.sk-toggleable__control:checked~label.sk-toggleable__label {background-color: #d4ebff;}#sk-container-id-7 input.sk-hidden--visually {border: 0;clip: rect(1px 1px 1px 1px);clip: rect(1px, 1px, 1px, 1px);height: 1px;margin: -1px;overflow: hidden;padding: 0;position: absolute;width: 1px;}#sk-container-id-7 div.sk-estimator {font-family: monospace;background-color: #f0f8ff;border: 1px dotted black;border-radius: 0.25em;box-sizing: border-box;margin-bottom: 0.5em;}#sk-container-id-7 div.sk-estimator:hover {background-color: #d4ebff;}#sk-container-id-7 div.sk-parallel-item::after {content: \"\";width: 100%;border-bottom: 1px solid gray;flex-grow: 1;}#sk-container-id-7 div.sk-label:hover label.sk-toggleable__label {background-color: #d4ebff;}#sk-container-id-7 div.sk-serial::before {content: \"\";position: absolute;border-left: 1px solid gray;box-sizing: border-box;top: 0;bottom: 0;left: 50%;z-index: 0;}#sk-container-id-7 div.sk-serial {display: flex;flex-direction: column;align-items: center;background-color: white;padding-right: 0.2em;padding-left: 0.2em;position: relative;}#sk-container-id-7 div.sk-item {position: relative;z-index: 1;}#sk-container-id-7 div.sk-parallel {display: flex;align-items: stretch;justify-content: center;background-color: white;position: relative;}#sk-container-id-7 div.sk-item::before, #sk-container-id-7 div.sk-parallel-item::before {content: \"\";position: absolute;border-left: 1px solid gray;box-sizing: border-box;top: 0;bottom: 0;left: 50%;z-index: -1;}#sk-container-id-7 div.sk-parallel-item {display: flex;flex-direction: column;z-index: 1;position: relative;background-color: white;}#sk-container-id-7 div.sk-parallel-item:first-child::after {align-self: flex-end;width: 50%;}#sk-container-id-7 div.sk-parallel-item:last-child::after {align-self: flex-start;width: 50%;}#sk-container-id-7 div.sk-parallel-item:only-child::after {width: 0;}#sk-container-id-7 div.sk-dashed-wrapped {border: 1px dashed gray;margin: 0 0.4em 0.5em 0.4em;box-sizing: border-box;padding-bottom: 0.4em;background-color: white;}#sk-container-id-7 div.sk-label label {font-family: monospace;font-weight: bold;display: inline-block;line-height: 1.2em;}#sk-container-id-7 div.sk-label-container {text-align: center;}#sk-container-id-7 div.sk-container {/* jupyter's `normalize.less` sets `[hidden] { display: none; }` but bootstrap.min.css set `[hidden] { display: none !important; }` so we also need the `!important` here to be able to override the default hidden behavior on the sphinx rendered scikit-learn.org. See: https://github.com/scikit-learn/scikit-learn/issues/21755 */display: inline-block !important;position: relative;}#sk-container-id-7 div.sk-text-repr-fallback {display: none;}</style><div id=\"sk-container-id-7\" class=\"sk-top-container\"><div class=\"sk-text-repr-fallback\"><pre>AdaBoostClassifier(random_state=123)</pre><b>In a Jupyter environment, please rerun this cell to show the HTML representation or trust the notebook. <br />On GitHub, the HTML representation is unable to render, please try loading this page with nbviewer.org.</b></div><div class=\"sk-container\" hidden><div class=\"sk-item\"><div class=\"sk-estimator sk-toggleable\"><input class=\"sk-toggleable__control sk-hidden--visually\" id=\"sk-estimator-id-7\" type=\"checkbox\" checked><label for=\"sk-estimator-id-7\" class=\"sk-toggleable__label sk-toggleable__label-arrow\">AdaBoostClassifier</label><div class=\"sk-toggleable__content\"><pre>AdaBoostClassifier(random_state=123)</pre></div></div></div></div></div>"
      ],
      "text/plain": [
       "AdaBoostClassifier(random_state=123)"
      ]
     },
     "execution_count": 203,
     "metadata": {},
     "output_type": "execute_result"
    }
   ],
   "source": [
    "model9.fit(x_train,y_train)"
   ]
  },
  {
   "cell_type": "code",
   "execution_count": 204,
   "id": "8c9420f9",
   "metadata": {
    "execution": {
     "iopub.execute_input": "2023-01-13T19:52:20.169579Z",
     "iopub.status.busy": "2023-01-13T19:52:20.168216Z",
     "iopub.status.idle": "2023-01-13T19:52:20.172964Z",
     "shell.execute_reply": "2023-01-13T19:52:20.172214Z"
    },
    "papermill": {
     "duration": 0.061236,
     "end_time": "2023-01-13T19:52:20.175224",
     "exception": false,
     "start_time": "2023-01-13T19:52:20.113988",
     "status": "completed"
    },
    "tags": []
   },
   "outputs": [
    {
     "data": {
      "text/plain": [
       "0.9156129741616272"
      ]
     },
     "execution_count": 204,
     "metadata": {},
     "output_type": "execute_result"
    }
   ],
   "source": [
    "model9.score(x_test,y_test_main)"
   ]
  },
  {
   "cell_type": "code",
   "execution_count": 205,
   "id": "6e5825b7",
   "metadata": {
    "execution": {
     "iopub.execute_input": "2023-01-13T19:52:20.285185Z",
     "iopub.status.busy": "2023-01-13T19:52:20.284576Z",
     "iopub.status.idle": "2023-01-13T19:52:20.288259Z",
     "shell.execute_reply": "2023-01-13T19:52:20.287457Z"
    },
    "papermill": {
     "duration": 0.06165,
     "end_time": "2023-01-13T19:52:20.290303",
     "exception": false,
     "start_time": "2023-01-13T19:52:20.228653",
     "status": "completed"
    },
    "tags": []
   },
   "outputs": [],
   "source": [
    "#y_pred9 = model9.predict(test_data_1)"
   ]
  },
  {
   "cell_type": "code",
   "execution_count": 206,
   "id": "d67cd52d",
   "metadata": {
    "execution": {
     "iopub.execute_input": "2023-01-13T19:52:20.400354Z",
     "iopub.status.busy": "2023-01-13T19:52:20.399290Z",
     "iopub.status.idle": "2023-01-13T19:52:20.405661Z",
     "shell.execute_reply": "2023-01-13T19:52:20.404577Z"
    },
    "papermill": {
     "duration": 0.063927,
     "end_time": "2023-01-13T19:52:20.407887",
     "exception": false,
     "start_time": "2023-01-13T19:52:20.343960",
     "status": "completed"
    },
    "tags": []
   },
   "outputs": [
    {
     "data": {
      "text/plain": [
       "'submission = pd.DataFrame(columns=[\"id\",\"Made_Purchase\"])\\nsubmission[\\'id\\']=[i for i in range(len(y_pred9))]\\nsubmission[\"Made_Purchase\"] = y_pred9\\nsubmission.to_csv(\"submission.csv\",index=False)'"
      ]
     },
     "execution_count": 206,
     "metadata": {},
     "output_type": "execute_result"
    }
   ],
   "source": [
    "'''submission = pd.DataFrame(columns=[\"id\",\"Made_Purchase\"])\n",
    "submission['id']=[i for i in range(len(y_pred9))]\n",
    "submission[\"Made_Purchase\"] = y_pred9\n",
    "submission.to_csv(\"submission.csv\",index=False)'''"
   ]
  },
  {
   "cell_type": "code",
   "execution_count": 207,
   "id": "7942b3da",
   "metadata": {
    "execution": {
     "iopub.execute_input": "2023-01-13T19:52:20.517613Z",
     "iopub.status.busy": "2023-01-13T19:52:20.516916Z",
     "iopub.status.idle": "2023-01-13T19:52:20.521282Z",
     "shell.execute_reply": "2023-01-13T19:52:20.520493Z"
    },
    "papermill": {
     "duration": 0.061859,
     "end_time": "2023-01-13T19:52:20.523535",
     "exception": false,
     "start_time": "2023-01-13T19:52:20.461676",
     "status": "completed"
    },
    "tags": []
   },
   "outputs": [],
   "source": [
    "from sklearn.ensemble import GradientBoostingClassifier"
   ]
  },
  {
   "cell_type": "code",
   "execution_count": 208,
   "id": "b340f22e",
   "metadata": {
    "execution": {
     "iopub.execute_input": "2023-01-13T19:52:20.632370Z",
     "iopub.status.busy": "2023-01-13T19:52:20.631777Z",
     "iopub.status.idle": "2023-01-13T19:52:20.636430Z",
     "shell.execute_reply": "2023-01-13T19:52:20.635189Z"
    },
    "papermill": {
     "duration": 0.06115,
     "end_time": "2023-01-13T19:52:20.638539",
     "exception": false,
     "start_time": "2023-01-13T19:52:20.577389",
     "status": "completed"
    },
    "tags": []
   },
   "outputs": [],
   "source": [
    "model10 = GradientBoostingClassifier()"
   ]
  },
  {
   "cell_type": "code",
   "execution_count": 209,
   "id": "65e6b2fa",
   "metadata": {
    "execution": {
     "iopub.execute_input": "2023-01-13T19:52:20.750081Z",
     "iopub.status.busy": "2023-01-13T19:52:20.749169Z",
     "iopub.status.idle": "2023-01-13T19:52:20.753384Z",
     "shell.execute_reply": "2023-01-13T19:52:20.752684Z"
    },
    "papermill": {
     "duration": 0.063699,
     "end_time": "2023-01-13T19:52:20.755745",
     "exception": false,
     "start_time": "2023-01-13T19:52:20.692046",
     "status": "completed"
    },
    "tags": []
   },
   "outputs": [
    {
     "name": "stderr",
     "output_type": "stream",
     "text": [
      "C:\\Users\\HP\\anaconda3\\lib\\site-packages\\sklearn\\ensemble\\_gb.py:437: DataConversionWarning: A column-vector y was passed when a 1d array was expected. Please change the shape of y to (n_samples, ), for example using ravel().\n",
      "  y = column_or_1d(y, warn=True)\n"
     ]
    },
    {
     "data": {
      "text/html": [
       "<style>#sk-container-id-8 {color: black;background-color: white;}#sk-container-id-8 pre{padding: 0;}#sk-container-id-8 div.sk-toggleable {background-color: white;}#sk-container-id-8 label.sk-toggleable__label {cursor: pointer;display: block;width: 100%;margin-bottom: 0;padding: 0.3em;box-sizing: border-box;text-align: center;}#sk-container-id-8 label.sk-toggleable__label-arrow:before {content: \"▸\";float: left;margin-right: 0.25em;color: #696969;}#sk-container-id-8 label.sk-toggleable__label-arrow:hover:before {color: black;}#sk-container-id-8 div.sk-estimator:hover label.sk-toggleable__label-arrow:before {color: black;}#sk-container-id-8 div.sk-toggleable__content {max-height: 0;max-width: 0;overflow: hidden;text-align: left;background-color: #f0f8ff;}#sk-container-id-8 div.sk-toggleable__content pre {margin: 0.2em;color: black;border-radius: 0.25em;background-color: #f0f8ff;}#sk-container-id-8 input.sk-toggleable__control:checked~div.sk-toggleable__content {max-height: 200px;max-width: 100%;overflow: auto;}#sk-container-id-8 input.sk-toggleable__control:checked~label.sk-toggleable__label-arrow:before {content: \"▾\";}#sk-container-id-8 div.sk-estimator input.sk-toggleable__control:checked~label.sk-toggleable__label {background-color: #d4ebff;}#sk-container-id-8 div.sk-label input.sk-toggleable__control:checked~label.sk-toggleable__label {background-color: #d4ebff;}#sk-container-id-8 input.sk-hidden--visually {border: 0;clip: rect(1px 1px 1px 1px);clip: rect(1px, 1px, 1px, 1px);height: 1px;margin: -1px;overflow: hidden;padding: 0;position: absolute;width: 1px;}#sk-container-id-8 div.sk-estimator {font-family: monospace;background-color: #f0f8ff;border: 1px dotted black;border-radius: 0.25em;box-sizing: border-box;margin-bottom: 0.5em;}#sk-container-id-8 div.sk-estimator:hover {background-color: #d4ebff;}#sk-container-id-8 div.sk-parallel-item::after {content: \"\";width: 100%;border-bottom: 1px solid gray;flex-grow: 1;}#sk-container-id-8 div.sk-label:hover label.sk-toggleable__label {background-color: #d4ebff;}#sk-container-id-8 div.sk-serial::before {content: \"\";position: absolute;border-left: 1px solid gray;box-sizing: border-box;top: 0;bottom: 0;left: 50%;z-index: 0;}#sk-container-id-8 div.sk-serial {display: flex;flex-direction: column;align-items: center;background-color: white;padding-right: 0.2em;padding-left: 0.2em;position: relative;}#sk-container-id-8 div.sk-item {position: relative;z-index: 1;}#sk-container-id-8 div.sk-parallel {display: flex;align-items: stretch;justify-content: center;background-color: white;position: relative;}#sk-container-id-8 div.sk-item::before, #sk-container-id-8 div.sk-parallel-item::before {content: \"\";position: absolute;border-left: 1px solid gray;box-sizing: border-box;top: 0;bottom: 0;left: 50%;z-index: -1;}#sk-container-id-8 div.sk-parallel-item {display: flex;flex-direction: column;z-index: 1;position: relative;background-color: white;}#sk-container-id-8 div.sk-parallel-item:first-child::after {align-self: flex-end;width: 50%;}#sk-container-id-8 div.sk-parallel-item:last-child::after {align-self: flex-start;width: 50%;}#sk-container-id-8 div.sk-parallel-item:only-child::after {width: 0;}#sk-container-id-8 div.sk-dashed-wrapped {border: 1px dashed gray;margin: 0 0.4em 0.5em 0.4em;box-sizing: border-box;padding-bottom: 0.4em;background-color: white;}#sk-container-id-8 div.sk-label label {font-family: monospace;font-weight: bold;display: inline-block;line-height: 1.2em;}#sk-container-id-8 div.sk-label-container {text-align: center;}#sk-container-id-8 div.sk-container {/* jupyter's `normalize.less` sets `[hidden] { display: none; }` but bootstrap.min.css set `[hidden] { display: none !important; }` so we also need the `!important` here to be able to override the default hidden behavior on the sphinx rendered scikit-learn.org. See: https://github.com/scikit-learn/scikit-learn/issues/21755 */display: inline-block !important;position: relative;}#sk-container-id-8 div.sk-text-repr-fallback {display: none;}</style><div id=\"sk-container-id-8\" class=\"sk-top-container\"><div class=\"sk-text-repr-fallback\"><pre>GradientBoostingClassifier()</pre><b>In a Jupyter environment, please rerun this cell to show the HTML representation or trust the notebook. <br />On GitHub, the HTML representation is unable to render, please try loading this page with nbviewer.org.</b></div><div class=\"sk-container\" hidden><div class=\"sk-item\"><div class=\"sk-estimator sk-toggleable\"><input class=\"sk-toggleable__control sk-hidden--visually\" id=\"sk-estimator-id-8\" type=\"checkbox\" checked><label for=\"sk-estimator-id-8\" class=\"sk-toggleable__label sk-toggleable__label-arrow\">GradientBoostingClassifier</label><div class=\"sk-toggleable__content\"><pre>GradientBoostingClassifier()</pre></div></div></div></div></div>"
      ],
      "text/plain": [
       "GradientBoostingClassifier()"
      ]
     },
     "execution_count": 209,
     "metadata": {},
     "output_type": "execute_result"
    }
   ],
   "source": [
    "model10.fit(x_train,y_train)"
   ]
  },
  {
   "cell_type": "code",
   "execution_count": 210,
   "id": "94834b9d",
   "metadata": {},
   "outputs": [
    {
     "data": {
      "text/plain": [
       "0.9271577789994503"
      ]
     },
     "execution_count": 210,
     "metadata": {},
     "output_type": "execute_result"
    }
   ],
   "source": [
    "model10.score(x_test,y_test_main)"
   ]
  },
  {
   "cell_type": "code",
   "execution_count": 211,
   "id": "114164a3",
   "metadata": {
    "execution": {
     "iopub.execute_input": "2023-01-13T19:52:20.864453Z",
     "iopub.status.busy": "2023-01-13T19:52:20.864011Z",
     "iopub.status.idle": "2023-01-13T19:52:20.869121Z",
     "shell.execute_reply": "2023-01-13T19:52:20.867620Z"
    },
    "papermill": {
     "duration": 0.06212,
     "end_time": "2023-01-13T19:52:20.871447",
     "exception": false,
     "start_time": "2023-01-13T19:52:20.809327",
     "status": "completed"
    },
    "tags": []
   },
   "outputs": [],
   "source": [
    "#y_pred11 = model10.predict(x_test3)"
   ]
  },
  {
   "cell_type": "code",
   "execution_count": 212,
   "id": "0741fa50",
   "metadata": {
    "execution": {
     "iopub.execute_input": "2023-01-13T19:52:20.980107Z",
     "iopub.status.busy": "2023-01-13T19:52:20.979675Z",
     "iopub.status.idle": "2023-01-13T19:52:20.984586Z",
     "shell.execute_reply": "2023-01-13T19:52:20.983577Z"
    },
    "papermill": {
     "duration": 0.061799,
     "end_time": "2023-01-13T19:52:20.986764",
     "exception": false,
     "start_time": "2023-01-13T19:52:20.924965",
     "status": "completed"
    },
    "tags": []
   },
   "outputs": [],
   "source": [
    "#y_pred10 = model10.predict(test_data_1)"
   ]
  },
  {
   "cell_type": "code",
   "execution_count": 213,
   "id": "f8d7ff9e",
   "metadata": {
    "execution": {
     "iopub.execute_input": "2023-01-13T19:52:21.097273Z",
     "iopub.status.busy": "2023-01-13T19:52:21.096228Z",
     "iopub.status.idle": "2023-01-13T19:52:21.101900Z",
     "shell.execute_reply": "2023-01-13T19:52:21.101198Z"
    },
    "papermill": {
     "duration": 0.062763,
     "end_time": "2023-01-13T19:52:21.103855",
     "exception": false,
     "start_time": "2023-01-13T19:52:21.041092",
     "status": "completed"
    },
    "tags": []
   },
   "outputs": [
    {
     "data": {
      "text/plain": [
       "'submission = pd.DataFrame(columns=[\"id\",\"Made_Purchase\"])\\nsubmission[\\'id\\']=[i for i in range(len(y_pred11))]\\nsubmission[\"Made_Purchase\"] = y_pred11\\nsubmission.to_csv(\"submission.csv\",index=False)'"
      ]
     },
     "execution_count": 213,
     "metadata": {},
     "output_type": "execute_result"
    }
   ],
   "source": [
    "'''submission = pd.DataFrame(columns=[\"id\",\"Made_Purchase\"])\n",
    "submission['id']=[i for i in range(len(y_pred11))]\n",
    "submission[\"Made_Purchase\"] = y_pred11\n",
    "submission.to_csv(\"submission.csv\",index=False)'''"
   ]
  },
  {
   "cell_type": "code",
   "execution_count": 214,
   "id": "5f46e975",
   "metadata": {
    "execution": {
     "iopub.execute_input": "2023-01-13T19:52:21.213428Z",
     "iopub.status.busy": "2023-01-13T19:52:21.212460Z",
     "iopub.status.idle": "2023-01-13T19:52:21.217227Z",
     "shell.execute_reply": "2023-01-13T19:52:21.216112Z"
    },
    "papermill": {
     "duration": 0.06172,
     "end_time": "2023-01-13T19:52:21.219530",
     "exception": false,
     "start_time": "2023-01-13T19:52:21.157810",
     "status": "completed"
    },
    "tags": []
   },
   "outputs": [],
   "source": [
    "from sklearn.metrics import f1_score"
   ]
  },
  {
   "cell_type": "code",
   "execution_count": 215,
   "id": "f3915b0c",
   "metadata": {
    "execution": {
     "iopub.execute_input": "2023-01-13T19:52:21.330570Z",
     "iopub.status.busy": "2023-01-13T19:52:21.330138Z",
     "iopub.status.idle": "2023-01-13T19:52:21.334173Z",
     "shell.execute_reply": "2023-01-13T19:52:21.333401Z"
    },
    "papermill": {
     "duration": 0.061958,
     "end_time": "2023-01-13T19:52:21.336112",
     "exception": false,
     "start_time": "2023-01-13T19:52:21.274154",
     "status": "completed"
    },
    "tags": []
   },
   "outputs": [],
   "source": [
    "# d"
   ]
  },
  {
   "cell_type": "markdown",
   "id": "807bf071",
   "metadata": {
    "papermill": {
     "duration": 0.054435,
     "end_time": "2023-01-13T19:52:21.444369",
     "exception": false,
     "start_time": "2023-01-13T19:52:21.389934",
     "status": "completed"
    },
    "tags": []
   },
   "source": []
  },
  {
   "cell_type": "code",
   "execution_count": 216,
   "id": "1837edc0",
   "metadata": {
    "execution": {
     "iopub.execute_input": "2023-01-13T19:52:21.554292Z",
     "iopub.status.busy": "2023-01-13T19:52:21.553586Z",
     "iopub.status.idle": "2023-01-13T19:52:21.557907Z",
     "shell.execute_reply": "2023-01-13T19:52:21.557107Z"
    },
    "papermill": {
     "duration": 0.061326,
     "end_time": "2023-01-13T19:52:21.560003",
     "exception": false,
     "start_time": "2023-01-13T19:52:21.498677",
     "status": "completed"
    },
    "tags": []
   },
   "outputs": [],
   "source": [
    "imp = ['GoogleMetric:Page Values','ProductDescriptionPage_Duration','GoogleMetric:Bounce Rates','Month_SeasonalPurchase_Nov']"
   ]
  },
  {
   "cell_type": "code",
   "execution_count": 217,
   "id": "de92837b",
   "metadata": {
    "execution": {
     "iopub.execute_input": "2023-01-13T19:52:21.670812Z",
     "iopub.status.busy": "2023-01-13T19:52:21.670030Z",
     "iopub.status.idle": "2023-01-13T19:52:21.675195Z",
     "shell.execute_reply": "2023-01-13T19:52:21.674456Z"
    },
    "papermill": {
     "duration": 0.062863,
     "end_time": "2023-01-13T19:52:21.677345",
     "exception": false,
     "start_time": "2023-01-13T19:52:21.614482",
     "status": "completed"
    },
    "tags": []
   },
   "outputs": [],
   "source": [
    "# df4 = df3[imp]"
   ]
  },
  {
   "cell_type": "code",
   "execution_count": 218,
   "id": "0287cbba",
   "metadata": {
    "execution": {
     "iopub.execute_input": "2023-01-13T19:52:21.786331Z",
     "iopub.status.busy": "2023-01-13T19:52:21.785631Z",
     "iopub.status.idle": "2023-01-13T19:52:21.789265Z",
     "shell.execute_reply": "2023-01-13T19:52:21.788574Z"
    },
    "papermill": {
     "duration": 0.060432,
     "end_time": "2023-01-13T19:52:21.791318",
     "exception": false,
     "start_time": "2023-01-13T19:52:21.730886",
     "status": "completed"
    },
    "tags": []
   },
   "outputs": [],
   "source": [
    "#df4.head()"
   ]
  },
  {
   "cell_type": "code",
   "execution_count": 224,
   "id": "0c7b8b3e",
   "metadata": {
    "execution": {
     "iopub.execute_input": "2023-01-13T19:52:21.900258Z",
     "iopub.status.busy": "2023-01-13T19:52:21.899573Z",
     "iopub.status.idle": "2023-01-13T19:52:21.906291Z",
     "shell.execute_reply": "2023-01-13T19:52:21.905580Z"
    },
    "papermill": {
     "duration": 0.064069,
     "end_time": "2023-01-13T19:52:21.908564",
     "exception": false,
     "start_time": "2023-01-13T19:52:21.844495",
     "status": "completed"
    },
    "tags": []
   },
   "outputs": [],
   "source": [
    "from sklearn.naive_bayes import GaussianNB"
   ]
  },
  {
   "cell_type": "code",
   "execution_count": 225,
   "id": "018617b2",
   "metadata": {
    "execution": {
     "iopub.execute_input": "2023-01-13T19:52:22.024846Z",
     "iopub.status.busy": "2023-01-13T19:52:22.024406Z",
     "iopub.status.idle": "2023-01-13T19:52:22.028779Z",
     "shell.execute_reply": "2023-01-13T19:52:22.027726Z"
    },
    "papermill": {
     "duration": 0.067641,
     "end_time": "2023-01-13T19:52:22.031236",
     "exception": false,
     "start_time": "2023-01-13T19:52:21.963595",
     "status": "completed"
    },
    "tags": []
   },
   "outputs": [],
   "source": [
    "model12 = GaussianNB()"
   ]
  },
  {
   "cell_type": "code",
   "execution_count": 226,
   "id": "3cc6ca80",
   "metadata": {
    "execution": {
     "iopub.execute_input": "2023-01-13T19:52:22.141300Z",
     "iopub.status.busy": "2023-01-13T19:52:22.140858Z",
     "iopub.status.idle": "2023-01-13T19:52:22.146016Z",
     "shell.execute_reply": "2023-01-13T19:52:22.144882Z"
    },
    "papermill": {
     "duration": 0.063373,
     "end_time": "2023-01-13T19:52:22.148431",
     "exception": false,
     "start_time": "2023-01-13T19:52:22.085058",
     "status": "completed"
    },
    "tags": []
   },
   "outputs": [
    {
     "name": "stderr",
     "output_type": "stream",
     "text": [
      "C:\\Users\\HP\\anaconda3\\lib\\site-packages\\sklearn\\utils\\validation.py:1143: DataConversionWarning: A column-vector y was passed when a 1d array was expected. Please change the shape of y to (n_samples, ), for example using ravel().\n",
      "  y = column_or_1d(y, warn=True)\n"
     ]
    },
    {
     "data": {
      "text/html": [
       "<style>#sk-container-id-9 {color: black;background-color: white;}#sk-container-id-9 pre{padding: 0;}#sk-container-id-9 div.sk-toggleable {background-color: white;}#sk-container-id-9 label.sk-toggleable__label {cursor: pointer;display: block;width: 100%;margin-bottom: 0;padding: 0.3em;box-sizing: border-box;text-align: center;}#sk-container-id-9 label.sk-toggleable__label-arrow:before {content: \"▸\";float: left;margin-right: 0.25em;color: #696969;}#sk-container-id-9 label.sk-toggleable__label-arrow:hover:before {color: black;}#sk-container-id-9 div.sk-estimator:hover label.sk-toggleable__label-arrow:before {color: black;}#sk-container-id-9 div.sk-toggleable__content {max-height: 0;max-width: 0;overflow: hidden;text-align: left;background-color: #f0f8ff;}#sk-container-id-9 div.sk-toggleable__content pre {margin: 0.2em;color: black;border-radius: 0.25em;background-color: #f0f8ff;}#sk-container-id-9 input.sk-toggleable__control:checked~div.sk-toggleable__content {max-height: 200px;max-width: 100%;overflow: auto;}#sk-container-id-9 input.sk-toggleable__control:checked~label.sk-toggleable__label-arrow:before {content: \"▾\";}#sk-container-id-9 div.sk-estimator input.sk-toggleable__control:checked~label.sk-toggleable__label {background-color: #d4ebff;}#sk-container-id-9 div.sk-label input.sk-toggleable__control:checked~label.sk-toggleable__label {background-color: #d4ebff;}#sk-container-id-9 input.sk-hidden--visually {border: 0;clip: rect(1px 1px 1px 1px);clip: rect(1px, 1px, 1px, 1px);height: 1px;margin: -1px;overflow: hidden;padding: 0;position: absolute;width: 1px;}#sk-container-id-9 div.sk-estimator {font-family: monospace;background-color: #f0f8ff;border: 1px dotted black;border-radius: 0.25em;box-sizing: border-box;margin-bottom: 0.5em;}#sk-container-id-9 div.sk-estimator:hover {background-color: #d4ebff;}#sk-container-id-9 div.sk-parallel-item::after {content: \"\";width: 100%;border-bottom: 1px solid gray;flex-grow: 1;}#sk-container-id-9 div.sk-label:hover label.sk-toggleable__label {background-color: #d4ebff;}#sk-container-id-9 div.sk-serial::before {content: \"\";position: absolute;border-left: 1px solid gray;box-sizing: border-box;top: 0;bottom: 0;left: 50%;z-index: 0;}#sk-container-id-9 div.sk-serial {display: flex;flex-direction: column;align-items: center;background-color: white;padding-right: 0.2em;padding-left: 0.2em;position: relative;}#sk-container-id-9 div.sk-item {position: relative;z-index: 1;}#sk-container-id-9 div.sk-parallel {display: flex;align-items: stretch;justify-content: center;background-color: white;position: relative;}#sk-container-id-9 div.sk-item::before, #sk-container-id-9 div.sk-parallel-item::before {content: \"\";position: absolute;border-left: 1px solid gray;box-sizing: border-box;top: 0;bottom: 0;left: 50%;z-index: -1;}#sk-container-id-9 div.sk-parallel-item {display: flex;flex-direction: column;z-index: 1;position: relative;background-color: white;}#sk-container-id-9 div.sk-parallel-item:first-child::after {align-self: flex-end;width: 50%;}#sk-container-id-9 div.sk-parallel-item:last-child::after {align-self: flex-start;width: 50%;}#sk-container-id-9 div.sk-parallel-item:only-child::after {width: 0;}#sk-container-id-9 div.sk-dashed-wrapped {border: 1px dashed gray;margin: 0 0.4em 0.5em 0.4em;box-sizing: border-box;padding-bottom: 0.4em;background-color: white;}#sk-container-id-9 div.sk-label label {font-family: monospace;font-weight: bold;display: inline-block;line-height: 1.2em;}#sk-container-id-9 div.sk-label-container {text-align: center;}#sk-container-id-9 div.sk-container {/* jupyter's `normalize.less` sets `[hidden] { display: none; }` but bootstrap.min.css set `[hidden] { display: none !important; }` so we also need the `!important` here to be able to override the default hidden behavior on the sphinx rendered scikit-learn.org. See: https://github.com/scikit-learn/scikit-learn/issues/21755 */display: inline-block !important;position: relative;}#sk-container-id-9 div.sk-text-repr-fallback {display: none;}</style><div id=\"sk-container-id-9\" class=\"sk-top-container\"><div class=\"sk-text-repr-fallback\"><pre>GaussianNB()</pre><b>In a Jupyter environment, please rerun this cell to show the HTML representation or trust the notebook. <br />On GitHub, the HTML representation is unable to render, please try loading this page with nbviewer.org.</b></div><div class=\"sk-container\" hidden><div class=\"sk-item\"><div class=\"sk-estimator sk-toggleable\"><input class=\"sk-toggleable__control sk-hidden--visually\" id=\"sk-estimator-id-9\" type=\"checkbox\" checked><label for=\"sk-estimator-id-9\" class=\"sk-toggleable__label sk-toggleable__label-arrow\">GaussianNB</label><div class=\"sk-toggleable__content\"><pre>GaussianNB()</pre></div></div></div></div></div>"
      ],
      "text/plain": [
       "GaussianNB()"
      ]
     },
     "execution_count": 226,
     "metadata": {},
     "output_type": "execute_result"
    }
   ],
   "source": [
    "model12.fit(x_train,y_train)"
   ]
  },
  {
   "cell_type": "code",
   "execution_count": 227,
   "id": "d1f1f77f",
   "metadata": {
    "execution": {
     "iopub.execute_input": "2023-01-13T19:52:22.259307Z",
     "iopub.status.busy": "2023-01-13T19:52:22.258906Z",
     "iopub.status.idle": "2023-01-13T19:52:22.263047Z",
     "shell.execute_reply": "2023-01-13T19:52:22.261956Z"
    },
    "papermill": {
     "duration": 0.062784,
     "end_time": "2023-01-13T19:52:22.265435",
     "exception": false,
     "start_time": "2023-01-13T19:52:22.202651",
     "status": "completed"
    },
    "tags": []
   },
   "outputs": [
    {
     "data": {
      "text/plain": [
       "0.6467839472237493"
      ]
     },
     "execution_count": 227,
     "metadata": {},
     "output_type": "execute_result"
    }
   ],
   "source": [
    "model12.score(x_test,y_test_main)"
   ]
  },
  {
   "cell_type": "code",
   "execution_count": 228,
   "id": "e801c3d8",
   "metadata": {
    "execution": {
     "iopub.execute_input": "2023-01-13T19:52:22.376701Z",
     "iopub.status.busy": "2023-01-13T19:52:22.375985Z",
     "iopub.status.idle": "2023-01-13T19:52:22.379649Z",
     "shell.execute_reply": "2023-01-13T19:52:22.378966Z"
    },
    "papermill": {
     "duration": 0.06111,
     "end_time": "2023-01-13T19:52:22.381609",
     "exception": false,
     "start_time": "2023-01-13T19:52:22.320499",
     "status": "completed"
    },
    "tags": []
   },
   "outputs": [],
   "source": [
    "#y_pred12 = model12.predict(x_test3[imp])"
   ]
  },
  {
   "cell_type": "code",
   "execution_count": 229,
   "id": "5af36c62",
   "metadata": {
    "execution": {
     "iopub.execute_input": "2023-01-13T19:52:22.491478Z",
     "iopub.status.busy": "2023-01-13T19:52:22.490777Z",
     "iopub.status.idle": "2023-01-13T19:52:22.494479Z",
     "shell.execute_reply": "2023-01-13T19:52:22.493805Z"
    },
    "papermill": {
     "duration": 0.061413,
     "end_time": "2023-01-13T19:52:22.496494",
     "exception": false,
     "start_time": "2023-01-13T19:52:22.435081",
     "status": "completed"
    },
    "tags": []
   },
   "outputs": [],
   "source": [
    "# submission = pd.DataFrame(columns=[\"id\",\"Made_Purchase\"])\n",
    "# submission['id']=[i for i in range(len(y_pred12))]\n",
    "# submission[\"Made_Purchase\"] = y_pred12\n",
    "# submission.to_csv(\"submission.csv\",index=False)"
   ]
  },
  {
   "cell_type": "code",
   "execution_count": 230,
   "id": "017a1bb9",
   "metadata": {
    "execution": {
     "iopub.execute_input": "2023-01-13T19:52:22.609120Z",
     "iopub.status.busy": "2023-01-13T19:52:22.608406Z",
     "iopub.status.idle": "2023-01-13T19:52:22.612712Z",
     "shell.execute_reply": "2023-01-13T19:52:22.611806Z"
    },
    "papermill": {
     "duration": 0.064153,
     "end_time": "2023-01-13T19:52:22.614982",
     "exception": false,
     "start_time": "2023-01-13T19:52:22.550829",
     "status": "completed"
    },
    "tags": []
   },
   "outputs": [],
   "source": [
    "from sklearn.linear_model import LogisticRegression"
   ]
  },
  {
   "cell_type": "code",
   "execution_count": 231,
   "id": "d586ea23",
   "metadata": {
    "execution": {
     "iopub.execute_input": "2023-01-13T19:52:22.809605Z",
     "iopub.status.busy": "2023-01-13T19:52:22.808839Z",
     "iopub.status.idle": "2023-01-13T19:52:22.812983Z",
     "shell.execute_reply": "2023-01-13T19:52:22.812024Z"
    },
    "papermill": {
     "duration": 0.062221,
     "end_time": "2023-01-13T19:52:22.815279",
     "exception": false,
     "start_time": "2023-01-13T19:52:22.753058",
     "status": "completed"
    },
    "tags": []
   },
   "outputs": [],
   "source": [
    "model13 = LogisticRegression()"
   ]
  },
  {
   "cell_type": "code",
   "execution_count": 232,
   "id": "fc5eae2f",
   "metadata": {
    "execution": {
     "iopub.execute_input": "2023-01-13T19:52:22.925270Z",
     "iopub.status.busy": "2023-01-13T19:52:22.924209Z",
     "iopub.status.idle": "2023-01-13T19:52:22.928356Z",
     "shell.execute_reply": "2023-01-13T19:52:22.927590Z"
    },
    "papermill": {
     "duration": 0.062133,
     "end_time": "2023-01-13T19:52:22.930981",
     "exception": false,
     "start_time": "2023-01-13T19:52:22.868848",
     "status": "completed"
    },
    "tags": []
   },
   "outputs": [
    {
     "name": "stderr",
     "output_type": "stream",
     "text": [
      "C:\\Users\\HP\\anaconda3\\lib\\site-packages\\sklearn\\utils\\validation.py:1143: DataConversionWarning: A column-vector y was passed when a 1d array was expected. Please change the shape of y to (n_samples, ), for example using ravel().\n",
      "  y = column_or_1d(y, warn=True)\n",
      "C:\\Users\\HP\\anaconda3\\lib\\site-packages\\sklearn\\linear_model\\_logistic.py:458: ConvergenceWarning: lbfgs failed to converge (status=1):\n",
      "STOP: TOTAL NO. of ITERATIONS REACHED LIMIT.\n",
      "\n",
      "Increase the number of iterations (max_iter) or scale the data as shown in:\n",
      "    https://scikit-learn.org/stable/modules/preprocessing.html\n",
      "Please also refer to the documentation for alternative solver options:\n",
      "    https://scikit-learn.org/stable/modules/linear_model.html#logistic-regression\n",
      "  n_iter_i = _check_optimize_result(\n"
     ]
    },
    {
     "data": {
      "text/html": [
       "<style>#sk-container-id-10 {color: black;background-color: white;}#sk-container-id-10 pre{padding: 0;}#sk-container-id-10 div.sk-toggleable {background-color: white;}#sk-container-id-10 label.sk-toggleable__label {cursor: pointer;display: block;width: 100%;margin-bottom: 0;padding: 0.3em;box-sizing: border-box;text-align: center;}#sk-container-id-10 label.sk-toggleable__label-arrow:before {content: \"▸\";float: left;margin-right: 0.25em;color: #696969;}#sk-container-id-10 label.sk-toggleable__label-arrow:hover:before {color: black;}#sk-container-id-10 div.sk-estimator:hover label.sk-toggleable__label-arrow:before {color: black;}#sk-container-id-10 div.sk-toggleable__content {max-height: 0;max-width: 0;overflow: hidden;text-align: left;background-color: #f0f8ff;}#sk-container-id-10 div.sk-toggleable__content pre {margin: 0.2em;color: black;border-radius: 0.25em;background-color: #f0f8ff;}#sk-container-id-10 input.sk-toggleable__control:checked~div.sk-toggleable__content {max-height: 200px;max-width: 100%;overflow: auto;}#sk-container-id-10 input.sk-toggleable__control:checked~label.sk-toggleable__label-arrow:before {content: \"▾\";}#sk-container-id-10 div.sk-estimator input.sk-toggleable__control:checked~label.sk-toggleable__label {background-color: #d4ebff;}#sk-container-id-10 div.sk-label input.sk-toggleable__control:checked~label.sk-toggleable__label {background-color: #d4ebff;}#sk-container-id-10 input.sk-hidden--visually {border: 0;clip: rect(1px 1px 1px 1px);clip: rect(1px, 1px, 1px, 1px);height: 1px;margin: -1px;overflow: hidden;padding: 0;position: absolute;width: 1px;}#sk-container-id-10 div.sk-estimator {font-family: monospace;background-color: #f0f8ff;border: 1px dotted black;border-radius: 0.25em;box-sizing: border-box;margin-bottom: 0.5em;}#sk-container-id-10 div.sk-estimator:hover {background-color: #d4ebff;}#sk-container-id-10 div.sk-parallel-item::after {content: \"\";width: 100%;border-bottom: 1px solid gray;flex-grow: 1;}#sk-container-id-10 div.sk-label:hover label.sk-toggleable__label {background-color: #d4ebff;}#sk-container-id-10 div.sk-serial::before {content: \"\";position: absolute;border-left: 1px solid gray;box-sizing: border-box;top: 0;bottom: 0;left: 50%;z-index: 0;}#sk-container-id-10 div.sk-serial {display: flex;flex-direction: column;align-items: center;background-color: white;padding-right: 0.2em;padding-left: 0.2em;position: relative;}#sk-container-id-10 div.sk-item {position: relative;z-index: 1;}#sk-container-id-10 div.sk-parallel {display: flex;align-items: stretch;justify-content: center;background-color: white;position: relative;}#sk-container-id-10 div.sk-item::before, #sk-container-id-10 div.sk-parallel-item::before {content: \"\";position: absolute;border-left: 1px solid gray;box-sizing: border-box;top: 0;bottom: 0;left: 50%;z-index: -1;}#sk-container-id-10 div.sk-parallel-item {display: flex;flex-direction: column;z-index: 1;position: relative;background-color: white;}#sk-container-id-10 div.sk-parallel-item:first-child::after {align-self: flex-end;width: 50%;}#sk-container-id-10 div.sk-parallel-item:last-child::after {align-self: flex-start;width: 50%;}#sk-container-id-10 div.sk-parallel-item:only-child::after {width: 0;}#sk-container-id-10 div.sk-dashed-wrapped {border: 1px dashed gray;margin: 0 0.4em 0.5em 0.4em;box-sizing: border-box;padding-bottom: 0.4em;background-color: white;}#sk-container-id-10 div.sk-label label {font-family: monospace;font-weight: bold;display: inline-block;line-height: 1.2em;}#sk-container-id-10 div.sk-label-container {text-align: center;}#sk-container-id-10 div.sk-container {/* jupyter's `normalize.less` sets `[hidden] { display: none; }` but bootstrap.min.css set `[hidden] { display: none !important; }` so we also need the `!important` here to be able to override the default hidden behavior on the sphinx rendered scikit-learn.org. See: https://github.com/scikit-learn/scikit-learn/issues/21755 */display: inline-block !important;position: relative;}#sk-container-id-10 div.sk-text-repr-fallback {display: none;}</style><div id=\"sk-container-id-10\" class=\"sk-top-container\"><div class=\"sk-text-repr-fallback\"><pre>LogisticRegression()</pre><b>In a Jupyter environment, please rerun this cell to show the HTML representation or trust the notebook. <br />On GitHub, the HTML representation is unable to render, please try loading this page with nbviewer.org.</b></div><div class=\"sk-container\" hidden><div class=\"sk-item\"><div class=\"sk-estimator sk-toggleable\"><input class=\"sk-toggleable__control sk-hidden--visually\" id=\"sk-estimator-id-10\" type=\"checkbox\" checked><label for=\"sk-estimator-id-10\" class=\"sk-toggleable__label sk-toggleable__label-arrow\">LogisticRegression</label><div class=\"sk-toggleable__content\"><pre>LogisticRegression()</pre></div></div></div></div></div>"
      ],
      "text/plain": [
       "LogisticRegression()"
      ]
     },
     "execution_count": 232,
     "metadata": {},
     "output_type": "execute_result"
    }
   ],
   "source": [
    "model13.fit(x_train,y_train)"
   ]
  },
  {
   "cell_type": "code",
   "execution_count": 233,
   "id": "e21ede8c",
   "metadata": {
    "execution": {
     "iopub.execute_input": "2023-01-13T19:52:23.040711Z",
     "iopub.status.busy": "2023-01-13T19:52:23.039922Z",
     "iopub.status.idle": "2023-01-13T19:52:23.044335Z",
     "shell.execute_reply": "2023-01-13T19:52:23.043565Z"
    },
    "papermill": {
     "duration": 0.06156,
     "end_time": "2023-01-13T19:52:23.046443",
     "exception": false,
     "start_time": "2023-01-13T19:52:22.984883",
     "status": "completed"
    },
    "tags": []
   },
   "outputs": [
    {
     "data": {
      "text/plain": [
       "0.9235843870258383"
      ]
     },
     "execution_count": 233,
     "metadata": {},
     "output_type": "execute_result"
    }
   ],
   "source": [
    "model13.score(x_test,y_test_main)"
   ]
  },
  {
   "cell_type": "code",
   "execution_count": 234,
   "id": "df02a4d1",
   "metadata": {
    "execution": {
     "iopub.execute_input": "2023-01-13T19:52:23.154721Z",
     "iopub.status.busy": "2023-01-13T19:52:23.154041Z",
     "iopub.status.idle": "2023-01-13T19:52:23.158273Z",
     "shell.execute_reply": "2023-01-13T19:52:23.157420Z"
    },
    "papermill": {
     "duration": 0.061464,
     "end_time": "2023-01-13T19:52:23.160296",
     "exception": false,
     "start_time": "2023-01-13T19:52:23.098832",
     "status": "completed"
    },
    "tags": []
   },
   "outputs": [],
   "source": [
    "#y_pred13 = model13.predict(x_test3[imp])"
   ]
  },
  {
   "cell_type": "code",
   "execution_count": 235,
   "id": "62b4397f",
   "metadata": {
    "execution": {
     "iopub.execute_input": "2023-01-13T19:52:23.268463Z",
     "iopub.status.busy": "2023-01-13T19:52:23.267753Z",
     "iopub.status.idle": "2023-01-13T19:52:23.271603Z",
     "shell.execute_reply": "2023-01-13T19:52:23.270875Z"
    },
    "papermill": {
     "duration": 0.060244,
     "end_time": "2023-01-13T19:52:23.273619",
     "exception": false,
     "start_time": "2023-01-13T19:52:23.213375",
     "status": "completed"
    },
    "tags": []
   },
   "outputs": [],
   "source": [
    "# submission = pd.DataFrame(columns=[\"id\",\"Made_Purchase\"])\n",
    "# submission['id']=[i for i in range(len(y_pred13))]\n",
    "# submission[\"Made_Purchase\"] = y_pred13\n",
    "# submission.to_csv(\"submission.csv\",index=False)"
   ]
  },
  {
   "cell_type": "code",
   "execution_count": 236,
   "id": "ab7fbbbf",
   "metadata": {
    "execution": {
     "iopub.execute_input": "2023-01-13T19:52:23.380942Z",
     "iopub.status.busy": "2023-01-13T19:52:23.380165Z",
     "iopub.status.idle": "2023-01-13T19:52:23.384456Z",
     "shell.execute_reply": "2023-01-13T19:52:23.383605Z"
    },
    "papermill": {
     "duration": 0.060527,
     "end_time": "2023-01-13T19:52:23.386466",
     "exception": false,
     "start_time": "2023-01-13T19:52:23.325939",
     "status": "completed"
    },
    "tags": []
   },
   "outputs": [],
   "source": [
    "#os.remove('submission.csv')"
   ]
  },
  {
   "cell_type": "code",
   "execution_count": 237,
   "id": "4d2894b2",
   "metadata": {
    "execution": {
     "iopub.execute_input": "2023-01-13T19:52:25.300161Z",
     "iopub.status.busy": "2023-01-13T19:52:25.299669Z",
     "iopub.status.idle": "2023-01-13T19:52:25.385437Z",
     "shell.execute_reply": "2023-01-13T19:52:25.384242Z"
    },
    "papermill": {
     "duration": 0.143399,
     "end_time": "2023-01-13T19:52:25.388233",
     "exception": false,
     "start_time": "2023-01-13T19:52:25.244834",
     "status": "completed"
    },
    "tags": []
   },
   "outputs": [],
   "source": [
    "# y_pred14 = model14.predict(x_test3[imp])"
   ]
  },
  {
   "cell_type": "code",
   "execution_count": 238,
   "id": "46f5a8b6",
   "metadata": {
    "execution": {
     "iopub.execute_input": "2023-01-13T19:52:25.495075Z",
     "iopub.status.busy": "2023-01-13T19:52:25.494626Z",
     "iopub.status.idle": "2023-01-13T19:52:25.519355Z",
     "shell.execute_reply": "2023-01-13T19:52:25.517931Z"
    },
    "papermill": {
     "duration": 0.081681,
     "end_time": "2023-01-13T19:52:25.522166",
     "exception": false,
     "start_time": "2023-01-13T19:52:25.440485",
     "status": "completed"
    },
    "tags": []
   },
   "outputs": [],
   "source": [
    "# submission = pd.DataFrame(columns=[\"id\",\"Made_Purchase\"])\n",
    "# submission['id']=[i for i in range(len(y_pred14))]\n",
    "# submission[\"Made_Purchase\"] = y_pred14\n",
    "# submission.to_csv(\"submission.csv\",index=False)"
   ]
  },
  {
   "cell_type": "code",
   "execution_count": 239,
   "id": "d25ad497",
   "metadata": {
    "papermill": {
     "duration": 0.054617,
     "end_time": "2023-01-13T19:52:25.630578",
     "exception": false,
     "start_time": "2023-01-13T19:52:25.575961",
     "status": "completed"
    },
    "tags": []
   },
   "outputs": [],
   "source": [
    "from sklearn.ensemble import StackingClassifier"
   ]
  },
  {
   "cell_type": "code",
   "execution_count": 240,
   "id": "e8a63a98",
   "metadata": {},
   "outputs": [],
   "source": [
    "estimators=[('per',model1),('gbc',model10)]   #('sgd',model2),('ada',model9),('gnb',model12),"
   ]
  },
  {
   "cell_type": "code",
   "execution_count": 241,
   "id": "0c6b923f",
   "metadata": {},
   "outputs": [],
   "source": [
    "model15 = StackingClassifier(estimators=[('perceptron',model1),('gradientboostingclassifier',model10)],final_estimator=LogisticRegression())"
   ]
  },
  {
   "cell_type": "code",
   "execution_count": 242,
   "id": "477e5831",
   "metadata": {
    "scrolled": true
   },
   "outputs": [
    {
     "name": "stderr",
     "output_type": "stream",
     "text": [
      "C:\\Users\\HP\\anaconda3\\lib\\site-packages\\sklearn\\preprocessing\\_label.py:99: DataConversionWarning: A column-vector y was passed when a 1d array was expected. Please change the shape of y to (n_samples, ), for example using ravel().\n",
      "  y = column_or_1d(y, warn=True)\n",
      "C:\\Users\\HP\\anaconda3\\lib\\site-packages\\sklearn\\preprocessing\\_label.py:134: DataConversionWarning: A column-vector y was passed when a 1d array was expected. Please change the shape of y to (n_samples, ), for example using ravel().\n",
      "  y = column_or_1d(y, dtype=self.classes_.dtype, warn=True)\n"
     ]
    },
    {
     "data": {
      "text/html": [
       "<style>#sk-container-id-11 {color: black;background-color: white;}#sk-container-id-11 pre{padding: 0;}#sk-container-id-11 div.sk-toggleable {background-color: white;}#sk-container-id-11 label.sk-toggleable__label {cursor: pointer;display: block;width: 100%;margin-bottom: 0;padding: 0.3em;box-sizing: border-box;text-align: center;}#sk-container-id-11 label.sk-toggleable__label-arrow:before {content: \"▸\";float: left;margin-right: 0.25em;color: #696969;}#sk-container-id-11 label.sk-toggleable__label-arrow:hover:before {color: black;}#sk-container-id-11 div.sk-estimator:hover label.sk-toggleable__label-arrow:before {color: black;}#sk-container-id-11 div.sk-toggleable__content {max-height: 0;max-width: 0;overflow: hidden;text-align: left;background-color: #f0f8ff;}#sk-container-id-11 div.sk-toggleable__content pre {margin: 0.2em;color: black;border-radius: 0.25em;background-color: #f0f8ff;}#sk-container-id-11 input.sk-toggleable__control:checked~div.sk-toggleable__content {max-height: 200px;max-width: 100%;overflow: auto;}#sk-container-id-11 input.sk-toggleable__control:checked~label.sk-toggleable__label-arrow:before {content: \"▾\";}#sk-container-id-11 div.sk-estimator input.sk-toggleable__control:checked~label.sk-toggleable__label {background-color: #d4ebff;}#sk-container-id-11 div.sk-label input.sk-toggleable__control:checked~label.sk-toggleable__label {background-color: #d4ebff;}#sk-container-id-11 input.sk-hidden--visually {border: 0;clip: rect(1px 1px 1px 1px);clip: rect(1px, 1px, 1px, 1px);height: 1px;margin: -1px;overflow: hidden;padding: 0;position: absolute;width: 1px;}#sk-container-id-11 div.sk-estimator {font-family: monospace;background-color: #f0f8ff;border: 1px dotted black;border-radius: 0.25em;box-sizing: border-box;margin-bottom: 0.5em;}#sk-container-id-11 div.sk-estimator:hover {background-color: #d4ebff;}#sk-container-id-11 div.sk-parallel-item::after {content: \"\";width: 100%;border-bottom: 1px solid gray;flex-grow: 1;}#sk-container-id-11 div.sk-label:hover label.sk-toggleable__label {background-color: #d4ebff;}#sk-container-id-11 div.sk-serial::before {content: \"\";position: absolute;border-left: 1px solid gray;box-sizing: border-box;top: 0;bottom: 0;left: 50%;z-index: 0;}#sk-container-id-11 div.sk-serial {display: flex;flex-direction: column;align-items: center;background-color: white;padding-right: 0.2em;padding-left: 0.2em;position: relative;}#sk-container-id-11 div.sk-item {position: relative;z-index: 1;}#sk-container-id-11 div.sk-parallel {display: flex;align-items: stretch;justify-content: center;background-color: white;position: relative;}#sk-container-id-11 div.sk-item::before, #sk-container-id-11 div.sk-parallel-item::before {content: \"\";position: absolute;border-left: 1px solid gray;box-sizing: border-box;top: 0;bottom: 0;left: 50%;z-index: -1;}#sk-container-id-11 div.sk-parallel-item {display: flex;flex-direction: column;z-index: 1;position: relative;background-color: white;}#sk-container-id-11 div.sk-parallel-item:first-child::after {align-self: flex-end;width: 50%;}#sk-container-id-11 div.sk-parallel-item:last-child::after {align-self: flex-start;width: 50%;}#sk-container-id-11 div.sk-parallel-item:only-child::after {width: 0;}#sk-container-id-11 div.sk-dashed-wrapped {border: 1px dashed gray;margin: 0 0.4em 0.5em 0.4em;box-sizing: border-box;padding-bottom: 0.4em;background-color: white;}#sk-container-id-11 div.sk-label label {font-family: monospace;font-weight: bold;display: inline-block;line-height: 1.2em;}#sk-container-id-11 div.sk-label-container {text-align: center;}#sk-container-id-11 div.sk-container {/* jupyter's `normalize.less` sets `[hidden] { display: none; }` but bootstrap.min.css set `[hidden] { display: none !important; }` so we also need the `!important` here to be able to override the default hidden behavior on the sphinx rendered scikit-learn.org. See: https://github.com/scikit-learn/scikit-learn/issues/21755 */display: inline-block !important;position: relative;}#sk-container-id-11 div.sk-text-repr-fallback {display: none;}</style><div id=\"sk-container-id-11\" class=\"sk-top-container\"><div class=\"sk-text-repr-fallback\"><pre>StackingClassifier(estimators=[(&#x27;perceptron&#x27;,\n",
       "                                Perceptron(alpha=0.01, penalty=&#x27;elasticnet&#x27;,\n",
       "                                           random_state=42)),\n",
       "                               (&#x27;gradientboostingclassifier&#x27;,\n",
       "                                GradientBoostingClassifier())],\n",
       "                   final_estimator=LogisticRegression())</pre><b>In a Jupyter environment, please rerun this cell to show the HTML representation or trust the notebook. <br />On GitHub, the HTML representation is unable to render, please try loading this page with nbviewer.org.</b></div><div class=\"sk-container\" hidden><div class=\"sk-item sk-dashed-wrapped\"><div class=\"sk-label-container\"><div class=\"sk-label sk-toggleable\"><input class=\"sk-toggleable__control sk-hidden--visually\" id=\"sk-estimator-id-11\" type=\"checkbox\" ><label for=\"sk-estimator-id-11\" class=\"sk-toggleable__label sk-toggleable__label-arrow\">StackingClassifier</label><div class=\"sk-toggleable__content\"><pre>StackingClassifier(estimators=[(&#x27;perceptron&#x27;,\n",
       "                                Perceptron(alpha=0.01, penalty=&#x27;elasticnet&#x27;,\n",
       "                                           random_state=42)),\n",
       "                               (&#x27;gradientboostingclassifier&#x27;,\n",
       "                                GradientBoostingClassifier())],\n",
       "                   final_estimator=LogisticRegression())</pre></div></div></div><div class=\"sk-serial\"><div class=\"sk-item\"><div class=\"sk-parallel\"><div class=\"sk-parallel-item\"><div class=\"sk-item\"><div class=\"sk-label-container\"><div class=\"sk-label sk-toggleable\"><label>perceptron</label></div></div><div class=\"sk-serial\"><div class=\"sk-item\"><div class=\"sk-estimator sk-toggleable\"><input class=\"sk-toggleable__control sk-hidden--visually\" id=\"sk-estimator-id-12\" type=\"checkbox\" ><label for=\"sk-estimator-id-12\" class=\"sk-toggleable__label sk-toggleable__label-arrow\">Perceptron</label><div class=\"sk-toggleable__content\"><pre>Perceptron(alpha=0.01, penalty=&#x27;elasticnet&#x27;, random_state=42)</pre></div></div></div></div></div></div><div class=\"sk-parallel-item\"><div class=\"sk-item\"><div class=\"sk-label-container\"><div class=\"sk-label sk-toggleable\"><label>gradientboostingclassifier</label></div></div><div class=\"sk-serial\"><div class=\"sk-item\"><div class=\"sk-estimator sk-toggleable\"><input class=\"sk-toggleable__control sk-hidden--visually\" id=\"sk-estimator-id-13\" type=\"checkbox\" ><label for=\"sk-estimator-id-13\" class=\"sk-toggleable__label sk-toggleable__label-arrow\">GradientBoostingClassifier</label><div class=\"sk-toggleable__content\"><pre>GradientBoostingClassifier()</pre></div></div></div></div></div></div></div></div><div class=\"sk-item\"><div class=\"sk-parallel\"><div class=\"sk-parallel-item\"><div class=\"sk-item\"><div class=\"sk-label-container\"><div class=\"sk-label sk-toggleable\"><label>final_estimator</label></div></div><div class=\"sk-serial\"><div class=\"sk-item\"><div class=\"sk-estimator sk-toggleable\"><input class=\"sk-toggleable__control sk-hidden--visually\" id=\"sk-estimator-id-14\" type=\"checkbox\" ><label for=\"sk-estimator-id-14\" class=\"sk-toggleable__label sk-toggleable__label-arrow\">LogisticRegression</label><div class=\"sk-toggleable__content\"><pre>LogisticRegression()</pre></div></div></div></div></div></div></div></div></div></div></div></div>"
      ],
      "text/plain": [
       "StackingClassifier(estimators=[('perceptron',\n",
       "                                Perceptron(alpha=0.01, penalty='elasticnet',\n",
       "                                           random_state=42)),\n",
       "                               ('gradientboostingclassifier',\n",
       "                                GradientBoostingClassifier())],\n",
       "                   final_estimator=LogisticRegression())"
      ]
     },
     "execution_count": 242,
     "metadata": {},
     "output_type": "execute_result"
    }
   ],
   "source": [
    "model15.fit(x_train,y_train)"
   ]
  },
  {
   "cell_type": "code",
   "execution_count": 243,
   "id": "f0e9975d",
   "metadata": {},
   "outputs": [
    {
     "data": {
      "text/plain": [
       "0.9279824079164376"
      ]
     },
     "execution_count": 243,
     "metadata": {},
     "output_type": "execute_result"
    }
   ],
   "source": [
    "model15.score(x_test,y_test_main)"
   ]
  },
  {
   "cell_type": "code",
   "execution_count": 244,
   "id": "6a15f4b9",
   "metadata": {},
   "outputs": [],
   "source": [
    "from sklearn.ensemble import VotingClassifier"
   ]
  },
  {
   "cell_type": "code",
   "execution_count": 245,
   "id": "24ca21d9",
   "metadata": {},
   "outputs": [],
   "source": [
    "estimators1=[('per',model1),('ada',model9),('gbc',model10),('gnb',model12)]   #('sgd',model2),('gnb',model12),"
   ]
  },
  {
   "cell_type": "code",
   "execution_count": 246,
   "id": "9a95e42f",
   "metadata": {},
   "outputs": [],
   "source": [
    "model16=VotingClassifier(estimators=estimators1)"
   ]
  },
  {
   "cell_type": "code",
   "execution_count": 247,
   "id": "db310848",
   "metadata": {},
   "outputs": [
    {
     "name": "stderr",
     "output_type": "stream",
     "text": [
      "C:\\Users\\HP\\anaconda3\\lib\\site-packages\\sklearn\\preprocessing\\_label.py:99: DataConversionWarning: A column-vector y was passed when a 1d array was expected. Please change the shape of y to (n_samples, ), for example using ravel().\n",
      "  y = column_or_1d(y, warn=True)\n",
      "C:\\Users\\HP\\anaconda3\\lib\\site-packages\\sklearn\\preprocessing\\_label.py:134: DataConversionWarning: A column-vector y was passed when a 1d array was expected. Please change the shape of y to (n_samples, ), for example using ravel().\n",
      "  y = column_or_1d(y, dtype=self.classes_.dtype, warn=True)\n"
     ]
    },
    {
     "data": {
      "text/html": [
       "<style>#sk-container-id-12 {color: black;background-color: white;}#sk-container-id-12 pre{padding: 0;}#sk-container-id-12 div.sk-toggleable {background-color: white;}#sk-container-id-12 label.sk-toggleable__label {cursor: pointer;display: block;width: 100%;margin-bottom: 0;padding: 0.3em;box-sizing: border-box;text-align: center;}#sk-container-id-12 label.sk-toggleable__label-arrow:before {content: \"▸\";float: left;margin-right: 0.25em;color: #696969;}#sk-container-id-12 label.sk-toggleable__label-arrow:hover:before {color: black;}#sk-container-id-12 div.sk-estimator:hover label.sk-toggleable__label-arrow:before {color: black;}#sk-container-id-12 div.sk-toggleable__content {max-height: 0;max-width: 0;overflow: hidden;text-align: left;background-color: #f0f8ff;}#sk-container-id-12 div.sk-toggleable__content pre {margin: 0.2em;color: black;border-radius: 0.25em;background-color: #f0f8ff;}#sk-container-id-12 input.sk-toggleable__control:checked~div.sk-toggleable__content {max-height: 200px;max-width: 100%;overflow: auto;}#sk-container-id-12 input.sk-toggleable__control:checked~label.sk-toggleable__label-arrow:before {content: \"▾\";}#sk-container-id-12 div.sk-estimator input.sk-toggleable__control:checked~label.sk-toggleable__label {background-color: #d4ebff;}#sk-container-id-12 div.sk-label input.sk-toggleable__control:checked~label.sk-toggleable__label {background-color: #d4ebff;}#sk-container-id-12 input.sk-hidden--visually {border: 0;clip: rect(1px 1px 1px 1px);clip: rect(1px, 1px, 1px, 1px);height: 1px;margin: -1px;overflow: hidden;padding: 0;position: absolute;width: 1px;}#sk-container-id-12 div.sk-estimator {font-family: monospace;background-color: #f0f8ff;border: 1px dotted black;border-radius: 0.25em;box-sizing: border-box;margin-bottom: 0.5em;}#sk-container-id-12 div.sk-estimator:hover {background-color: #d4ebff;}#sk-container-id-12 div.sk-parallel-item::after {content: \"\";width: 100%;border-bottom: 1px solid gray;flex-grow: 1;}#sk-container-id-12 div.sk-label:hover label.sk-toggleable__label {background-color: #d4ebff;}#sk-container-id-12 div.sk-serial::before {content: \"\";position: absolute;border-left: 1px solid gray;box-sizing: border-box;top: 0;bottom: 0;left: 50%;z-index: 0;}#sk-container-id-12 div.sk-serial {display: flex;flex-direction: column;align-items: center;background-color: white;padding-right: 0.2em;padding-left: 0.2em;position: relative;}#sk-container-id-12 div.sk-item {position: relative;z-index: 1;}#sk-container-id-12 div.sk-parallel {display: flex;align-items: stretch;justify-content: center;background-color: white;position: relative;}#sk-container-id-12 div.sk-item::before, #sk-container-id-12 div.sk-parallel-item::before {content: \"\";position: absolute;border-left: 1px solid gray;box-sizing: border-box;top: 0;bottom: 0;left: 50%;z-index: -1;}#sk-container-id-12 div.sk-parallel-item {display: flex;flex-direction: column;z-index: 1;position: relative;background-color: white;}#sk-container-id-12 div.sk-parallel-item:first-child::after {align-self: flex-end;width: 50%;}#sk-container-id-12 div.sk-parallel-item:last-child::after {align-self: flex-start;width: 50%;}#sk-container-id-12 div.sk-parallel-item:only-child::after {width: 0;}#sk-container-id-12 div.sk-dashed-wrapped {border: 1px dashed gray;margin: 0 0.4em 0.5em 0.4em;box-sizing: border-box;padding-bottom: 0.4em;background-color: white;}#sk-container-id-12 div.sk-label label {font-family: monospace;font-weight: bold;display: inline-block;line-height: 1.2em;}#sk-container-id-12 div.sk-label-container {text-align: center;}#sk-container-id-12 div.sk-container {/* jupyter's `normalize.less` sets `[hidden] { display: none; }` but bootstrap.min.css set `[hidden] { display: none !important; }` so we also need the `!important` here to be able to override the default hidden behavior on the sphinx rendered scikit-learn.org. See: https://github.com/scikit-learn/scikit-learn/issues/21755 */display: inline-block !important;position: relative;}#sk-container-id-12 div.sk-text-repr-fallback {display: none;}</style><div id=\"sk-container-id-12\" class=\"sk-top-container\"><div class=\"sk-text-repr-fallback\"><pre>VotingClassifier(estimators=[(&#x27;per&#x27;,\n",
       "                              Perceptron(alpha=0.01, penalty=&#x27;elasticnet&#x27;,\n",
       "                                         random_state=42)),\n",
       "                             (&#x27;ada&#x27;, AdaBoostClassifier(random_state=123)),\n",
       "                             (&#x27;gbc&#x27;, GradientBoostingClassifier()),\n",
       "                             (&#x27;gnb&#x27;, GaussianNB())])</pre><b>In a Jupyter environment, please rerun this cell to show the HTML representation or trust the notebook. <br />On GitHub, the HTML representation is unable to render, please try loading this page with nbviewer.org.</b></div><div class=\"sk-container\" hidden><div class=\"sk-item sk-dashed-wrapped\"><div class=\"sk-label-container\"><div class=\"sk-label sk-toggleable\"><input class=\"sk-toggleable__control sk-hidden--visually\" id=\"sk-estimator-id-15\" type=\"checkbox\" ><label for=\"sk-estimator-id-15\" class=\"sk-toggleable__label sk-toggleable__label-arrow\">VotingClassifier</label><div class=\"sk-toggleable__content\"><pre>VotingClassifier(estimators=[(&#x27;per&#x27;,\n",
       "                              Perceptron(alpha=0.01, penalty=&#x27;elasticnet&#x27;,\n",
       "                                         random_state=42)),\n",
       "                             (&#x27;ada&#x27;, AdaBoostClassifier(random_state=123)),\n",
       "                             (&#x27;gbc&#x27;, GradientBoostingClassifier()),\n",
       "                             (&#x27;gnb&#x27;, GaussianNB())])</pre></div></div></div><div class=\"sk-parallel\"><div class=\"sk-parallel-item\"><div class=\"sk-item\"><div class=\"sk-label-container\"><div class=\"sk-label sk-toggleable\"><label>per</label></div></div><div class=\"sk-serial\"><div class=\"sk-item\"><div class=\"sk-estimator sk-toggleable\"><input class=\"sk-toggleable__control sk-hidden--visually\" id=\"sk-estimator-id-16\" type=\"checkbox\" ><label for=\"sk-estimator-id-16\" class=\"sk-toggleable__label sk-toggleable__label-arrow\">Perceptron</label><div class=\"sk-toggleable__content\"><pre>Perceptron(alpha=0.01, penalty=&#x27;elasticnet&#x27;, random_state=42)</pre></div></div></div></div></div></div><div class=\"sk-parallel-item\"><div class=\"sk-item\"><div class=\"sk-label-container\"><div class=\"sk-label sk-toggleable\"><label>ada</label></div></div><div class=\"sk-serial\"><div class=\"sk-item\"><div class=\"sk-estimator sk-toggleable\"><input class=\"sk-toggleable__control sk-hidden--visually\" id=\"sk-estimator-id-17\" type=\"checkbox\" ><label for=\"sk-estimator-id-17\" class=\"sk-toggleable__label sk-toggleable__label-arrow\">AdaBoostClassifier</label><div class=\"sk-toggleable__content\"><pre>AdaBoostClassifier(random_state=123)</pre></div></div></div></div></div></div><div class=\"sk-parallel-item\"><div class=\"sk-item\"><div class=\"sk-label-container\"><div class=\"sk-label sk-toggleable\"><label>gbc</label></div></div><div class=\"sk-serial\"><div class=\"sk-item\"><div class=\"sk-estimator sk-toggleable\"><input class=\"sk-toggleable__control sk-hidden--visually\" id=\"sk-estimator-id-18\" type=\"checkbox\" ><label for=\"sk-estimator-id-18\" class=\"sk-toggleable__label sk-toggleable__label-arrow\">GradientBoostingClassifier</label><div class=\"sk-toggleable__content\"><pre>GradientBoostingClassifier()</pre></div></div></div></div></div></div><div class=\"sk-parallel-item\"><div class=\"sk-item\"><div class=\"sk-label-container\"><div class=\"sk-label sk-toggleable\"><label>gnb</label></div></div><div class=\"sk-serial\"><div class=\"sk-item\"><div class=\"sk-estimator sk-toggleable\"><input class=\"sk-toggleable__control sk-hidden--visually\" id=\"sk-estimator-id-19\" type=\"checkbox\" ><label for=\"sk-estimator-id-19\" class=\"sk-toggleable__label sk-toggleable__label-arrow\">GaussianNB</label><div class=\"sk-toggleable__content\"><pre>GaussianNB()</pre></div></div></div></div></div></div></div></div></div></div>"
      ],
      "text/plain": [
       "VotingClassifier(estimators=[('per',\n",
       "                              Perceptron(alpha=0.01, penalty='elasticnet',\n",
       "                                         random_state=42)),\n",
       "                             ('ada', AdaBoostClassifier(random_state=123)),\n",
       "                             ('gbc', GradientBoostingClassifier()),\n",
       "                             ('gnb', GaussianNB())])"
      ]
     },
     "execution_count": 247,
     "metadata": {},
     "output_type": "execute_result"
    }
   ],
   "source": [
    "model16.fit(x_train,y_train)"
   ]
  },
  {
   "cell_type": "code",
   "execution_count": 248,
   "id": "675bccd7",
   "metadata": {},
   "outputs": [
    {
     "data": {
      "text/plain": [
       "0.9070918086860913"
      ]
     },
     "execution_count": 248,
     "metadata": {},
     "output_type": "execute_result"
    }
   ],
   "source": [
    "model16.score(x_test,y_test_main)"
   ]
  },
  {
   "cell_type": "code",
   "execution_count": 249,
   "id": "5d5cb450",
   "metadata": {},
   "outputs": [
    {
     "name": "stdout",
     "output_type": "stream",
     "text": [
      "Requirement already satisfied: catboost in c:\\users\\hp\\anaconda3\\lib\\site-packages (1.2)\n",
      "Requirement already satisfied: graphviz in c:\\users\\hp\\anaconda3\\lib\\site-packages (from catboost) (0.20.1)\n",
      "Requirement already satisfied: plotly in c:\\users\\hp\\anaconda3\\lib\\site-packages (from catboost) (5.9.0)\n",
      "Requirement already satisfied: numpy>=1.16.0 in c:\\users\\hp\\anaconda3\\lib\\site-packages (from catboost) (1.23.5)\n",
      "Requirement already satisfied: scipy in c:\\users\\hp\\anaconda3\\lib\\site-packages (from catboost) (1.10.0)\n",
      "Requirement already satisfied: six in c:\\users\\hp\\anaconda3\\lib\\site-packages (from catboost) (1.16.0)\n",
      "Requirement already satisfied: pandas>=0.24 in c:\\users\\hp\\anaconda3\\lib\\site-packages (from catboost) (1.5.3)\n",
      "Requirement already satisfied: matplotlib in c:\\users\\hp\\anaconda3\\lib\\site-packages (from catboost) (3.7.0)\n",
      "Requirement already satisfied: pytz>=2020.1 in c:\\users\\hp\\anaconda3\\lib\\site-packages (from pandas>=0.24->catboost) (2022.7)\n",
      "Requirement already satisfied: python-dateutil>=2.8.1 in c:\\users\\hp\\anaconda3\\lib\\site-packages (from pandas>=0.24->catboost) (2.8.2)\n",
      "Requirement already satisfied: contourpy>=1.0.1 in c:\\users\\hp\\anaconda3\\lib\\site-packages (from matplotlib->catboost) (1.0.5)\n",
      "Requirement already satisfied: pyparsing>=2.3.1 in c:\\users\\hp\\anaconda3\\lib\\site-packages (from matplotlib->catboost) (3.0.9)\n",
      "Requirement already satisfied: fonttools>=4.22.0 in c:\\users\\hp\\anaconda3\\lib\\site-packages (from matplotlib->catboost) (4.25.0)\n",
      "Requirement already satisfied: kiwisolver>=1.0.1 in c:\\users\\hp\\anaconda3\\lib\\site-packages (from matplotlib->catboost) (1.4.4)\n",
      "Requirement already satisfied: cycler>=0.10 in c:\\users\\hp\\anaconda3\\lib\\site-packages (from matplotlib->catboost) (0.11.0)\n",
      "Requirement already satisfied: packaging>=20.0 in c:\\users\\hp\\anaconda3\\lib\\site-packages (from matplotlib->catboost) (22.0)\n",
      "Requirement already satisfied: pillow>=6.2.0 in c:\\users\\hp\\anaconda3\\lib\\site-packages (from matplotlib->catboost) (9.4.0)\n",
      "Requirement already satisfied: tenacity>=6.2.0 in c:\\users\\hp\\anaconda3\\lib\\site-packages (from plotly->catboost) (8.0.1)\n",
      "Note: you may need to restart the kernel to use updated packages.\n"
     ]
    }
   ],
   "source": [
    "pip install catboost"
   ]
  },
  {
   "cell_type": "code",
   "execution_count": 250,
   "id": "763ebfe2",
   "metadata": {},
   "outputs": [],
   "source": [
    "from catboost import CatBoostClassifier"
   ]
  },
  {
   "cell_type": "code",
   "execution_count": 251,
   "id": "15232b81",
   "metadata": {},
   "outputs": [
    {
     "data": {
      "text/plain": [
       "<catboost.core.CatBoostClassifier at 0x1d6e17aa650>"
      ]
     },
     "execution_count": 251,
     "metadata": {},
     "output_type": "execute_result"
    }
   ],
   "source": [
    "cat_model = CatBoostClassifier(verbose=0)\n",
    "cat_model.fit(x_train,y_train)"
   ]
  },
  {
   "cell_type": "code",
   "execution_count": 252,
   "id": "0b80face",
   "metadata": {},
   "outputs": [],
   "source": [
    "y_test_main1 = y_test_main.astype(str)"
   ]
  },
  {
   "cell_type": "code",
   "execution_count": 253,
   "id": "d9c66c72",
   "metadata": {},
   "outputs": [
    {
     "data": {
      "text/plain": [
       "0.9387025838372732"
      ]
     },
     "execution_count": 253,
     "metadata": {},
     "output_type": "execute_result"
    }
   ],
   "source": [
    "cat_model.score(x_test,y_test_main1)"
   ]
  },
  {
   "cell_type": "code",
   "execution_count": 254,
   "id": "fd5e7440",
   "metadata": {},
   "outputs": [
    {
     "data": {
      "text/plain": [
       "5050"
      ]
     },
     "execution_count": 254,
     "metadata": {},
     "output_type": "execute_result"
    }
   ],
   "source": [
    "sum1 = 0\n",
    "for i in range(101):\n",
    "    sum1= sum1+i\n",
    "sum1"
   ]
  },
  {
   "cell_type": "code",
   "execution_count": 255,
   "id": "ec8ce843",
   "metadata": {},
   "outputs": [
    {
     "data": {
      "text/plain": [
       "[1, 4, 9, 16]"
      ]
     },
     "execution_count": 255,
     "metadata": {},
     "output_type": "execute_result"
    }
   ],
   "source": [
    "list1 = [1,2,3,4]\n",
    "list2=[i*i for i in list1]\n",
    "list2"
   ]
  },
  {
   "cell_type": "code",
   "execution_count": null,
   "id": "23aa9ead",
   "metadata": {},
   "outputs": [],
   "source": [
    "data1"
   ]
  },
  {
   "cell_type": "code",
   "execution_count": 256,
   "id": "f78f1d35",
   "metadata": {},
   "outputs": [
    {
     "name": "stdout",
     "output_type": "stream",
     "text": [
      "   a  b\n",
      "0  1  1\n",
      "1  2  2\n",
      "2  3  3\n",
      "3  4  4\n"
     ]
    }
   ],
   "source": [
    "data = pd.DataFrame()\n",
    "data['a'] = list1\n",
    "data['b'] = list1\n",
    "print(data)"
   ]
  },
  {
   "cell_type": "code",
   "execution_count": 259,
   "id": "7e97a989",
   "metadata": {},
   "outputs": [],
   "source": [
    "data['c'] = data['a']**data['b']"
   ]
  },
  {
   "cell_type": "code",
   "execution_count": 260,
   "id": "acaf6d2a",
   "metadata": {},
   "outputs": [
    {
     "data": {
      "text/html": [
       "<div>\n",
       "<style scoped>\n",
       "    .dataframe tbody tr th:only-of-type {\n",
       "        vertical-align: middle;\n",
       "    }\n",
       "\n",
       "    .dataframe tbody tr th {\n",
       "        vertical-align: top;\n",
       "    }\n",
       "\n",
       "    .dataframe thead th {\n",
       "        text-align: right;\n",
       "    }\n",
       "</style>\n",
       "<table border=\"1\" class=\"dataframe\">\n",
       "  <thead>\n",
       "    <tr style=\"text-align: right;\">\n",
       "      <th></th>\n",
       "      <th>a</th>\n",
       "      <th>b</th>\n",
       "      <th>c</th>\n",
       "    </tr>\n",
       "  </thead>\n",
       "  <tbody>\n",
       "    <tr>\n",
       "      <th>0</th>\n",
       "      <td>1</td>\n",
       "      <td>1</td>\n",
       "      <td>1</td>\n",
       "    </tr>\n",
       "    <tr>\n",
       "      <th>1</th>\n",
       "      <td>2</td>\n",
       "      <td>2</td>\n",
       "      <td>4</td>\n",
       "    </tr>\n",
       "    <tr>\n",
       "      <th>2</th>\n",
       "      <td>3</td>\n",
       "      <td>3</td>\n",
       "      <td>27</td>\n",
       "    </tr>\n",
       "    <tr>\n",
       "      <th>3</th>\n",
       "      <td>4</td>\n",
       "      <td>4</td>\n",
       "      <td>256</td>\n",
       "    </tr>\n",
       "  </tbody>\n",
       "</table>\n",
       "</div>"
      ],
      "text/plain": [
       "   a  b    c\n",
       "0  1  1    1\n",
       "1  2  2    4\n",
       "2  3  3   27\n",
       "3  4  4  256"
      ]
     },
     "execution_count": 260,
     "metadata": {},
     "output_type": "execute_result"
    }
   ],
   "source": [
    "data"
   ]
  },
  {
   "cell_type": "code",
   "execution_count": 261,
   "id": "3315fb05",
   "metadata": {},
   "outputs": [],
   "source": [
    "def ok(inte,inte2):\n",
    "    return(inte*inte2)"
   ]
  },
  {
   "cell_type": "code",
   "execution_count": 262,
   "id": "f407f78b",
   "metadata": {},
   "outputs": [],
   "source": [
    "data['d'] = ok(data['a'],data['b'])"
   ]
  },
  {
   "cell_type": "code",
   "execution_count": 263,
   "id": "9e8556d3",
   "metadata": {},
   "outputs": [
    {
     "data": {
      "text/html": [
       "<div>\n",
       "<style scoped>\n",
       "    .dataframe tbody tr th:only-of-type {\n",
       "        vertical-align: middle;\n",
       "    }\n",
       "\n",
       "    .dataframe tbody tr th {\n",
       "        vertical-align: top;\n",
       "    }\n",
       "\n",
       "    .dataframe thead th {\n",
       "        text-align: right;\n",
       "    }\n",
       "</style>\n",
       "<table border=\"1\" class=\"dataframe\">\n",
       "  <thead>\n",
       "    <tr style=\"text-align: right;\">\n",
       "      <th></th>\n",
       "      <th>a</th>\n",
       "      <th>b</th>\n",
       "      <th>c</th>\n",
       "      <th>d</th>\n",
       "    </tr>\n",
       "  </thead>\n",
       "  <tbody>\n",
       "    <tr>\n",
       "      <th>0</th>\n",
       "      <td>1</td>\n",
       "      <td>1</td>\n",
       "      <td>1</td>\n",
       "      <td>1</td>\n",
       "    </tr>\n",
       "    <tr>\n",
       "      <th>1</th>\n",
       "      <td>2</td>\n",
       "      <td>2</td>\n",
       "      <td>4</td>\n",
       "      <td>4</td>\n",
       "    </tr>\n",
       "    <tr>\n",
       "      <th>2</th>\n",
       "      <td>3</td>\n",
       "      <td>3</td>\n",
       "      <td>27</td>\n",
       "      <td>9</td>\n",
       "    </tr>\n",
       "    <tr>\n",
       "      <th>3</th>\n",
       "      <td>4</td>\n",
       "      <td>4</td>\n",
       "      <td>256</td>\n",
       "      <td>16</td>\n",
       "    </tr>\n",
       "  </tbody>\n",
       "</table>\n",
       "</div>"
      ],
      "text/plain": [
       "   a  b    c   d\n",
       "0  1  1    1   1\n",
       "1  2  2    4   4\n",
       "2  3  3   27   9\n",
       "3  4  4  256  16"
      ]
     },
     "execution_count": 263,
     "metadata": {},
     "output_type": "execute_result"
    }
   ],
   "source": [
    "data"
   ]
  },
  {
   "cell_type": "code",
   "execution_count": null,
   "id": "a6ca7fa2",
   "metadata": {},
   "outputs": [],
   "source": []
  }
 ],
 "metadata": {
  "kernelspec": {
   "display_name": "Python 3 (ipykernel)",
   "language": "python",
   "name": "python3"
  },
  "language_info": {
   "codemirror_mode": {
    "name": "ipython",
    "version": 3
   },
   "file_extension": ".py",
   "mimetype": "text/x-python",
   "name": "python",
   "nbconvert_exporter": "python",
   "pygments_lexer": "ipython3",
   "version": "3.10.9"
  },
  "papermill": {
   "default_parameters": {},
   "duration": 62.243053,
   "end_time": "2023-01-13T19:52:26.808159",
   "environment_variables": {},
   "exception": null,
   "input_path": "__notebook__.ipynb",
   "output_path": "__notebook__.ipynb",
   "parameters": {},
   "start_time": "2023-01-13T19:51:24.565106",
   "version": "2.3.4"
  }
 },
 "nbformat": 4,
 "nbformat_minor": 5
}
